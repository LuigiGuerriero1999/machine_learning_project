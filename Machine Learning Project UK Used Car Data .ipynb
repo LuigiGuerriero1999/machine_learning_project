{
 "cells": [
  {
   "cell_type": "markdown",
   "id": "381ce5f6",
   "metadata": {},
   "source": [
    "<h1 style=\"font-size:2.5em; color:#f5a442;\">Machine Learning [4483] Project: A second\n",
    "hand car price prediction\n",
    "system with additional trends and\n",
    "insights</h1>"
   ]
  },
  {
   "cell_type": "markdown",
   "id": "886b4b7a",
   "metadata": {},
   "source": [
    "<h2 style=\"font-size:1.5em; color:#808080;\">Kai Broux (r0745431) and Luigi Guerriero (r0760424)</h2>\n",
    "<h2 style=\"font-size:1.0em; color:#808080;\">Master's students IIW UHasselt-KULeuven Campus Diepenbeek</h2>"
   ]
  },
  {
   "cell_type": "markdown",
   "id": "09eb90df",
   "metadata": {},
   "source": [
    "# 1. Introduction"
   ]
  },
  {
   "cell_type": "markdown",
   "id": "b30b209d",
   "metadata": {},
   "source": [
    "The goal of our project is to make a price prediction system for used cars and to extract interesting information and insights. The price prediction model and insights can be extracted from a dataset of different used cars. The model and insights could be then later used as a tool for a second-hand car retailer to give insights to potential customers shopping for a second-hand car. Moreover, this price prediction model and insights tool may also come in handy for a customer looking to sell his/her car.\n",
    "\n",
    "This [`dataset`](https://www.kaggle.com/adityadesai13/used-car-dataset-ford-and-mercedes) contains data from 100 000 used cars from the UK which are divided into separate brands. Each brand is divided into a separate file and contains information about the model, year, price, transmission, mileage, fuel type, road tax, mpg and engine size."
   ]
  },
  {
   "cell_type": "markdown",
   "id": "f04b9769",
   "metadata": {},
   "source": [
    "Before we begin with the project, we need to import all libraries required for this project. Throughout the course, we will be using [`numpy`](http://www.numpy.org/) for all arrays and matrix operations, and [`matplotlib`](https://matplotlib.org/) for plotting. In this assignment, we will also use [`scipy`](https://docs.scipy.org/doc/scipy/reference/), which contains scientific and numerical computation functions and tools. "
   ]
  },
  {
   "cell_type": "code",
   "execution_count": 12,
   "id": "bc4f95a8",
   "metadata": {},
   "outputs": [],
   "source": [
    "# used for manipulating directory paths\n",
    "import os\n",
    "\n",
    "# Scientific and vector computation for python\n",
    "import numpy as np\n",
    "\n",
    "# used for importing .csv data\n",
    "import pandas as pd\n",
    "\n",
    "# Plotting library\n",
    "from matplotlib import pyplot\n",
    "from mpl_toolkits.mplot3d import Axes3D  # needed to plot 3-D surfaces\n",
    "\n",
    "# Optimization module in scipy\n",
    "from scipy import optimize\n",
    "\n",
    "# tells matplotlib to embed plots within the notebook\n",
    "%matplotlib inline"
   ]
  },
  {
   "cell_type": "markdown",
   "id": "8f25c34c",
   "metadata": {},
   "source": [
    "# 2. Project itself"
   ]
  },
  {
   "cell_type": "markdown",
   "id": "55943262",
   "metadata": {},
   "source": [
    "###  2.1 Loading in the data"
   ]
  },
  {
   "cell_type": "markdown",
   "id": "b98aa843",
   "metadata": {},
   "source": [
    "As mentioned in the introduction a separate file of a car brand is stored in a .csv file and consist of the following columns:\n",
    "\n",
    "    Model: Model type.\n",
    "    Year: Registration Year.\n",
    "    Price: Price in euros.\n",
    "    Transmission: Type of Gearbos.\n",
    "    Mileage: Distance Used.\n",
    "    FuelType: Engine Fuel.\n",
    "    Tax: Road Tax.\n",
    "    mpg: Miles per Gallon.\n",
    "    EngineSize: Size in litres.\n",
    "    Brand: Name of the car brand.\n",
    "\n",
    "Because the dataset also includes an abundance of information of a specefic car model, we will leave them outside of the dataset and only consider a brand with different models. Therefore we will leave out the `cclass.csv` and `focus.csv` files.\n",
    "\n",
    "To load in the dataset, we first have to load in the separate .csv files. "
   ]
  },
  {
   "cell_type": "code",
   "execution_count": 16,
   "id": "527c81b3",
   "metadata": {},
   "outputs": [],
   "source": [
    "audi = pd.read_csv(\"dataset/audi.csv\")\n",
    "bmw = pd.read_csv(\"dataset/bmw.csv\")\n",
    "ford = pd.read_csv(\"dataset/ford.csv\")\n",
    "hyundai = pd.read_csv(\"dataset/hyundi.csv\")\n",
    "mercedes = pd.read_csv(\"dataset/audi.csv\")\n",
    "skoda = pd.read_csv(\"dataset/audi.csv\")\n",
    "toyota = pd.read_csv(\"dataset/audi.csv\")\n",
    "vauxhall = pd.read_csv(\"dataset/audi.csv\")\n",
    "volkswagen = pd.read_csv(\"dataset/audi.csv\")\n"
   ]
  },
  {
   "cell_type": "code",
   "execution_count": null,
   "id": "f9126855",
   "metadata": {},
   "outputs": [],
   "source": []
  }
 ],
 "metadata": {
  "kernelspec": {
   "display_name": "Python 3",
   "language": "python",
   "name": "python3"
  },
  "language_info": {
   "codemirror_mode": {
    "name": "ipython",
    "version": 3
   },
   "file_extension": ".py",
   "mimetype": "text/x-python",
   "name": "python",
   "nbconvert_exporter": "python",
   "pygments_lexer": "ipython3",
   "version": "3.8.8"
  }
 },
 "nbformat": 4,
 "nbformat_minor": 5
}
