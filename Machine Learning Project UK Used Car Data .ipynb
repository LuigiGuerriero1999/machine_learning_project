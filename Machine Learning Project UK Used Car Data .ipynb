{
 "cells": [
  {
   "cell_type": "markdown",
   "id": "381ce5f6",
   "metadata": {},
   "source": [
    "<h1 style=\"font-size:2.5em; color:#f5a442;\">Machine Learning [4483] Project: A second\n",
    "hand car price prediction\n",
    "system with additional trends and\n",
    "insights</h1>"
   ]
  },
  {
   "cell_type": "markdown",
   "id": "886b4b7a",
   "metadata": {},
   "source": [
    "<h2 style=\"font-size:1.5em; color:#808080;\">Kai Broux (r0745431) and Luigi Guerriero (r0760424)</h2>\n",
    "<h2 style=\"font-size:1.0em; color:#808080;\">Master's students IIW UHasselt-KULeuven Campus Diepenbeek</h2>"
   ]
  },
  {
   "cell_type": "markdown",
   "id": "09eb90df",
   "metadata": {},
   "source": [
    "# 1. Introduction"
   ]
  },
  {
   "cell_type": "markdown",
   "id": "b30b209d",
   "metadata": {},
   "source": [
    "The goal of our project is to make a price prediction system for used cars and to extract interesting information and insights. The price prediction model and insights can be extracted from a dataset of different used cars. The model and insights could be then later used as a tool for a second-hand car retailer to give insights to potential customers shopping for a second-hand car. Moreover, this price prediction model and insights tool may also come in handy for a customer looking to sell his/her car.\n",
    "\n",
    "This [`dataset`](https://www.kaggle.com/adityadesai13/used-car-dataset-ford-and-mercedes) contains data from 100 000 used cars from the UK which are divided into separate brands. Each brand is divided into a separate file and contains information about the model, year, price, transmission, mileage, fuel type, road tax, mpg and engine size."
   ]
  },
  {
   "cell_type": "markdown",
   "id": "f04b9769",
   "metadata": {},
   "source": [
    "Before we begin with the project, we need to import all libraries required for this project. Throughout the course, we will be using [`numpy`](http://www.numpy.org/) for all arrays and matrix operations, and [`matplotlib`](https://matplotlib.org/) for plotting. In this assignment, we will also use [`scipy`](https://docs.scipy.org/doc/scipy/reference/), which contains scientific and numerical computation functions and tools. "
   ]
  },
  {
   "cell_type": "code",
   "execution_count": 193,
   "id": "bc4f95a8",
   "metadata": {},
   "outputs": [],
   "source": [
    "# used for manipulating directory paths\n",
    "import os\n",
    "\n",
    "# Scientific and vector computation for python\n",
    "import numpy as np\n",
    "\n",
    "# used for importing .csv data\n",
    "import pandas as pd\n",
    "\n",
    "# Plotting library\n",
    "from matplotlib import pyplot\n",
    "from mpl_toolkits.mplot3d import Axes3D  # needed to plot 3-D surfaces\n",
    "\n",
    "# Optimization module in scipy\n",
    "from scipy import optimize\n",
    "\n",
    "# Tools for extracting how much features and which features we need\n",
    "from sklearn.ensemble import RandomForestRegressor\n",
    "from sklearn.feature_selection import SelectKBest, f_regression\n",
    "from sklearn.linear_model import LinearRegression, Ridge, Lasso\n",
    "from sklearn.model_selection import train_test_split, cross_val_score\n",
    "from sklearn.neural_network import MLPRegressor\n",
    "from sklearn.preprocessing import StandardScaler\n",
    "from sklearn.preprocessing import PolynomialFeatures\n",
    "from sklearn.svm import SVR\n",
    "\n",
    "import scipy\n",
    "\n",
    "import seaborn as sbn\n",
    "\n",
    "# tells matplotlib to embed plots within the notebook\n",
    "%matplotlib inline"
   ]
  },
  {
   "cell_type": "markdown",
   "id": "8f25c34c",
   "metadata": {},
   "source": [
    "# 2. Project itself"
   ]
  },
  {
   "cell_type": "markdown",
   "id": "55943262",
   "metadata": {},
   "source": [
    "###  2.1 Loading in the data"
   ]
  },
  {
   "cell_type": "markdown",
   "id": "b98aa843",
   "metadata": {},
   "source": [
    "As mentioned in the introduction a separate file of a car brand is stored in a `.csv` file and consist of the following columns:\n",
    "\n",
    "    Model: Model type.\n",
    "    Year: Registration Year.\n",
    "    Price: Price in euros.\n",
    "    Transmission: Type of Gearbos.\n",
    "    Mileage: Distance Used.\n",
    "    FuelType: Engine Fuel.\n",
    "    Tax: Road Tax.\n",
    "    mpg: Miles per Gallon.\n",
    "    EngineSize: Size in litres.\n",
    "    Brand: Name of the car brand.\n",
    "\n",
    "Because the dataset also includes an abundance of information of a specefic car model, we will leave them outside of the dataset and only consider a brand with different models. Therefore we will leave out the `cclass.csv` and `focus.csv` files.\n",
    "\n",
    "To load in the dataset, we first have to load in the separate `.csv` files. "
   ]
  },
  {
   "cell_type": "code",
   "execution_count": 39,
   "id": "527c81b3",
   "metadata": {},
   "outputs": [],
   "source": [
    "audi = pd.read_csv(\"dataset/audi.csv\")\n",
    "bmw = pd.read_csv(\"dataset/bmw.csv\")\n",
    "ford = pd.read_csv(\"dataset/ford.csv\")\n",
    "hyundai = pd.read_csv(\"dataset/hyundi.csv\")\n",
    "mercedes = pd.read_csv(\"dataset/merc.csv\")\n",
    "skoda = pd.read_csv(\"dataset/skoda.csv\")\n",
    "toyota = pd.read_csv(\"dataset/toyota.csv\")\n",
    "vauxhall = pd.read_csv(\"dataset/vauxhall.csv\")\n",
    "volkswagen = pd.read_csv(\"dataset/vw.csv\")"
   ]
  },
  {
   "cell_type": "markdown",
   "id": "97be471c",
   "metadata": {},
   "source": [
    "We are having different datasets for different brands. So if we want to combine them we need to add an extra column to each `.csv` file describing the name of the brand :"
   ]
  },
  {
   "cell_type": "code",
   "execution_count": 40,
   "id": "a3a4ac75",
   "metadata": {},
   "outputs": [
    {
     "data": {
      "text/html": [
       "<div>\n",
       "<style scoped>\n",
       "    .dataframe tbody tr th:only-of-type {\n",
       "        vertical-align: middle;\n",
       "    }\n",
       "\n",
       "    .dataframe tbody tr th {\n",
       "        vertical-align: top;\n",
       "    }\n",
       "\n",
       "    .dataframe thead th {\n",
       "        text-align: right;\n",
       "    }\n",
       "</style>\n",
       "<table border=\"1\" class=\"dataframe\">\n",
       "  <thead>\n",
       "    <tr style=\"text-align: right;\">\n",
       "      <th></th>\n",
       "      <th>model</th>\n",
       "      <th>year</th>\n",
       "      <th>price</th>\n",
       "      <th>transmission</th>\n",
       "      <th>mileage</th>\n",
       "      <th>fuelType</th>\n",
       "      <th>tax</th>\n",
       "      <th>mpg</th>\n",
       "      <th>engineSize</th>\n",
       "      <th>brand</th>\n",
       "    </tr>\n",
       "  </thead>\n",
       "  <tbody>\n",
       "    <tr>\n",
       "      <th>0</th>\n",
       "      <td>A1</td>\n",
       "      <td>2017</td>\n",
       "      <td>12500</td>\n",
       "      <td>Manual</td>\n",
       "      <td>15735</td>\n",
       "      <td>Petrol</td>\n",
       "      <td>150.0</td>\n",
       "      <td>55.4</td>\n",
       "      <td>1.4</td>\n",
       "      <td>audi</td>\n",
       "    </tr>\n",
       "    <tr>\n",
       "      <th>1</th>\n",
       "      <td>A6</td>\n",
       "      <td>2016</td>\n",
       "      <td>16500</td>\n",
       "      <td>Automatic</td>\n",
       "      <td>36203</td>\n",
       "      <td>Diesel</td>\n",
       "      <td>20.0</td>\n",
       "      <td>64.2</td>\n",
       "      <td>2.0</td>\n",
       "      <td>audi</td>\n",
       "    </tr>\n",
       "    <tr>\n",
       "      <th>2</th>\n",
       "      <td>A1</td>\n",
       "      <td>2016</td>\n",
       "      <td>11000</td>\n",
       "      <td>Manual</td>\n",
       "      <td>29946</td>\n",
       "      <td>Petrol</td>\n",
       "      <td>30.0</td>\n",
       "      <td>55.4</td>\n",
       "      <td>1.4</td>\n",
       "      <td>audi</td>\n",
       "    </tr>\n",
       "    <tr>\n",
       "      <th>3</th>\n",
       "      <td>A4</td>\n",
       "      <td>2017</td>\n",
       "      <td>16800</td>\n",
       "      <td>Automatic</td>\n",
       "      <td>25952</td>\n",
       "      <td>Diesel</td>\n",
       "      <td>145.0</td>\n",
       "      <td>67.3</td>\n",
       "      <td>2.0</td>\n",
       "      <td>audi</td>\n",
       "    </tr>\n",
       "    <tr>\n",
       "      <th>4</th>\n",
       "      <td>A3</td>\n",
       "      <td>2019</td>\n",
       "      <td>17300</td>\n",
       "      <td>Manual</td>\n",
       "      <td>1998</td>\n",
       "      <td>Petrol</td>\n",
       "      <td>145.0</td>\n",
       "      <td>49.6</td>\n",
       "      <td>1.0</td>\n",
       "      <td>audi</td>\n",
       "    </tr>\n",
       "    <tr>\n",
       "      <th>...</th>\n",
       "      <td>...</td>\n",
       "      <td>...</td>\n",
       "      <td>...</td>\n",
       "      <td>...</td>\n",
       "      <td>...</td>\n",
       "      <td>...</td>\n",
       "      <td>...</td>\n",
       "      <td>...</td>\n",
       "      <td>...</td>\n",
       "      <td>...</td>\n",
       "    </tr>\n",
       "    <tr>\n",
       "      <th>15152</th>\n",
       "      <td>Eos</td>\n",
       "      <td>2012</td>\n",
       "      <td>5990</td>\n",
       "      <td>Manual</td>\n",
       "      <td>74000</td>\n",
       "      <td>Diesel</td>\n",
       "      <td>125.0</td>\n",
       "      <td>58.9</td>\n",
       "      <td>2.0</td>\n",
       "      <td>volkswagen</td>\n",
       "    </tr>\n",
       "    <tr>\n",
       "      <th>15153</th>\n",
       "      <td>Fox</td>\n",
       "      <td>2008</td>\n",
       "      <td>1799</td>\n",
       "      <td>Manual</td>\n",
       "      <td>88102</td>\n",
       "      <td>Petrol</td>\n",
       "      <td>145.0</td>\n",
       "      <td>46.3</td>\n",
       "      <td>1.2</td>\n",
       "      <td>volkswagen</td>\n",
       "    </tr>\n",
       "    <tr>\n",
       "      <th>15154</th>\n",
       "      <td>Fox</td>\n",
       "      <td>2009</td>\n",
       "      <td>1590</td>\n",
       "      <td>Manual</td>\n",
       "      <td>70000</td>\n",
       "      <td>Petrol</td>\n",
       "      <td>200.0</td>\n",
       "      <td>42.0</td>\n",
       "      <td>1.4</td>\n",
       "      <td>volkswagen</td>\n",
       "    </tr>\n",
       "    <tr>\n",
       "      <th>15155</th>\n",
       "      <td>Fox</td>\n",
       "      <td>2006</td>\n",
       "      <td>1250</td>\n",
       "      <td>Manual</td>\n",
       "      <td>82704</td>\n",
       "      <td>Petrol</td>\n",
       "      <td>150.0</td>\n",
       "      <td>46.3</td>\n",
       "      <td>1.2</td>\n",
       "      <td>volkswagen</td>\n",
       "    </tr>\n",
       "    <tr>\n",
       "      <th>15156</th>\n",
       "      <td>Fox</td>\n",
       "      <td>2007</td>\n",
       "      <td>2295</td>\n",
       "      <td>Manual</td>\n",
       "      <td>74000</td>\n",
       "      <td>Petrol</td>\n",
       "      <td>145.0</td>\n",
       "      <td>46.3</td>\n",
       "      <td>1.2</td>\n",
       "      <td>volkswagen</td>\n",
       "    </tr>\n",
       "  </tbody>\n",
       "</table>\n",
       "<p>99187 rows × 10 columns</p>\n",
       "</div>"
      ],
      "text/plain": [
       "      model  year  price transmission  mileage fuelType    tax   mpg  \\\n",
       "0        A1  2017  12500       Manual    15735   Petrol  150.0  55.4   \n",
       "1        A6  2016  16500    Automatic    36203   Diesel   20.0  64.2   \n",
       "2        A1  2016  11000       Manual    29946   Petrol   30.0  55.4   \n",
       "3        A4  2017  16800    Automatic    25952   Diesel  145.0  67.3   \n",
       "4        A3  2019  17300       Manual     1998   Petrol  145.0  49.6   \n",
       "...     ...   ...    ...          ...      ...      ...    ...   ...   \n",
       "15152   Eos  2012   5990       Manual    74000   Diesel  125.0  58.9   \n",
       "15153   Fox  2008   1799       Manual    88102   Petrol  145.0  46.3   \n",
       "15154   Fox  2009   1590       Manual    70000   Petrol  200.0  42.0   \n",
       "15155   Fox  2006   1250       Manual    82704   Petrol  150.0  46.3   \n",
       "15156   Fox  2007   2295       Manual    74000   Petrol  145.0  46.3   \n",
       "\n",
       "       engineSize       brand  \n",
       "0             1.4        audi  \n",
       "1             2.0        audi  \n",
       "2             1.4        audi  \n",
       "3             2.0        audi  \n",
       "4             1.0        audi  \n",
       "...           ...         ...  \n",
       "15152         2.0  volkswagen  \n",
       "15153         1.2  volkswagen  \n",
       "15154         1.4  volkswagen  \n",
       "15155         1.2  volkswagen  \n",
       "15156         1.2  volkswagen  \n",
       "\n",
       "[99187 rows x 10 columns]"
      ]
     },
     "execution_count": 40,
     "metadata": {},
     "output_type": "execute_result"
    }
   ],
   "source": [
    "audi['brand'] = 'audi'\n",
    "bmw['brand'] = 'bmw'\n",
    "ford['brand'] = 'ford'\n",
    "hyundai['brand'] = 'hyundai'\n",
    "mercedes['brand'] = 'mercedes'\n",
    "skoda['brand'] = 'skoda'\n",
    "toyota['brand'] = 'toyota'\n",
    "vauxhall['brand'] = 'vauxhall'\n",
    "volkswagen['brand'] = 'volkswagen'\n",
    "\n",
    "df = pd.concat([audi,bmw,\n",
    "               ford,hyundai,mercedes,skoda,toyota,\n",
    "               vauxhall,volkswagen])\n",
    "# drop the tax column\n",
    "df.drop('tax(£)',axis=1,inplace=True)\n",
    "df"
   ]
  },
  {
   "cell_type": "markdown",
   "id": "2f976fd9",
   "metadata": {},
   "source": [
    "### 2.2 Lineair regression with one variable "
   ]
  },
  {
   "cell_type": "markdown",
   "id": "509e3763",
   "metadata": {},
   "source": [
    "To start of simply, we are going to apply linear regression with one variable to determine the price of a Mercedes C-class, more specefic the W205 model. We can use the `cclass.csv` and only look to at the the C-class from years 2014-2021.\n",
    "\n",
    "We have to first load the dataset:"
   ]
  },
  {
   "cell_type": "code",
   "execution_count": 2,
   "id": "cbca7034",
   "metadata": {},
   "outputs": [
    {
     "data": {
      "text/html": [
       "<div>\n",
       "<style scoped>\n",
       "    .dataframe tbody tr th:only-of-type {\n",
       "        vertical-align: middle;\n",
       "    }\n",
       "\n",
       "    .dataframe tbody tr th {\n",
       "        vertical-align: top;\n",
       "    }\n",
       "\n",
       "    .dataframe thead th {\n",
       "        text-align: right;\n",
       "    }\n",
       "</style>\n",
       "<table border=\"1\" class=\"dataframe\">\n",
       "  <thead>\n",
       "    <tr style=\"text-align: right;\">\n",
       "      <th></th>\n",
       "      <th>model</th>\n",
       "      <th>year</th>\n",
       "      <th>price</th>\n",
       "      <th>transmission</th>\n",
       "      <th>mileage</th>\n",
       "      <th>fuelType</th>\n",
       "      <th>engineSize</th>\n",
       "    </tr>\n",
       "  </thead>\n",
       "  <tbody>\n",
       "    <tr>\n",
       "      <th>0</th>\n",
       "      <td>C Class</td>\n",
       "      <td>2020</td>\n",
       "      <td>30495</td>\n",
       "      <td>Automatic</td>\n",
       "      <td>1200</td>\n",
       "      <td>Diesel</td>\n",
       "      <td>2.0</td>\n",
       "    </tr>\n",
       "    <tr>\n",
       "      <th>1</th>\n",
       "      <td>C Class</td>\n",
       "      <td>2020</td>\n",
       "      <td>29989</td>\n",
       "      <td>Automatic</td>\n",
       "      <td>1000</td>\n",
       "      <td>Petrol</td>\n",
       "      <td>1.5</td>\n",
       "    </tr>\n",
       "    <tr>\n",
       "      <th>2</th>\n",
       "      <td>C Class</td>\n",
       "      <td>2020</td>\n",
       "      <td>37899</td>\n",
       "      <td>Automatic</td>\n",
       "      <td>500</td>\n",
       "      <td>Diesel</td>\n",
       "      <td>2.0</td>\n",
       "    </tr>\n",
       "    <tr>\n",
       "      <th>3</th>\n",
       "      <td>C Class</td>\n",
       "      <td>2019</td>\n",
       "      <td>30399</td>\n",
       "      <td>Automatic</td>\n",
       "      <td>5000</td>\n",
       "      <td>Diesel</td>\n",
       "      <td>2.0</td>\n",
       "    </tr>\n",
       "    <tr>\n",
       "      <th>4</th>\n",
       "      <td>C Class</td>\n",
       "      <td>2019</td>\n",
       "      <td>29899</td>\n",
       "      <td>Automatic</td>\n",
       "      <td>4500</td>\n",
       "      <td>Diesel</td>\n",
       "      <td>2.0</td>\n",
       "    </tr>\n",
       "    <tr>\n",
       "      <th>...</th>\n",
       "      <td>...</td>\n",
       "      <td>...</td>\n",
       "      <td>...</td>\n",
       "      <td>...</td>\n",
       "      <td>...</td>\n",
       "      <td>...</td>\n",
       "      <td>...</td>\n",
       "    </tr>\n",
       "    <tr>\n",
       "      <th>3894</th>\n",
       "      <td>C Class</td>\n",
       "      <td>2017</td>\n",
       "      <td>14700</td>\n",
       "      <td>Manual</td>\n",
       "      <td>31357</td>\n",
       "      <td>Diesel</td>\n",
       "      <td>1.6</td>\n",
       "    </tr>\n",
       "    <tr>\n",
       "      <th>3895</th>\n",
       "      <td>C Class</td>\n",
       "      <td>2018</td>\n",
       "      <td>18500</td>\n",
       "      <td>Automatic</td>\n",
       "      <td>28248</td>\n",
       "      <td>Diesel</td>\n",
       "      <td>2.1</td>\n",
       "    </tr>\n",
       "    <tr>\n",
       "      <th>3896</th>\n",
       "      <td>C Class</td>\n",
       "      <td>2014</td>\n",
       "      <td>11900</td>\n",
       "      <td>Manual</td>\n",
       "      <td>48055</td>\n",
       "      <td>Diesel</td>\n",
       "      <td>2.1</td>\n",
       "    </tr>\n",
       "    <tr>\n",
       "      <th>3897</th>\n",
       "      <td>C Class</td>\n",
       "      <td>2014</td>\n",
       "      <td>11300</td>\n",
       "      <td>Automatic</td>\n",
       "      <td>49865</td>\n",
       "      <td>Diesel</td>\n",
       "      <td>2.1</td>\n",
       "    </tr>\n",
       "    <tr>\n",
       "      <th>3898</th>\n",
       "      <td>C Class</td>\n",
       "      <td>2014</td>\n",
       "      <td>14800</td>\n",
       "      <td>Automatic</td>\n",
       "      <td>55445</td>\n",
       "      <td>Diesel</td>\n",
       "      <td>2.1</td>\n",
       "    </tr>\n",
       "  </tbody>\n",
       "</table>\n",
       "<p>3899 rows × 7 columns</p>\n",
       "</div>"
      ],
      "text/plain": [
       "         model  year  price transmission  mileage fuelType  engineSize\n",
       "0      C Class  2020  30495    Automatic     1200   Diesel         2.0\n",
       "1      C Class  2020  29989    Automatic     1000   Petrol         1.5\n",
       "2      C Class  2020  37899    Automatic      500   Diesel         2.0\n",
       "3      C Class  2019  30399    Automatic     5000   Diesel         2.0\n",
       "4      C Class  2019  29899    Automatic     4500   Diesel         2.0\n",
       "...        ...   ...    ...          ...      ...      ...         ...\n",
       "3894   C Class  2017  14700       Manual    31357   Diesel         1.6\n",
       "3895   C Class  2018  18500    Automatic    28248   Diesel         2.1\n",
       "3896   C Class  2014  11900       Manual    48055   Diesel         2.1\n",
       "3897   C Class  2014  11300    Automatic    49865   Diesel         2.1\n",
       "3898   C Class  2014  14800    Automatic    55445   Diesel         2.1\n",
       "\n",
       "[3899 rows x 7 columns]"
      ]
     },
     "metadata": {},
     "output_type": "display_data"
    }
   ],
   "source": [
    "cclass = pd.read_csv(\"dataset/cclass.csv\")\n",
    "display(cclass)"
   ]
  },
  {
   "cell_type": "markdown",
   "id": "b60efdca",
   "metadata": {},
   "source": [
    "Since we want to examine the C-class W205 model we have to filter out the C-classes that are not in the 2014-2021 year-range: "
   ]
  },
  {
   "cell_type": "code",
   "execution_count": 3,
   "id": "9624c434",
   "metadata": {},
   "outputs": [
    {
     "data": {
      "text/html": [
       "<div>\n",
       "<style scoped>\n",
       "    .dataframe tbody tr th:only-of-type {\n",
       "        vertical-align: middle;\n",
       "    }\n",
       "\n",
       "    .dataframe tbody tr th {\n",
       "        vertical-align: top;\n",
       "    }\n",
       "\n",
       "    .dataframe thead th {\n",
       "        text-align: right;\n",
       "    }\n",
       "</style>\n",
       "<table border=\"1\" class=\"dataframe\">\n",
       "  <thead>\n",
       "    <tr style=\"text-align: right;\">\n",
       "      <th></th>\n",
       "      <th>model</th>\n",
       "      <th>year</th>\n",
       "      <th>price</th>\n",
       "      <th>transmission</th>\n",
       "      <th>mileage</th>\n",
       "      <th>fuelType</th>\n",
       "      <th>engineSize</th>\n",
       "    </tr>\n",
       "  </thead>\n",
       "  <tbody>\n",
       "    <tr>\n",
       "      <th>0</th>\n",
       "      <td>C Class</td>\n",
       "      <td>2020</td>\n",
       "      <td>30495</td>\n",
       "      <td>Automatic</td>\n",
       "      <td>1200</td>\n",
       "      <td>Diesel</td>\n",
       "      <td>2.0</td>\n",
       "    </tr>\n",
       "    <tr>\n",
       "      <th>1</th>\n",
       "      <td>C Class</td>\n",
       "      <td>2020</td>\n",
       "      <td>29989</td>\n",
       "      <td>Automatic</td>\n",
       "      <td>1000</td>\n",
       "      <td>Petrol</td>\n",
       "      <td>1.5</td>\n",
       "    </tr>\n",
       "    <tr>\n",
       "      <th>2</th>\n",
       "      <td>C Class</td>\n",
       "      <td>2020</td>\n",
       "      <td>37899</td>\n",
       "      <td>Automatic</td>\n",
       "      <td>500</td>\n",
       "      <td>Diesel</td>\n",
       "      <td>2.0</td>\n",
       "    </tr>\n",
       "    <tr>\n",
       "      <th>3</th>\n",
       "      <td>C Class</td>\n",
       "      <td>2019</td>\n",
       "      <td>30399</td>\n",
       "      <td>Automatic</td>\n",
       "      <td>5000</td>\n",
       "      <td>Diesel</td>\n",
       "      <td>2.0</td>\n",
       "    </tr>\n",
       "    <tr>\n",
       "      <th>4</th>\n",
       "      <td>C Class</td>\n",
       "      <td>2019</td>\n",
       "      <td>29899</td>\n",
       "      <td>Automatic</td>\n",
       "      <td>4500</td>\n",
       "      <td>Diesel</td>\n",
       "      <td>2.0</td>\n",
       "    </tr>\n",
       "    <tr>\n",
       "      <th>...</th>\n",
       "      <td>...</td>\n",
       "      <td>...</td>\n",
       "      <td>...</td>\n",
       "      <td>...</td>\n",
       "      <td>...</td>\n",
       "      <td>...</td>\n",
       "      <td>...</td>\n",
       "    </tr>\n",
       "    <tr>\n",
       "      <th>3894</th>\n",
       "      <td>C Class</td>\n",
       "      <td>2017</td>\n",
       "      <td>14700</td>\n",
       "      <td>Manual</td>\n",
       "      <td>31357</td>\n",
       "      <td>Diesel</td>\n",
       "      <td>1.6</td>\n",
       "    </tr>\n",
       "    <tr>\n",
       "      <th>3895</th>\n",
       "      <td>C Class</td>\n",
       "      <td>2018</td>\n",
       "      <td>18500</td>\n",
       "      <td>Automatic</td>\n",
       "      <td>28248</td>\n",
       "      <td>Diesel</td>\n",
       "      <td>2.1</td>\n",
       "    </tr>\n",
       "    <tr>\n",
       "      <th>3896</th>\n",
       "      <td>C Class</td>\n",
       "      <td>2014</td>\n",
       "      <td>11900</td>\n",
       "      <td>Manual</td>\n",
       "      <td>48055</td>\n",
       "      <td>Diesel</td>\n",
       "      <td>2.1</td>\n",
       "    </tr>\n",
       "    <tr>\n",
       "      <th>3897</th>\n",
       "      <td>C Class</td>\n",
       "      <td>2014</td>\n",
       "      <td>11300</td>\n",
       "      <td>Automatic</td>\n",
       "      <td>49865</td>\n",
       "      <td>Diesel</td>\n",
       "      <td>2.1</td>\n",
       "    </tr>\n",
       "    <tr>\n",
       "      <th>3898</th>\n",
       "      <td>C Class</td>\n",
       "      <td>2014</td>\n",
       "      <td>14800</td>\n",
       "      <td>Automatic</td>\n",
       "      <td>55445</td>\n",
       "      <td>Diesel</td>\n",
       "      <td>2.1</td>\n",
       "    </tr>\n",
       "  </tbody>\n",
       "</table>\n",
       "<p>3745 rows × 7 columns</p>\n",
       "</div>"
      ],
      "text/plain": [
       "         model  year  price transmission  mileage fuelType  engineSize\n",
       "0      C Class  2020  30495    Automatic     1200   Diesel         2.0\n",
       "1      C Class  2020  29989    Automatic     1000   Petrol         1.5\n",
       "2      C Class  2020  37899    Automatic      500   Diesel         2.0\n",
       "3      C Class  2019  30399    Automatic     5000   Diesel         2.0\n",
       "4      C Class  2019  29899    Automatic     4500   Diesel         2.0\n",
       "...        ...   ...    ...          ...      ...      ...         ...\n",
       "3894   C Class  2017  14700       Manual    31357   Diesel         1.6\n",
       "3895   C Class  2018  18500    Automatic    28248   Diesel         2.1\n",
       "3896   C Class  2014  11900       Manual    48055   Diesel         2.1\n",
       "3897   C Class  2014  11300    Automatic    49865   Diesel         2.1\n",
       "3898   C Class  2014  14800    Automatic    55445   Diesel         2.1\n",
       "\n",
       "[3745 rows x 7 columns]"
      ]
     },
     "metadata": {},
     "output_type": "display_data"
    }
   ],
   "source": [
    "cclass = cclass[(cclass['year'] > 2013) & (cclass['year'] < 2022)]\n",
    "display(cclass)"
   ]
  },
  {
   "cell_type": "markdown",
   "id": "1042a51e",
   "metadata": {},
   "source": [
    "For the lineair regression with one variable, we will choose the mileage as variable (for the x-axis). The price will be selected for the y-axis. We will then visualise the data. Following function can help us to quickly plot graphs:"
   ]
  },
  {
   "cell_type": "code",
   "execution_count": 4,
   "id": "d0c100ab",
   "metadata": {},
   "outputs": [],
   "source": [
    "def plotData(x, y):\n",
    "    fig = pyplot.figure()  # open a new figure    \n",
    "    pyplot.plot(x, y, 'ro', ms=10, mec='k')\n",
    "    pyplot.ylabel('Price of a W205 C-Class in £')\n",
    "    pyplot.xlabel('Mileage in miles')   "
   ]
  },
  {
   "cell_type": "code",
   "execution_count": 5,
   "id": "2299e074",
   "metadata": {},
   "outputs": [
    {
     "name": "stdout",
     "output_type": "stream",
     "text": [
      "[ 1200  1000   500 ... 48055 49865 55445]\n"
     ]
    },
    {
     "data": {
      "image/png": "[encoded data removed]",
      "text/plain": [
       "<Figure size 432x288 with 1 Axes>"
      ]
     },
     "metadata": {
      "needs_background": "light"
     },
     "output_type": "display_data"
    }
   ],
   "source": [
    "#X and y values\n",
    "X = cclass['mileage'].to_numpy()\n",
    "y = cclass['price'].to_numpy()\n",
    "m = y.size #dataset size\n",
    "print(X)\n",
    "\n",
    "#Visualise data\n",
    "plotData(X,y)"
   ]
  },
  {
   "cell_type": "markdown",
   "id": "620e6dc0",
   "metadata": {},
   "source": [
    "#### Gradient descent  \n",
    "\n",
    "In this part, you will fit the linear regression parameters $\\theta$ to our dataset using gradient descent.\n",
    "\n",
    "The objective of linear regression is to minimize the cost function\n",
    "\n",
    "$$ J(\\theta) = \\frac{1}{2m} \\sum_{i=1}^m \\left( h_{\\theta}(x^{(i)}) - y^{(i)}\\right)^2$$\n",
    "\n",
    "where the hypothesis $h_\\theta(x)$ is given by the linear model\n",
    "$$ h_\\theta(x) = \\theta^Tx = \\theta_0 + \\theta_1 x_1$$\n",
    "\n",
    "Recall that the parameters of your model are the $\\theta_j$ values. These are\n",
    "the values you will adjust to minimize cost $J(\\theta)$. One way to do this is to\n",
    "use the batch gradient descent algorithm. In batch gradient descent, each\n",
    "iteration performs the update\n",
    "\n",
    "$$ \\theta_j = \\theta_j - \\alpha \\frac{1}{m} \\sum_{i=1}^m \\left( h_\\theta(x^{(i)}) - y^{(i)}\\right)x_j^{(i)} \\qquad \\text{simultaneously update } \\theta_j \\text{ for all } j$$\n",
    "\n",
    "With each step of gradient descent, your parameters $\\theta_j$ come closer to the optimal values that will achieve the lowest cost J($\\theta$)."
   ]
  },
  {
   "cell_type": "markdown",
   "id": "2909baca",
   "metadata": {},
   "source": [
    "We first want to normalize our features to make sure our gradient descent works out without any overflow problems. Besides we add a column of ones to X:"
   ]
  },
  {
   "cell_type": "code",
   "execution_count": 6,
   "id": "7dc21417",
   "metadata": {},
   "outputs": [
    {
     "name": "stdout",
     "output_type": "stream",
     "text": [
      "[-0.9757839  -0.98598056 -1.01147222 ...  1.41303964  1.50531945\n",
      "  1.78980638]\n"
     ]
    }
   ],
   "source": [
    "mu = np.mean(X, axis = 0)\n",
    "sigma = np.std(X, axis = 0)\n",
    "X_norm = (X - mu) / sigma\n",
    "print(X_norm)"
   ]
  },
  {
   "cell_type": "code",
   "execution_count": 7,
   "id": "9a2d141e",
   "metadata": {},
   "outputs": [
    {
     "name": "stdout",
     "output_type": "stream",
     "text": [
      "A column of ones to X-normalized:\n",
      " [[ 1.         -0.9757839 ]\n",
      " [ 1.         -0.98598056]\n",
      " [ 1.         -1.01147222]\n",
      " ...\n",
      " [ 1.          1.41303964]\n",
      " [ 1.          1.50531945]\n",
      " [ 1.          1.78980638]]\n",
      "\n",
      "A column of ones to not normalized X:\n",
      " [[1.0000e+00 1.2000e+03]\n",
      " [1.0000e+00 1.0000e+03]\n",
      " [1.0000e+00 5.0000e+02]\n",
      " ...\n",
      " [1.0000e+00 4.8055e+04]\n",
      " [1.0000e+00 4.9865e+04]\n",
      " [1.0000e+00 5.5445e+04]]\n"
     ]
    }
   ],
   "source": [
    "# Add a column of ones to X. The numpy function stack joins arrays along a given axis. \n",
    "# The first axis (axis=0) refers to rows (training examples) \n",
    "# and second axis (axis=1) refers to columns (features).\n",
    "\n",
    "\n",
    "X_not_norm = X  #save original X if we need it later\n",
    "X_not_norm_stacked = np.stack([np.ones(m), X_not_norm], axis=1)  #column of ones to X\n",
    "X  = np.stack([np.ones(m), X_norm], axis=1)                      #column of ones to the normalized X\n",
    "print(\"A column of ones to X-normalized:\\n\", X)\n",
    "print(\"\\nA column of ones to not normalized X:\\n\",X_not_norm_stacked)\n"
   ]
  },
  {
   "cell_type": "markdown",
   "id": "01b6b2a9",
   "metadata": {},
   "source": [
    "For the cost function we can define a function that determines the cost:"
   ]
  },
  {
   "cell_type": "code",
   "execution_count": 8,
   "id": "38dc0d28",
   "metadata": {},
   "outputs": [],
   "source": [
    "def computeCost(X, y, theta):\n",
    "     \n",
    "    # initialize some useful values\n",
    "    m = y.size  # number of training examples\n",
    "    \n",
    "    # You need to return the following variables correctly\n",
    "    J = 0\n",
    "    \n",
    "    h= np.dot(X,theta)\n",
    "    inner = (h-y)**2\n",
    "    J = (1/(2*m)) * (np.sum(inner))\n",
    "\n",
    "    return J"
   ]
  },
  {
   "cell_type": "markdown",
   "id": "9665415c",
   "metadata": {},
   "source": [
    "For Gradient descent we can define following function:"
   ]
  },
  {
   "cell_type": "code",
   "execution_count": 9,
   "id": "4a9b9427",
   "metadata": {},
   "outputs": [],
   "source": [
    "def gradientDescent(X, y, theta, alpha, num_iters):\n",
    "    # Initialize some useful values\n",
    "    m = y.shape[0]  # number of training examples\n",
    "    \n",
    "    # make a copy of theta, to avoid changing the original array, since numpy arrays\n",
    "    # are passed by reference to functions\n",
    "    theta = theta.copy()\n",
    "    \n",
    "    J_history = [] # Use a python list to save cost in every iteration\n",
    "    \n",
    "    for i in range(num_iters):\n",
    "        # ==================== YOUR CODE HERE =================================\n",
    "        theta = theta - (alpha / m) * (np.dot(X, theta) - y).dot(X)\n",
    "\n",
    "        # =====================================================================\n",
    "        \n",
    "        # save the cost J in every iteration\n",
    "        J_history.append(computeCost(X, y, theta))\n",
    "    \n",
    "    return theta, J_history\n",
    "\n"
   ]
  },
  {
   "cell_type": "markdown",
   "id": "825f6cd3",
   "metadata": {},
   "source": [
    "We initialize the 𝜃 parameters to 0 and the learning rate 𝛼 to 0.01 and use the final parameters to plot the lineair fit:"
   ]
  },
  {
   "cell_type": "code",
   "execution_count": 10,
   "id": "ce6e1572",
   "metadata": {},
   "outputs": [
    {
     "name": "stdout",
     "output_type": "stream",
     "text": [
      "Theta found by gradient descent: 24299.4954, -5498.5852\n"
     ]
    }
   ],
   "source": [
    "# initialize fitting parameters\n",
    "theta = np.zeros(2)\n",
    "\n",
    "# some gradient descent settings\n",
    "iterations = 100000\n",
    "alpha = 0.0001\n",
    "\n",
    "theta, J_history = gradientDescent(X ,y, theta, alpha, iterations)\n",
    "print('Theta found by gradient descent: {:.4f}, {:.4f}'.format(*theta))"
   ]
  },
  {
   "cell_type": "code",
   "execution_count": 11,
   "id": "ed0a6a65",
   "metadata": {},
   "outputs": [
    {
     "data": {
      "image/png": "[encoded data removed]",
      "text/plain": [
       "<Figure size 432x288 with 1 Axes>"
      ]
     },
     "metadata": {
      "needs_background": "light"
     },
     "output_type": "display_data"
    }
   ],
   "source": [
    "# plot the linear fit\n",
    "plotData(X_not_norm_stacked[:, 1], y)\n",
    "pyplot.plot(X_not_norm_stacked[:, 1], np.dot(X, theta), '-')\n",
    "pyplot.legend(['Training data', 'Linear regression']);"
   ]
  },
  {
   "cell_type": "markdown",
   "id": "700f4805",
   "metadata": {},
   "source": [
    "## Regularised linear regression"
   ]
  },
  {
   "cell_type": "code",
   "execution_count": 253,
   "id": "33fa1908",
   "metadata": {},
   "outputs": [],
   "source": [
    "def linearRegCostFunction(X, y, theta, lambda_=0.0):\n",
    "    \n",
    "    # Initialize some useful values\n",
    "    m = y.size # number of training examples\n",
    "    # You need to return the following variables correctly \n",
    "    J = 0\n",
    "    grad = np.zeros(theta.shape)\n",
    "\n",
    "    # ====================== YOUR CODE HERE ======================\n",
    "    \n",
    "    h= np.dot(X,theta)   \n",
    "    J = (1/(2*m)) * (np.sum((h-y)**2)) + (lambda_/(2*m))*(np.sum(theta[1:]**2))   \n",
    "    grad = (1 / m) * (h - y).dot(X)\n",
    "    grad[1:] = grad[1:] + (lambda_ / m) * theta[1:]\n",
    "\n",
    "    # ============================================================\n",
    "    return J, grad\n",
    "\n",
    "def trainLinearReg(linearRegCostFunction, X, y, lambda_=0.0, maxiter=200):\n",
    "    \"\"\"\n",
    "    Trains linear regression using scipy's optimize.minimize.\n",
    "\n",
    "    Parameters\n",
    "    ----------\n",
    "    X : array_like\n",
    "        The dataset with shape (m x n+1). The bias term is assumed to be concatenated.\n",
    "\n",
    "    y : array_like\n",
    "        Function values at each datapoint. A vector of shape (m,).\n",
    "\n",
    "    lambda_ : float, optional\n",
    "        The regularization parameter.\n",
    "\n",
    "    maxiter : int, optional\n",
    "        Maximum number of iteration for the optimization algorithm.\n",
    "\n",
    "    Returns\n",
    "    -------\n",
    "    theta : array_like\n",
    "        The parameters for linear regression. This is a vector of shape (n+1,).\n",
    "    \"\"\"\n",
    "    # Initialize Theta\n",
    "    initial_theta = np.zeros(X.shape[1])\n",
    "\n",
    "    # Create \"short hand\" for the cost function to be minimized\n",
    "    costFunction = lambda t: linearRegCostFunction(X, y, t, lambda_)\n",
    "\n",
    "    # Now, costFunction is a function that takes in only one argument\n",
    "    options = {'maxiter': maxiter}\n",
    "\n",
    "    # Minimize using scipy\n",
    "    res = optimize.minimize(costFunction, initial_theta, jac=True, method='Nelder-Mead', options=options)\n",
    "    return res.x"
   ]
  },
  {
   "cell_type": "code",
   "execution_count": 13,
   "id": "f3e3ea2b",
   "metadata": {},
   "outputs": [
    {
     "data": {
      "image/png": "[encoded data removed]",
      "text/plain": [
       "<Figure size 432x288 with 1 Axes>"
      ]
     },
     "metadata": {
      "needs_background": "light"
     },
     "output_type": "display_data"
    }
   ],
   "source": [
    "theta_regularized = trainLinearReg(linearRegCostFunction, X, y, lambda_=0)\n",
    "# plot the linear fit\n",
    "plotData(X_not_norm_stacked[:, 1], y)\n",
    "pyplot.plot(X_not_norm_stacked[:, 1], np.dot(X, theta_regularized), '-')\n",
    "pyplot.legend(['Training data', 'Regularised linear regression']);"
   ]
  },
  {
   "cell_type": "markdown",
   "id": "66b5b64c",
   "metadata": {},
   "source": [
    "## Regularised linear regression"
   ]
  },
  {
   "cell_type": "code",
   "execution_count": 14,
   "id": "c7ee1dd7",
   "metadata": {},
   "outputs": [],
   "source": [
    "def polyFeatures(X, p):\n",
    "    \"\"\"\n",
    "    Maps X (1D vector) into the p-th power.\n",
    "    \n",
    "    Parameters\n",
    "    ----------\n",
    "    X : array_like\n",
    "        A data vector of size m, where m is the number of examples.\n",
    "    \n",
    "    p : int\n",
    "        The polynomial power to map the features. \n",
    "    \n",
    "    Returns \n",
    "    -------\n",
    "    X_poly : array_like\n",
    "        A matrix of shape (m x p) where p is the polynomial \n",
    "        power and m is the number of examples. That is:\n",
    "    \n",
    "        X_poly[i, :] = [X[i], X[i]**2, X[i]**3 ...  X[i]**p]\n",
    "    \n",
    "    Instructions\n",
    "    ------------\n",
    "    Given a vector X, return a matrix X_poly where the p-th column of\n",
    "    X contains the values of X to the p-th power.\n",
    "    \"\"\"\n",
    "    # You need to return the following variables correctly.\n",
    "    X_poly = np.zeros((X.shape[0], p))\n",
    "\n",
    "    # ====================== YOUR CODE HERE ======================\n",
    "\n",
    "    for i in range(p):\n",
    "        X_poly[:, i] = X[:, 0] ** (i + 1)\n",
    "\n",
    "    # ============================================================\n",
    "    return X_poly\n",
    "\n",
    "def plotFit(polyFeatures, min_x, max_x, mu, sigma, theta, p):\n",
    "    \"\"\"\n",
    "    Plots a learned polynomial regression fit over an existing figure.\n",
    "    Also works with linear regression.\n",
    "    Plots the learned polynomial fit with power p and feature normalization (mu, sigma).\n",
    "\n",
    "    Parameters\n",
    "    ----------\n",
    "    polyFeatures : func\n",
    "        A function which generators polynomial features from a single feature.\n",
    "\n",
    "    min_x : float\n",
    "        The minimum value for the feature.\n",
    "\n",
    "    max_x : float\n",
    "        The maximum value for the feature.\n",
    "\n",
    "    mu : float\n",
    "        The mean feature value over the training dataset.\n",
    "\n",
    "    sigma : float\n",
    "        The feature standard deviation of the training dataset.\n",
    "\n",
    "    theta : array_like\n",
    "        The parameters for the trained polynomial linear regression.\n",
    "\n",
    "    p : int\n",
    "        The polynomial order.\n",
    "    \"\"\"\n",
    "    # We plot a range slightly bigger than the min and max values to get\n",
    "    # an idea of how the fit will vary outside the range of the data points\n",
    "    x = np.arange(min_x - 15, max_x + 25, 0.05).reshape(-1, 1)\n",
    "\n",
    "    # Map the X values\n",
    "    X_poly = polyFeatures(x, p)\n",
    "    X_poly -= mu\n",
    "    X_poly /= sigma\n",
    "\n",
    "    # Add ones\n",
    "    X_poly = np.concatenate([np.ones((x.shape[0], 1)), X_poly], axis=1)\n",
    "\n",
    "    # Plot\n",
    "    pyplot.plot(x, np.dot(X_poly, theta), '--', lw=2)\n",
    "    \n",
    "    \n",
    "def hypothesis(X, theta):\n",
    "    y1 = theta*X\n",
    "    return np.sum(y1, axis=1)"
   ]
  },
  {
   "cell_type": "code",
   "execution_count": 37,
   "id": "75a4ce33",
   "metadata": {},
   "outputs": [
    {
     "name": "stdout",
     "output_type": "stream",
     "text": [
      "[[1.20000000e+03 1.44000000e+06 1.72800000e+09]\n",
      " [1.00000000e+03 1.00000000e+06 1.00000000e+09]\n",
      " [5.00000000e+02 2.50000000e+05 1.25000000e+08]\n",
      " ...\n",
      " [4.80550000e+04 2.30928302e+09 1.10972596e+14]\n",
      " [4.98650000e+04 2.48651822e+09 1.23990231e+14]\n",
      " [5.54450000e+04 3.07414802e+09 1.70446137e+14]]\n",
      "[[-0.9757839  -0.49440389 -0.28025069]\n",
      " [-0.98598056 -0.49467685 -0.28025524]\n",
      " [-1.01147222 -0.49514212 -0.2802607 ]\n",
      " ...\n",
      " [ 1.41303964  0.93728531  0.41259195]\n",
      " [ 1.50531945  1.04723461  0.49386709]\n",
      " [ 1.78980638  1.41177554  0.78391288]]\n",
      "[[ 1.         -0.9757839  -0.49440389 -0.28025069]\n",
      " [ 1.         -0.98598056 -0.49467685 -0.28025524]\n",
      " [ 1.         -1.01147222 -0.49514212 -0.2802607 ]\n",
      " ...\n",
      " [ 1.          1.41303964  0.93728531  0.41259195]\n",
      " [ 1.          1.50531945  1.04723461  0.49386709]\n",
      " [ 1.          1.78980638  1.41177554  0.78391288]]\n",
      "[ 24300.59812968 -15650.10729054  17349.99573626  -7533.23684481]\n"
     ]
    },
    {
     "data": {
      "image/png": "[encoded data removed]",
      "text/plain": [
       "<Figure size 432x288 with 1 Axes>"
      ]
     },
     "metadata": {
      "needs_background": "light"
     },
     "output_type": "display_data"
    }
   ],
   "source": [
    "p = 3\n",
    "X_not_norm__for_poly = np.array(X_not_norm).reshape(np.array(X_not_norm).size,1)\n",
    "# Map X onto Polynomial Features \n",
    "X_not_norm_poly = polyFeatures(X_not_norm__for_poly, p)\n",
    "print(X_not_norm_poly)\n",
    "\n",
    "\n",
    "# normalize features\n",
    "mu = np.mean(X_not_norm_poly, axis = 0)\n",
    "sigma = np.std(X_not_norm_poly, axis = 0)\n",
    "X_poly_norm = (X_not_norm_poly - mu) / sigma\n",
    "print(X_poly_norm)\n",
    "X_poly_norm_with_ones = np.concatenate([np.ones((m, 1)), X_poly_norm], axis=1)\n",
    "print(X_poly_norm_with_ones)\n",
    "\n",
    "\n",
    "lambda_ = 0\n",
    "theta_poly = trainLinearReg(linearRegCostFunction, X_poly_norm_with_ones, y,\n",
    "                             lambda_=lambda_, maxiter=100000)\n",
    "#theta_poly = theta_poly.reshape(1,-1)\n",
    "#print(theta_poly.shape)\n",
    "print(theta_poly)\n",
    "h = hypothesis(X_poly_norm_with_ones[:,1].reshape(-1,1),theta_poly)\n",
    "#print(h.tolist())\n",
    "\n",
    "plotData(X_not_norm_stacked[:, 1], y)\n",
    "#pyplot.plot(X_not_norm_stacked[:, 1], np.dot(X_poly_norm_with_ones, theta_poly), '-')\n",
    "plotFit(polyFeatures, np.min(X_not_norm__for_poly), np.max(X_not_norm__for_poly), mu, sigma, theta_poly, p)\n",
    "pyplot.legend(['Training data', 'Regularized polynomial regression']);\n",
    "#print(hypothesis(X_not_norm_stacked[:,1], theta_poly))\n"
   ]
  },
  {
   "cell_type": "markdown",
   "id": "b8ad6358",
   "metadata": {},
   "source": [
    "Price prediction:"
   ]
  },
  {
   "cell_type": "code",
   "execution_count": 242,
   "id": "da87dfa9",
   "metadata": {},
   "outputs": [
    {
     "name": "stdout",
     "output_type": "stream",
     "text": [
      "14905.78842869086\n"
     ]
    }
   ],
   "source": [
    "X_prediction = [1, 75000, 75000**2, 75000**3] #for a car with 75 000 miles\n",
    "X_prediction[1:4] = (X_prediction[1:4] - mu) / sigma\n",
    "#print(np.array(X_prediction).shape)\n",
    "price = np.dot(X_prediction, theta_poly)\n",
    "print(price)"
   ]
  },
  {
   "cell_type": "markdown",
   "id": "80c641c6",
   "metadata": {},
   "source": [
    "# Price prediction of specific brand: Mercedes"
   ]
  },
  {
   "cell_type": "code",
   "execution_count": 200,
   "id": "5471936f",
   "metadata": {},
   "outputs": [
    {
     "name": "stderr",
     "output_type": "stream",
     "text": [
      "C:\\ProgramData\\Anaconda3\\lib\\site-packages\\seaborn\\distributions.py:2557: FutureWarning: `distplot` is a deprecated function and will be removed in a future version. Please adapt your code to use either `displot` (a figure-level function with similar flexibility) or `histplot` (an axes-level function for histograms).\n",
      "  warnings.warn(msg, FutureWarning)\n"
     ]
    },
    {
     "data": {
      "text/plain": [
       "<AxesSubplot:xlabel='price', ylabel='Density'>"
      ]
     },
     "execution_count": 200,
     "metadata": {},
     "output_type": "execute_result"
    },
    {
     "data": {
      "image/png": "[encoded data removed]",
      "text/plain": [
       "<Figure size 432x288 with 1 Axes>"
      ]
     },
     "metadata": {
      "needs_background": "light"
     },
     "output_type": "display_data"
    }
   ],
   "source": [
    "sbn.distplot(mercedes[\"price\"])"
   ]
  },
  {
   "cell_type": "markdown",
   "id": "0abe0eac",
   "metadata": {},
   "source": [
    "Niet goed, we gaan proberen te filteren van 0-  60 000 :"
   ]
  },
  {
   "cell_type": "code",
   "execution_count": 202,
   "id": "a5107194",
   "metadata": {},
   "outputs": [
    {
     "name": "stderr",
     "output_type": "stream",
     "text": [
      "C:\\ProgramData\\Anaconda3\\lib\\site-packages\\seaborn\\distributions.py:2557: FutureWarning: `distplot` is a deprecated function and will be removed in a future version. Please adapt your code to use either `displot` (a figure-level function with similar flexibility) or `histplot` (an axes-level function for histograms).\n",
      "  warnings.warn(msg, FutureWarning)\n"
     ]
    },
    {
     "data": {
      "text/plain": [
       "<AxesSubplot:xlabel='price', ylabel='Density'>"
      ]
     },
     "execution_count": 202,
     "metadata": {},
     "output_type": "execute_result"
    },
    {
     "data": {
      "image/png": "[encoded data removed]",
      "text/plain": [
       "<Figure size 432x288 with 1 Axes>"
      ]
     },
     "metadata": {
      "needs_background": "light"
     },
     "output_type": "display_data"
    }
   ],
   "source": [
    "mercedes = mercedes.loc[(mercedes['price'] >= 0) & (mercedes['price'] <= 60000)]\n",
    "sbn.distplot(mercedes[\"price\"])"
   ]
  },
  {
   "cell_type": "markdown",
   "id": "9cb63b1f",
   "metadata": {},
   "source": [
    "Data inladen en categorical variabelen fixen:"
   ]
  },
  {
   "cell_type": "code",
   "execution_count": 203,
   "id": "31281658",
   "metadata": {},
   "outputs": [
    {
     "data": {
      "text/html": [
       "<div>\n",
       "<style scoped>\n",
       "    .dataframe tbody tr th:only-of-type {\n",
       "        vertical-align: middle;\n",
       "    }\n",
       "\n",
       "    .dataframe tbody tr th {\n",
       "        vertical-align: top;\n",
       "    }\n",
       "\n",
       "    .dataframe thead th {\n",
       "        text-align: right;\n",
       "    }\n",
       "</style>\n",
       "<table border=\"1\" class=\"dataframe\">\n",
       "  <thead>\n",
       "    <tr style=\"text-align: right;\">\n",
       "      <th></th>\n",
       "      <th>year</th>\n",
       "      <th>price</th>\n",
       "      <th>mileage</th>\n",
       "      <th>tax</th>\n",
       "      <th>mpg</th>\n",
       "      <th>engineSize</th>\n",
       "      <th>model_ A Class</th>\n",
       "      <th>model_ B Class</th>\n",
       "      <th>model_ C Class</th>\n",
       "      <th>model_ CL Class</th>\n",
       "      <th>...</th>\n",
       "      <th>model_220</th>\n",
       "      <th>model_230</th>\n",
       "      <th>transmission_Automatic</th>\n",
       "      <th>transmission_Manual</th>\n",
       "      <th>transmission_Other</th>\n",
       "      <th>transmission_Semi-Auto</th>\n",
       "      <th>fuelType_Diesel</th>\n",
       "      <th>fuelType_Hybrid</th>\n",
       "      <th>fuelType_Other</th>\n",
       "      <th>fuelType_Petrol</th>\n",
       "    </tr>\n",
       "  </thead>\n",
       "  <tbody>\n",
       "    <tr>\n",
       "      <th>0</th>\n",
       "      <td>2005</td>\n",
       "      <td>5200</td>\n",
       "      <td>63000</td>\n",
       "      <td>325</td>\n",
       "      <td>32.1</td>\n",
       "      <td>1.8</td>\n",
       "      <td>0</td>\n",
       "      <td>0</td>\n",
       "      <td>0</td>\n",
       "      <td>0</td>\n",
       "      <td>...</td>\n",
       "      <td>0</td>\n",
       "      <td>0</td>\n",
       "      <td>1</td>\n",
       "      <td>0</td>\n",
       "      <td>0</td>\n",
       "      <td>0</td>\n",
       "      <td>0</td>\n",
       "      <td>0</td>\n",
       "      <td>0</td>\n",
       "      <td>1</td>\n",
       "    </tr>\n",
       "    <tr>\n",
       "      <th>1</th>\n",
       "      <td>2017</td>\n",
       "      <td>34948</td>\n",
       "      <td>27000</td>\n",
       "      <td>20</td>\n",
       "      <td>61.4</td>\n",
       "      <td>2.1</td>\n",
       "      <td>0</td>\n",
       "      <td>0</td>\n",
       "      <td>0</td>\n",
       "      <td>0</td>\n",
       "      <td>...</td>\n",
       "      <td>0</td>\n",
       "      <td>0</td>\n",
       "      <td>1</td>\n",
       "      <td>0</td>\n",
       "      <td>0</td>\n",
       "      <td>0</td>\n",
       "      <td>0</td>\n",
       "      <td>1</td>\n",
       "      <td>0</td>\n",
       "      <td>0</td>\n",
       "    </tr>\n",
       "    <tr>\n",
       "      <th>2</th>\n",
       "      <td>2016</td>\n",
       "      <td>49948</td>\n",
       "      <td>6200</td>\n",
       "      <td>555</td>\n",
       "      <td>28.0</td>\n",
       "      <td>5.5</td>\n",
       "      <td>0</td>\n",
       "      <td>0</td>\n",
       "      <td>0</td>\n",
       "      <td>0</td>\n",
       "      <td>...</td>\n",
       "      <td>0</td>\n",
       "      <td>0</td>\n",
       "      <td>1</td>\n",
       "      <td>0</td>\n",
       "      <td>0</td>\n",
       "      <td>0</td>\n",
       "      <td>0</td>\n",
       "      <td>0</td>\n",
       "      <td>0</td>\n",
       "      <td>1</td>\n",
       "    </tr>\n",
       "    <tr>\n",
       "      <th>6</th>\n",
       "      <td>2018</td>\n",
       "      <td>30948</td>\n",
       "      <td>16000</td>\n",
       "      <td>145</td>\n",
       "      <td>47.9</td>\n",
       "      <td>2.1</td>\n",
       "      <td>0</td>\n",
       "      <td>0</td>\n",
       "      <td>0</td>\n",
       "      <td>0</td>\n",
       "      <td>...</td>\n",
       "      <td>0</td>\n",
       "      <td>0</td>\n",
       "      <td>1</td>\n",
       "      <td>0</td>\n",
       "      <td>0</td>\n",
       "      <td>0</td>\n",
       "      <td>1</td>\n",
       "      <td>0</td>\n",
       "      <td>0</td>\n",
       "      <td>0</td>\n",
       "    </tr>\n",
       "    <tr>\n",
       "      <th>7</th>\n",
       "      <td>2012</td>\n",
       "      <td>10948</td>\n",
       "      <td>107000</td>\n",
       "      <td>265</td>\n",
       "      <td>36.7</td>\n",
       "      <td>3.5</td>\n",
       "      <td>0</td>\n",
       "      <td>0</td>\n",
       "      <td>0</td>\n",
       "      <td>0</td>\n",
       "      <td>...</td>\n",
       "      <td>0</td>\n",
       "      <td>0</td>\n",
       "      <td>1</td>\n",
       "      <td>0</td>\n",
       "      <td>0</td>\n",
       "      <td>0</td>\n",
       "      <td>0</td>\n",
       "      <td>0</td>\n",
       "      <td>0</td>\n",
       "      <td>1</td>\n",
       "    </tr>\n",
       "  </tbody>\n",
       "</table>\n",
       "<p>5 rows × 41 columns</p>\n",
       "</div>"
      ],
      "text/plain": [
       "   year  price  mileage  tax   mpg  engineSize  model_ A Class  \\\n",
       "0  2005   5200    63000  325  32.1         1.8               0   \n",
       "1  2017  34948    27000   20  61.4         2.1               0   \n",
       "2  2016  49948     6200  555  28.0         5.5               0   \n",
       "6  2018  30948    16000  145  47.9         2.1               0   \n",
       "7  2012  10948   107000  265  36.7         3.5               0   \n",
       "\n",
       "   model_ B Class  model_ C Class  model_ CL Class  ...  model_220  model_230  \\\n",
       "0               0               0                0  ...          0          0   \n",
       "1               0               0                0  ...          0          0   \n",
       "2               0               0                0  ...          0          0   \n",
       "6               0               0                0  ...          0          0   \n",
       "7               0               0                0  ...          0          0   \n",
       "\n",
       "   transmission_Automatic  transmission_Manual  transmission_Other  \\\n",
       "0                       1                    0                   0   \n",
       "1                       1                    0                   0   \n",
       "2                       1                    0                   0   \n",
       "6                       1                    0                   0   \n",
       "7                       1                    0                   0   \n",
       "\n",
       "   transmission_Semi-Auto  fuelType_Diesel  fuelType_Hybrid  fuelType_Other  \\\n",
       "0                       0                0                0               0   \n",
       "1                       0                0                1               0   \n",
       "2                       0                0                0               0   \n",
       "6                       0                1                0               0   \n",
       "7                       0                0                0               0   \n",
       "\n",
       "   fuelType_Petrol  \n",
       "0                1  \n",
       "1                0  \n",
       "2                1  \n",
       "6                0  \n",
       "7                1  \n",
       "\n",
       "[5 rows x 41 columns]"
      ]
     },
     "execution_count": 203,
     "metadata": {},
     "output_type": "execute_result"
    }
   ],
   "source": [
    "data_mercedes_expanded = pd.get_dummies(mercedes)\n",
    "data_mercedes_expanded.drop('brand_mercedes', axis=1, inplace=True)\n",
    "data_mercedes_expanded.head()"
   ]
  },
  {
   "cell_type": "markdown",
   "id": "253f2019",
   "metadata": {},
   "source": [
    "Data normaliseren:"
   ]
  },
  {
   "cell_type": "code",
   "execution_count": 204,
   "id": "d6b11cd8",
   "metadata": {},
   "outputs": [
    {
     "name": "stdout",
     "output_type": "stream",
     "text": [
      "Numpy dataset: \n",
      " [[2.0050e+03 5.2000e+03 6.3000e+04 ... 0.0000e+00 0.0000e+00 1.0000e+00]\n",
      " [2.0170e+03 3.4948e+04 2.7000e+04 ... 1.0000e+00 0.0000e+00 0.0000e+00]\n",
      " [2.0160e+03 4.9948e+04 6.2000e+03 ... 0.0000e+00 0.0000e+00 1.0000e+00]\n",
      " ...\n",
      " [2.0190e+03 3.0999e+04 1.1612e+04 ... 0.0000e+00 0.0000e+00 0.0000e+00]\n",
      " [2.0190e+03 3.7990e+04 2.4260e+03 ... 0.0000e+00 0.0000e+00 0.0000e+00]\n",
      " [2.0190e+03 5.4999e+04 2.0750e+03 ... 0.0000e+00 0.0000e+00 0.0000e+00]]\n",
      "\n",
      "Shape dataset:  (12943, 41)\n",
      "\n",
      "Normalized Mercedes dataset: \n",
      " [[-5.5063881  -1.94899173  1.92461731 ... -0.1163932  -0.02326211\n",
      "   1.61036689]\n",
      " [-0.12362107  1.14474363  0.22662574 ...  8.59156731 -0.02326211\n",
      "  -0.6209765 ]\n",
      " [-0.57218499  2.70471507 -0.75443605 ... -0.1163932  -0.02326211\n",
      "   1.61036689]\n",
      " ...\n",
      " [ 0.77350677  0.73405515 -0.49917132 ... -0.1163932  -0.02326211\n",
      "  -0.6209765 ]\n",
      " [ 0.77350677  1.46110583 -0.93244217 ... -0.1163932  -0.02326211\n",
      "  -0.6209765 ]\n",
      " [ 0.77350677  3.23000945 -0.94899759 ... -0.1163932  -0.02326211\n",
      "  -0.6209765 ]]\n"
     ]
    }
   ],
   "source": [
    "mercedes_expanded_numpy = data_mercedes_expanded.to_numpy()\n",
    "print(\"Numpy dataset: \\n\",mercedes_expanded_numpy)\n",
    "print(\"\\nShape dataset: \",mercedes_expanded_numpy.shape)\n",
    "\n",
    "mu_mercedes = np.mean(mercedes_expanded_numpy, axis=0)\n",
    "#print(mu_mercedes)\n",
    "sigma_mercedes = np.std(mercedes_expanded_numpy, axis=0)\n",
    "#print(sigma_mercedes)\n",
    "mercedes_expanded_numpy_norm = (mercedes_expanded_numpy - mu_mercedes) / sigma_mercedes\n",
    "print(\"\\nNormalized Mercedes dataset: \\n\",mercedes_expanded_numpy_norm)"
   ]
  },
  {
   "cell_type": "markdown",
   "id": "9edb8e28",
   "metadata": {},
   "source": [
    "Selecting how much features and which features to be selected:"
   ]
  },
  {
   "cell_type": "code",
   "execution_count": 205,
   "id": "dcd0c7b9",
   "metadata": {},
   "outputs": [
    {
     "name": "stdout",
     "output_type": "stream",
     "text": [
      "Index(['year', 'mileage', 'tax', 'mpg', 'engineSize', 'model_ A Class',\n",
      "       'model_ B Class', 'model_ C Class', 'model_ CL Class',\n",
      "       'model_ CLA Class', 'model_ CLC Class', 'model_ CLK',\n",
      "       'model_ CLS Class', 'model_ E Class', 'model_ G Class',\n",
      "       'model_ GL Class', 'model_ GLA Class', 'model_ GLB Class',\n",
      "       'model_ GLC Class', 'model_ GLE Class', 'model_ GLS Class',\n",
      "       'model_ M Class', 'model_ R Class', 'model_ S Class', 'model_ SL CLASS',\n",
      "       'model_ SLK', 'model_ V Class', 'model_ X-CLASS', 'model_180',\n",
      "       'model_200', 'model_220', 'model_230', 'transmission_Automatic',\n",
      "       'transmission_Manual', 'transmission_Other', 'transmission_Semi-Auto',\n",
      "       'fuelType_Diesel', 'fuelType_Hybrid', 'fuelType_Other',\n",
      "       'fuelType_Petrol'],\n",
      "      dtype='object')\n"
     ]
    }
   ],
   "source": [
    "column_names_mercedes = data_mercedes_expanded.drop(columns = ['price']).columns\n",
    "print(column_names_mercedes)"
   ]
  },
  {
   "cell_type": "code",
   "execution_count": 226,
   "id": "083fc470",
   "metadata": {},
   "outputs": [
    {
     "name": "stdout",
     "output_type": "stream",
     "text": [
      "(12943, 40)\n",
      "(12943,)\n",
      "(12943, 41)\n"
     ]
    },
    {
     "data": {
      "image/png": "[encoded data removed]",
      "text/plain": [
       "<Figure size 432x288 with 1 Axes>"
      ]
     },
     "metadata": {
      "needs_background": "light"
     },
     "output_type": "display_data"
    }
   ],
   "source": [
    "#data\n",
    "X_mercedes = np.delete(mercedes_expanded_numpy_norm, 1, axis=1)\n",
    "y_mercedes = mercedes_expanded_numpy_norm[:,1]\n",
    "print(X_mercedes.shape)\n",
    "print(y_mercedes.shape)\n",
    "print(mercedes_expanded_numpy_norm.shape)\n",
    "\n",
    "\n",
    "#for features\n",
    "no_of_features = []\n",
    "r_squared = []\n",
    "\n",
    "\n",
    "for k in range(3, 40, 2):\n",
    "    selector = SelectKBest(f_regression, k = k)\n",
    "    X_transformed = selector.fit_transform(X_mercedes, y_mercedes)\n",
    "    regressor = LinearRegression()\n",
    "    regressor.fit(X_transformed, y_mercedes)\n",
    "    no_of_features.append(k)\n",
    "    teller = (1-(regressor.score(X_transformed, y_mercedes)))*(y_mercedes.size-1)\n",
    "    noemer = y_mercedes.size-1\n",
    "    r_squared.append(1-(teller/noemer))\n",
    "\n",
    "plotData(no_of_features, r_squared)\n"
   ]
  },
  {
   "cell_type": "code",
   "execution_count": 227,
   "id": "1ef659fa",
   "metadata": {
    "scrolled": true
   },
   "outputs": [
    {
     "name": "stdout",
     "output_type": "stream",
     "text": [
      "['year', 'mileage', 'tax', 'mpg', 'engineSize', 'model_ A Class', 'model_ B Class', 'model_ E Class', 'model_ GLA Class', 'model_ GLC Class', 'model_ GLE Class', 'model_ GLS Class', 'model_ S Class', 'model_ SL CLASS', 'model_ SLK', 'model_ V Class', 'transmission_Manual', 'transmission_Semi-Auto', 'fuelType_Diesel', 'fuelType_Petrol']\n"
     ]
    }
   ],
   "source": [
    "selector = SelectKBest(f_regression, k = 20)\n",
    "X_train_transformed = selector.fit_transform(X_mercedes, y_mercedes)\n",
    "features_columns = column_names_mercedes[selector.get_support()]\n",
    "print(features_columns.to_numpy().tolist())"
   ]
  },
  {
   "cell_type": "code",
   "execution_count": 228,
   "id": "a5d0d9b3",
   "metadata": {},
   "outputs": [
    {
     "data": {
      "text/html": [
       "<div>\n",
       "<style scoped>\n",
       "    .dataframe tbody tr th:only-of-type {\n",
       "        vertical-align: middle;\n",
       "    }\n",
       "\n",
       "    .dataframe tbody tr th {\n",
       "        vertical-align: top;\n",
       "    }\n",
       "\n",
       "    .dataframe thead th {\n",
       "        text-align: right;\n",
       "    }\n",
       "</style>\n",
       "<table border=\"1\" class=\"dataframe\">\n",
       "  <thead>\n",
       "    <tr style=\"text-align: right;\">\n",
       "      <th></th>\n",
       "      <th>year</th>\n",
       "      <th>mileage</th>\n",
       "      <th>tax</th>\n",
       "      <th>mpg</th>\n",
       "      <th>engineSize</th>\n",
       "      <th>model_ A Class</th>\n",
       "      <th>model_ B Class</th>\n",
       "      <th>model_ E Class</th>\n",
       "      <th>model_ GLA Class</th>\n",
       "      <th>model_ GLC Class</th>\n",
       "      <th>model_ GLE Class</th>\n",
       "      <th>model_ GLS Class</th>\n",
       "      <th>model_ S Class</th>\n",
       "      <th>model_ SL CLASS</th>\n",
       "      <th>model_ SLK</th>\n",
       "      <th>model_ V Class</th>\n",
       "      <th>transmission_Manual</th>\n",
       "      <th>transmission_Semi-Auto</th>\n",
       "      <th>fuelType_Diesel</th>\n",
       "      <th>fuelType_Petrol</th>\n",
       "    </tr>\n",
       "  </thead>\n",
       "  <tbody>\n",
       "    <tr>\n",
       "      <th>0</th>\n",
       "      <td>2005</td>\n",
       "      <td>63000</td>\n",
       "      <td>325</td>\n",
       "      <td>32.1</td>\n",
       "      <td>1.8</td>\n",
       "      <td>0</td>\n",
       "      <td>0</td>\n",
       "      <td>0</td>\n",
       "      <td>0</td>\n",
       "      <td>0</td>\n",
       "      <td>0</td>\n",
       "      <td>0</td>\n",
       "      <td>0</td>\n",
       "      <td>0</td>\n",
       "      <td>1</td>\n",
       "      <td>0</td>\n",
       "      <td>0</td>\n",
       "      <td>0</td>\n",
       "      <td>0</td>\n",
       "      <td>1</td>\n",
       "    </tr>\n",
       "    <tr>\n",
       "      <th>1</th>\n",
       "      <td>2017</td>\n",
       "      <td>27000</td>\n",
       "      <td>20</td>\n",
       "      <td>61.4</td>\n",
       "      <td>2.1</td>\n",
       "      <td>0</td>\n",
       "      <td>0</td>\n",
       "      <td>0</td>\n",
       "      <td>0</td>\n",
       "      <td>0</td>\n",
       "      <td>0</td>\n",
       "      <td>0</td>\n",
       "      <td>1</td>\n",
       "      <td>0</td>\n",
       "      <td>0</td>\n",
       "      <td>0</td>\n",
       "      <td>0</td>\n",
       "      <td>0</td>\n",
       "      <td>0</td>\n",
       "      <td>0</td>\n",
       "    </tr>\n",
       "    <tr>\n",
       "      <th>2</th>\n",
       "      <td>2016</td>\n",
       "      <td>6200</td>\n",
       "      <td>555</td>\n",
       "      <td>28.0</td>\n",
       "      <td>5.5</td>\n",
       "      <td>0</td>\n",
       "      <td>0</td>\n",
       "      <td>0</td>\n",
       "      <td>0</td>\n",
       "      <td>0</td>\n",
       "      <td>0</td>\n",
       "      <td>0</td>\n",
       "      <td>0</td>\n",
       "      <td>1</td>\n",
       "      <td>0</td>\n",
       "      <td>0</td>\n",
       "      <td>0</td>\n",
       "      <td>0</td>\n",
       "      <td>0</td>\n",
       "      <td>1</td>\n",
       "    </tr>\n",
       "    <tr>\n",
       "      <th>6</th>\n",
       "      <td>2018</td>\n",
       "      <td>16000</td>\n",
       "      <td>145</td>\n",
       "      <td>47.9</td>\n",
       "      <td>2.1</td>\n",
       "      <td>0</td>\n",
       "      <td>0</td>\n",
       "      <td>0</td>\n",
       "      <td>0</td>\n",
       "      <td>0</td>\n",
       "      <td>1</td>\n",
       "      <td>0</td>\n",
       "      <td>0</td>\n",
       "      <td>0</td>\n",
       "      <td>0</td>\n",
       "      <td>0</td>\n",
       "      <td>0</td>\n",
       "      <td>0</td>\n",
       "      <td>1</td>\n",
       "      <td>0</td>\n",
       "    </tr>\n",
       "    <tr>\n",
       "      <th>7</th>\n",
       "      <td>2012</td>\n",
       "      <td>107000</td>\n",
       "      <td>265</td>\n",
       "      <td>36.7</td>\n",
       "      <td>3.5</td>\n",
       "      <td>0</td>\n",
       "      <td>0</td>\n",
       "      <td>0</td>\n",
       "      <td>0</td>\n",
       "      <td>0</td>\n",
       "      <td>0</td>\n",
       "      <td>0</td>\n",
       "      <td>1</td>\n",
       "      <td>0</td>\n",
       "      <td>0</td>\n",
       "      <td>0</td>\n",
       "      <td>0</td>\n",
       "      <td>0</td>\n",
       "      <td>0</td>\n",
       "      <td>1</td>\n",
       "    </tr>\n",
       "  </tbody>\n",
       "</table>\n",
       "</div>"
      ],
      "text/plain": [
       "   year  mileage  tax   mpg  engineSize  model_ A Class  model_ B Class  \\\n",
       "0  2005    63000  325  32.1         1.8               0               0   \n",
       "1  2017    27000   20  61.4         2.1               0               0   \n",
       "2  2016     6200  555  28.0         5.5               0               0   \n",
       "6  2018    16000  145  47.9         2.1               0               0   \n",
       "7  2012   107000  265  36.7         3.5               0               0   \n",
       "\n",
       "   model_ E Class  model_ GLA Class  model_ GLC Class  model_ GLE Class  \\\n",
       "0               0                 0                 0                 0   \n",
       "1               0                 0                 0                 0   \n",
       "2               0                 0                 0                 0   \n",
       "6               0                 0                 0                 1   \n",
       "7               0                 0                 0                 0   \n",
       "\n",
       "   model_ GLS Class  model_ S Class  model_ SL CLASS  model_ SLK  \\\n",
       "0                 0               0                0           1   \n",
       "1                 0               1                0           0   \n",
       "2                 0               0                1           0   \n",
       "6                 0               0                0           0   \n",
       "7                 0               1                0           0   \n",
       "\n",
       "   model_ V Class  transmission_Manual  transmission_Semi-Auto  \\\n",
       "0               0                    0                       0   \n",
       "1               0                    0                       0   \n",
       "2               0                    0                       0   \n",
       "6               0                    0                       0   \n",
       "7               0                    0                       0   \n",
       "\n",
       "   fuelType_Diesel  fuelType_Petrol  \n",
       "0                0                1  \n",
       "1                0                0  \n",
       "2                0                1  \n",
       "6                1                0  \n",
       "7                0                1  "
      ]
     },
     "execution_count": 228,
     "metadata": {},
     "output_type": "execute_result"
    }
   ],
   "source": [
    "data_mercedes_expanded_filtered = data_mercedes_expanded[features_columns.to_numpy().tolist()]\n",
    "data_mercedes_expanded_filtered.head()"
   ]
  },
  {
   "cell_type": "markdown",
   "id": "452b92b5",
   "metadata": {},
   "source": [
    "Normalise features and convert to numpy:"
   ]
  },
  {
   "cell_type": "code",
   "execution_count": 229,
   "id": "d5a5f313",
   "metadata": {},
   "outputs": [
    {
     "name": "stdout",
     "output_type": "stream",
     "text": [
      "[[2.0050e+03 6.3000e+04 3.2500e+02 ... 0.0000e+00 0.0000e+00 1.0000e+00]\n",
      " [2.0170e+03 2.7000e+04 2.0000e+01 ... 0.0000e+00 0.0000e+00 0.0000e+00]\n",
      " [2.0160e+03 6.2000e+03 5.5500e+02 ... 0.0000e+00 0.0000e+00 1.0000e+00]\n",
      " ...\n",
      " [2.0190e+03 1.1612e+04 1.4500e+02 ... 0.0000e+00 1.0000e+00 0.0000e+00]\n",
      " [2.0190e+03 2.4260e+03 1.4500e+02 ... 0.0000e+00 1.0000e+00 0.0000e+00]\n",
      " [2.0190e+03 2.0750e+03 1.4500e+02 ... 0.0000e+00 1.0000e+00 0.0000e+00]]\n",
      "\n",
      "Normalized Mercedes dataset: \n",
      " [[-5.5063881   1.92461731  2.99362037 ... -1.04270993 -1.55636222\n",
      "   1.61036689]\n",
      " [-0.12362107  0.22662574 -1.67964527 ... -1.04270993 -1.55636222\n",
      "  -0.6209765 ]\n",
      " [-0.57218499 -0.75443605  6.51772233 ... -1.04270993 -1.55636222\n",
      "   1.61036689]\n",
      " ...\n",
      " [ 0.77350677 -0.49917132  0.23562754 ... -1.04270993  0.64252395\n",
      "  -0.6209765 ]\n",
      " [ 0.77350677 -0.93244217  0.23562754 ... -1.04270993  0.64252395\n",
      "  -0.6209765 ]\n",
      " [ 0.77350677 -0.94899759  0.23562754 ... -1.04270993  0.64252395\n",
      "  -0.6209765 ]]\n"
     ]
    }
   ],
   "source": [
    "mercedes_expanded_goodfeatures_numpy = data_mercedes_expanded_filtered.to_numpy()\n",
    "print(mercedes_expanded_goodfeatures_numpy)\n",
    "\n",
    "#normalize\n",
    "mu_mercedes_features = np.mean(mercedes_expanded_goodfeatures_numpy, axis=0)\n",
    "#print(mu_mercedes)\n",
    "sigma_mercedes_features = np.std(mercedes_expanded_goodfeatures_numpy, axis=0)\n",
    "#print(sigma_mercedes)\n",
    "mercedes_expanded_features_norm = (mercedes_expanded_goodfeatures_numpy - mu_mercedes_features) / sigma_mercedes_features\n",
    "print(\"\\nNormalized Mercedes dataset: \\n\",mercedes_expanded_features_norm)"
   ]
  },
  {
   "cell_type": "markdown",
   "id": "b8bc118c",
   "metadata": {},
   "source": [
    "Paste 1's before continueing:"
   ]
  },
  {
   "cell_type": "code",
   "execution_count": 230,
   "id": "a340488d",
   "metadata": {},
   "outputs": [
    {
     "name": "stdout",
     "output_type": "stream",
     "text": [
      "[[ 1.         -5.5063881   1.92461731 ... -1.04270993 -1.55636222\n",
      "   1.61036689]\n",
      " [ 1.         -0.12362107  0.22662574 ... -1.04270993 -1.55636222\n",
      "  -0.6209765 ]\n",
      " [ 1.         -0.57218499 -0.75443605 ... -1.04270993 -1.55636222\n",
      "   1.61036689]\n",
      " ...\n",
      " [ 1.          0.77350677 -0.49917132 ... -1.04270993  0.64252395\n",
      "  -0.6209765 ]\n",
      " [ 1.          0.77350677 -0.93244217 ... -1.04270993  0.64252395\n",
      "  -0.6209765 ]\n",
      " [ 1.          0.77350677 -0.94899759 ... -1.04270993  0.64252395\n",
      "  -0.6209765 ]]\n"
     ]
    }
   ],
   "source": [
    "m_merc = y_mercedes.size #dataset size\n",
    "X_multi_merc = np.concatenate([np.ones((m_merc, 1)), mercedes_expanded_features_norm], axis=1)\n",
    "print(X_multi_merc)\n",
    "#print(mercedes_expanded_features_norm.shape)\n",
    "#print(m_merc)\n"
   ]
  },
  {
   "cell_type": "markdown",
   "id": "672e0ed0",
   "metadata": {},
   "source": [
    "Some functions to compute cost and gradient descent for multiple features:"
   ]
  },
  {
   "cell_type": "code",
   "execution_count": 244,
   "id": "3691441c",
   "metadata": {},
   "outputs": [],
   "source": [
    "def computeCostMulti(X, y, theta, lambda_ = 0):\n",
    "    \"\"\"\n",
    "    Compute cost for linear regression with multiple variables.\n",
    "    Computes the cost of using theta as the parameter for linear regression to fit the data points in X and y.\n",
    "    \n",
    "    Parameters\n",
    "    ----------\n",
    "    X : array_like\n",
    "        The dataset of shape (m x n+1).\n",
    "    \n",
    "    y : array_like\n",
    "        A vector of shape (m, ) for the values at a given data point.\n",
    "    \n",
    "    theta : array_like\n",
    "        The linear regression parameters. A vector of shape (n+1, )\n",
    "    \n",
    "    Returns\n",
    "    -------\n",
    "    J : float\n",
    "        The value of the cost function. \n",
    "    \n",
    "    Instructions\n",
    "    ------------\n",
    "    Compute the cost of a particular choice of theta. You should set J to the cost.\n",
    "    \"\"\"\n",
    "    # Initialize some useful values\n",
    "    m = y.shape[0] # number of training examples\n",
    "    \n",
    "    # You need to return the following variable correctly\n",
    "    J = 0\n",
    "    grad = np.zeros(theta.shape)\n",
    "    \n",
    "    # ======================= YOUR CODE HERE ===========================\n",
    "    h = np.dot(X, theta)\n",
    "    \n",
    "    J = (1/(2 * m)) * np.sum(np.square(np.dot(X, theta) - y)) + (lambda_/(2*m))*(np.sum(theta[1:]**2))\n",
    "    grad = (1 / m) * (h - y).dot(X)\n",
    "    grad[1:] = grad[1:] + (lambda_ / m) * theta[1:]\n",
    "    # ==================================================================\n",
    "    return J, grad\n",
    "\n",
    "def gradientDescentMulti(X, y, theta, alpha, num_iters):\n",
    "    \"\"\"\n",
    "    Performs gradient descent to learn theta.\n",
    "    Updates theta by taking num_iters gradient steps with learning rate alpha.\n",
    "        \n",
    "    Parameters\n",
    "    ----------\n",
    "    X : array_like\n",
    "        The dataset of shape (m x n+1).\n",
    "    \n",
    "    y : array_like\n",
    "        A vector of shape (m, ) for the values at a given data point.\n",
    "    \n",
    "    theta : array_like\n",
    "        The linear regression parameters. A vector of shape (n+1, )\n",
    "    \n",
    "    alpha : float\n",
    "        The learning rate for gradient descent. \n",
    "    \n",
    "    num_iters : int\n",
    "        The number of iterations to run gradient descent. \n",
    "    \n",
    "    Returns\n",
    "    -------\n",
    "    theta : array_like\n",
    "        The learned linear regression parameters. A vector of shape (n+1, ).\n",
    "    \n",
    "    J_history : list\n",
    "        A python list for the values of the cost function after each iteration.\n",
    "    \n",
    "    Instructions\n",
    "    ------------\n",
    "    Peform a single gradient step on the parameter vector theta.\n",
    "\n",
    "    While debugging, it can be useful to print out the values of \n",
    "    the cost function (computeCost) and gradient here.\n",
    "    \"\"\"\n",
    "    # Initialize some useful values\n",
    "    m = y.shape[0] # number of training examples\n",
    "    \n",
    "    # make a copy of theta, which will be updated by gradient descent\n",
    "    theta = theta.copy()\n",
    "    \n",
    "    J_history = []\n",
    "    \n",
    "    for i in range(num_iters):\n",
    "        # ======================= YOUR CODE HERE ==========================\n",
    "\n",
    "        theta = theta - (alpha / m) * (np.dot(X, theta) - y).dot(X)\n",
    "        # =================================================================\n",
    "        \n",
    "        # save the cost J in every iteration\n",
    "        J_history.append(computeCostMulti(X, y, theta))\n",
    "    \n",
    "    return theta, J_history\n"
   ]
  },
  {
   "cell_type": "code",
   "execution_count": 254,
   "id": "e1300529",
   "metadata": {},
   "outputs": [
    {
     "name": "stderr",
     "output_type": "stream",
     "text": [
      "C:\\ProgramData\\Anaconda3\\lib\\site-packages\\scipy\\optimize\\_minimize.py:519: RuntimeWarning: Method Nelder-Mead does not use gradient information (jac).\n",
      "  warn('Method %s does not use gradient information (jac).' % method,\n"
     ]
    },
    {
     "name": "stdout",
     "output_type": "stream",
     "text": [
      "[ 0.04548493  0.19872907 -0.32072724  0.09643849 -0.01324003  0.13303493\n",
      " -0.0619169  -0.08515498  0.07324289 -0.23856144  0.07893366  0.17376435\n",
      "  0.03625178 -0.16911368  0.05263795 -0.04321819  0.01708997 -0.06176044\n",
      " -0.03780152  0.09268686  0.04885475]\n"
     ]
    },
    {
     "data": {
      "text/plain": [
       "'\\n# Choose some alpha value - change this\\nalpha = 0.00001\\nnum_iters = 200000\\n\\n# init theta and run gradient descent\\ntheta_multi = np.zeros(21)\\ntheta_multi, J_history = gradientDescentMulti(X_multi_merc, y_mercedes, theta_multi, alpha, num_iters)\\nprint(theta_multi)\\n'"
      ]
     },
     "execution_count": 254,
     "metadata": {},
     "output_type": "execute_result"
    }
   ],
   "source": [
    "\"\"\"\n",
    "# initialize fitting parameters\n",
    "theta_multivariate_merc = np.zeros(26)\n",
    "\n",
    "# some gradient descent settings\n",
    "iterations = 100000\n",
    "alpha = 0.1\n",
    "\n",
    "theta_multivariate_merc, J_history_multi = gradientDescentMulti(X_multi_merc ,y_mercedes, theta_multivariate_merc, alpha, iterations)\n",
    "print('Theta found by gradient descent: {:.4f}, {:.4f}'.format(*theta_multivariate_merc))\n",
    "\"\"\"\n",
    "\n",
    "\n",
    "lambda_ = 0\n",
    "theta_multi = trainLinearReg(computeCostMulti, X_multi_merc, y_mercedes,\n",
    "                             lambda_=lambda_, maxiter=1000)\n",
    "print(theta_multi)\n",
    "\n",
    "\n",
    "\"\"\"\n",
    "# Choose some alpha value - change this\n",
    "alpha = 0.00001\n",
    "num_iters = 200000\n",
    "\n",
    "# init theta and run gradient descent\n",
    "theta_multi = np.zeros(21)\n",
    "theta_multi, J_history = gradientDescentMulti(X_multi_merc, y_mercedes, theta_multi, alpha, num_iters)\n",
    "print(theta_multi)\n",
    "\"\"\""
   ]
  },
  {
   "cell_type": "code",
   "execution_count": 251,
   "id": "cd61e42f",
   "metadata": {},
   "outputs": [
    {
     "name": "stdout",
     "output_type": "stream",
     "text": [
      "34.98795120976028\n"
     ]
    },
    {
     "data": {
      "text/plain": [
       "Text(0, 0.5, 'Cost J')"
      ]
     },
     "execution_count": 251,
     "metadata": {},
     "output_type": "execute_result"
    },
    {
     "data": {
      "image/png": "[encoded data removed]",
      "text/plain": [
       "<Figure size 432x288 with 1 Axes>"
      ]
     },
     "metadata": {
      "needs_background": "light"
     },
     "output_type": "display_data"
    }
   ],
   "source": [
    "#['year', 'mileage', 'tax', 'mpg', 'engineSize', 'model_ A Class', \n",
    "#'model_ B Class', 'model_ E Class', 'model_ GLA Class', 'model_ GLC Class', \n",
    "#'model_ GLE Class', 'model_ GLS Class', 'model_ S Class', \n",
    "#'model_ SL CLASS', 'model_ SLK', 'model_ V Class', \n",
    "#'transmission_Manual', 'transmission_Semi-Auto', 'fuelType_Diesel', \n",
    "#'fuelType_Petrol']\n",
    "X_prediction = [1, 2019, 20498, 30, 20, 64.2, 20.1, 0, 0, 0, 0, 0, 0, 0, 0, 0, 0, 0, 0, 1, 0] \n",
    "X_prediction[1:21] = (X_prediction[1:21] - mu_mercedes_features) / sigma_mercedes_features\n",
    "#print(np.array(X_prediction).shape)\n",
    "price = np.dot(X_prediction, theta_multi)\n",
    "print(price)\n",
    "\n",
    "pyplot.plot(np.arange(len(J_history)), J_history, lw=2)\n",
    "pyplot.xlabel('Number of iterations')\n",
    "pyplot.ylabel('Cost J')"
   ]
  },
  {
   "cell_type": "code",
   "execution_count": 236,
   "id": "6434ad12",
   "metadata": {},
   "outputs": [],
   "source": [
    "def regression_model(model):\n",
    "    regressor = model\n",
    "    regressor.fit(X_multi_merc, y_mercedes)\n",
    "    score = regressor.score(X_multi_merc, y_mercedes)\n",
    "    return regressor, score"
   ]
  },
  {
   "cell_type": "code",
   "execution_count": 237,
   "id": "9b0dd6cc",
   "metadata": {},
   "outputs": [
    {
     "name": "stdout",
     "output_type": "stream",
     "text": [
      "0.8001519914546769\n"
     ]
    }
   ],
   "source": [
    "regressor, score = regression_model(LinearRegression())\n",
    "print(score)"
   ]
  },
  {
   "cell_type": "code",
   "execution_count": 195,
   "id": "26f39677",
   "metadata": {},
   "outputs": [
    {
     "name": "stderr",
     "output_type": "stream",
     "text": [
      "C:\\ProgramData\\Anaconda3\\lib\\site-packages\\seaborn\\distributions.py:2557: FutureWarning: `distplot` is a deprecated function and will be removed in a future version. Please adapt your code to use either `displot` (a figure-level function with similar flexibility) or `histplot` (an axes-level function for histograms).\n",
      "  warnings.warn(msg, FutureWarning)\n"
     ]
    },
    {
     "data": {
      "text/plain": [
       "<AxesSubplot:xlabel='price', ylabel='Density'>"
      ]
     },
     "execution_count": 195,
     "metadata": {},
     "output_type": "execute_result"
    },
    {
     "data": {
      "image/png": "[encoded data removed]",
      "text/plain": [
       "<Figure size 432x288 with 1 Axes>"
      ]
     },
     "metadata": {
      "needs_background": "light"
     },
     "output_type": "display_data"
    }
   ],
   "source": [
    "sbn.distplot(mercedes[\"price\"])"
   ]
  },
  {
   "cell_type": "code",
   "execution_count": 197,
   "id": "fd2ddc6e",
   "metadata": {},
   "outputs": [
    {
     "name": "stderr",
     "output_type": "stream",
     "text": [
      "C:\\ProgramData\\Anaconda3\\lib\\site-packages\\seaborn\\distributions.py:2557: FutureWarning: `distplot` is a deprecated function and will be removed in a future version. Please adapt your code to use either `displot` (a figure-level function with similar flexibility) or `histplot` (an axes-level function for histograms).\n",
      "  warnings.warn(msg, FutureWarning)\n"
     ]
    },
    {
     "data": {
      "text/plain": [
       "<AxesSubplot:xlabel='price', ylabel='Density'>"
      ]
     },
     "execution_count": 197,
     "metadata": {},
     "output_type": "execute_result"
    },
    {
     "data": {
      "image/png": "[encoded data removed]",
      "text/plain": [
       "<Figure size 432x288 with 1 Axes>"
      ]
     },
     "metadata": {
      "needs_background": "light"
     },
     "output_type": "display_data"
    }
   ],
   "source": []
  },
  {
   "cell_type": "code",
   "execution_count": null,
   "id": "41e4bc3c",
   "metadata": {},
   "outputs": [],
   "source": []
  }
 ],
 "metadata": {
  "kernelspec": {
   "display_name": "Python 3",
   "language": "python",
   "name": "python3"
  },
  "language_info": {
   "codemirror_mode": {
    "name": "ipython",
    "version": 3
   },
   "file_extension": ".py",
   "mimetype": "text/x-python",
   "name": "python",
   "nbconvert_exporter": "python",
   "pygments_lexer": "ipython3",
   "version": "3.8.8"
  }
 },
 "nbformat": 4,
 "nbformat_minor": 5
}
