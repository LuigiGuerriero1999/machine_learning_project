{
 "cells": [
  {
   "cell_type": "markdown",
   "id": "381ce5f6",
   "metadata": {},
   "source": [
    "<h1 style=\"font-size:2.5em; color:#f5a442;\">Machine Learning [4483] Project: A second\n",
    "hand car price prediction\n",
    "system with additional trends and\n",
    "insights</h1>"
   ]
  },
  {
   "cell_type": "markdown",
   "id": "886b4b7a",
   "metadata": {},
   "source": [
    "<h2 style=\"font-size:1.5em; color:#808080;\">Kai Broux (r0745431) and Luigi Guerriero (r0760424)</h2>\n",
    "<h2 style=\"font-size:1.0em; color:#808080;\">Master's students IIW UHasselt-KULeuven Campus Diepenbeek</h2>"
   ]
  },
  {
   "cell_type": "markdown",
   "id": "09eb90df",
   "metadata": {},
   "source": [
    "# 1. Introduction"
   ]
  },
  {
   "cell_type": "markdown",
   "id": "b30b209d",
   "metadata": {},
   "source": [
    "The goal of our project is to make a price prediction system for used cars and to extract interesting information and insights. The price prediction model and insights can be extracted from a dataset of different used cars. The model and insights could be then later used as a tool for a second-hand car retailer to give insights to potential customers shopping for a second-hand car. Moreover, this price prediction model and insights tool may also come in handy for a customer looking to sell his/her car.\n",
    "\n",
    "This [`dataset`](https://www.kaggle.com/adityadesai13/used-car-dataset-ford-and-mercedes) contains data from 100 000 used cars from the UK which are divided into separate brands. Each brand is divided into a separate file and contains information about the model, year, price, transmission, mileage, fuel type, road tax, mpg and engine size."
   ]
  },
  {
   "cell_type": "markdown",
   "id": "f04b9769",
   "metadata": {},
   "source": [
    "Before we begin with the project, we need to import all libraries required for this project. Throughout the course, we will be using [`numpy`](http://www.numpy.org/) for all arrays and matrix operations, and [`matplotlib`](https://matplotlib.org/) for plotting. In this assignment, we will also use [`scipy`](https://docs.scipy.org/doc/scipy/reference/), which contains scientific and numerical computation functions and tools. "
   ]
  },
  {
   "cell_type": "code",
   "execution_count": 1,
   "id": "bc4f95a8",
   "metadata": {},
   "outputs": [],
   "source": [
    "# used for manipulating directory paths\n",
    "import os\n",
    "\n",
    "# Scientific and vector computation for python\n",
    "import numpy as np\n",
    "\n",
    "# used for importing .csv data\n",
    "import pandas as pd\n",
    "\n",
    "# Plotting library\n",
    "from matplotlib import pyplot\n",
    "from mpl_toolkits.mplot3d import Axes3D  # needed to plot 3-D surfaces\n",
    "\n",
    "# Optimization module in scipy\n",
    "from scipy import optimize\n",
    "\n",
    "# For determining R2\n",
    "from sklearn.metrics import r2_score\n",
    "\n",
    "# Tools for extracting how much features and which features we need\n",
    "from sklearn.ensemble import RandomForestRegressor\n",
    "from sklearn.feature_selection import SelectKBest, f_regression\n",
    "from sklearn.linear_model import LinearRegression, Ridge, Lasso\n",
    "from sklearn.model_selection import train_test_split, cross_val_score\n",
    "from sklearn.neural_network import MLPRegressor\n",
    "from sklearn.preprocessing import StandardScaler\n",
    "from sklearn.preprocessing import PolynomialFeatures\n",
    "from sklearn.svm import SVR\n",
    "\n",
    "import scipy\n",
    "\n",
    "import seaborn as sbn\n",
    "\n",
    "# tells matplotlib to embed plots within the notebook\n",
    "%matplotlib inline"
   ]
  },
  {
   "cell_type": "markdown",
   "id": "8f25c34c",
   "metadata": {},
   "source": [
    "# 2. Project itself"
   ]
  },
  {
   "cell_type": "markdown",
   "id": "55943262",
   "metadata": {},
   "source": [
    "###  2.1 Loading in the data"
   ]
  },
  {
   "cell_type": "markdown",
   "id": "b98aa843",
   "metadata": {},
   "source": [
    "As mentioned in the introduction a separate file of a car brand is stored in a `.csv` file and consist of the following columns:\n",
    "\n",
    "    Model: Model type.\n",
    "    Year: Registration Year.\n",
    "    Price: Price in euros.\n",
    "    Transmission: Type of Gearbos.\n",
    "    Mileage: Distance Used.\n",
    "    FuelType: Engine Fuel.\n",
    "    Tax: Road Tax.\n",
    "    mpg: Miles per Gallon.\n",
    "    EngineSize: Size in litres.\n",
    "    Brand: Name of the car brand.\n",
    "\n",
    "To load in the dataset, we first have to load in the separate `.csv` files. "
   ]
  },
  {
   "cell_type": "code",
   "execution_count": 2,
   "id": "527c81b3",
   "metadata": {},
   "outputs": [],
   "source": [
    "audi = pd.read_csv(\"dataset/audi.csv\")\n",
    "bmw = pd.read_csv(\"dataset/bmw.csv\")\n",
    "ford = pd.read_csv(\"dataset/ford.csv\")\n",
    "hyundai = pd.read_csv(\"dataset/hyundi.csv\")\n",
    "mercedes = pd.read_csv(\"dataset/merc.csv\")\n",
    "skoda = pd.read_csv(\"dataset/skoda.csv\")\n",
    "toyota = pd.read_csv(\"dataset/toyota.csv\")\n",
    "vauxhall = pd.read_csv(\"dataset/vauxhall.csv\")\n",
    "volkswagen = pd.read_csv(\"dataset/vw.csv\")"
   ]
  },
  {
   "cell_type": "markdown",
   "id": "97be471c",
   "metadata": {},
   "source": [
    "We are having different datasets for different brands. So if we want to combine them we need to add an extra column to each `.csv` file describing the name of the brand :"
   ]
  },
  {
   "cell_type": "code",
   "execution_count": 3,
   "id": "a3a4ac75",
   "metadata": {},
   "outputs": [],
   "source": [
    "audi['brand'] = 'audi'\n",
    "bmw['brand'] = 'bmw'\n",
    "ford['brand'] = 'ford'\n",
    "hyundai['brand'] = 'hyundai'\n",
    "mercedes['brand'] = 'mercedes'\n",
    "skoda['brand'] = 'skoda'\n",
    "toyota['brand'] = 'toyota'\n",
    "vauxhall['brand'] = 'vauxhall'\n",
    "volkswagen['brand'] = 'volkswagen'"
   ]
  },
  {
   "cell_type": "markdown",
   "id": "2f976fd9",
   "metadata": {},
   "source": [
    "### 2.2 Lineair regression with one variable "
   ]
  },
  {
   "cell_type": "markdown",
   "id": "509e3763",
   "metadata": {},
   "source": [
    "To start of simply, we are going to apply linear regression with one variable to determine the price of a Mercedes C-class, more specific the W205 model. We can use the `cclass.csv` and only look to at the the C-class from years 2014-2021.\n",
    "\n",
    "We have to first load the dataset:"
   ]
  },
  {
   "cell_type": "code",
   "execution_count": 4,
   "id": "cbca7034",
   "metadata": {},
   "outputs": [
    {
     "data": {
      "text/html": [
       "<div>\n",
       "<style scoped>\n",
       "    .dataframe tbody tr th:only-of-type {\n",
       "        vertical-align: middle;\n",
       "    }\n",
       "\n",
       "    .dataframe tbody tr th {\n",
       "        vertical-align: top;\n",
       "    }\n",
       "\n",
       "    .dataframe thead th {\n",
       "        text-align: right;\n",
       "    }\n",
       "</style>\n",
       "<table border=\"1\" class=\"dataframe\">\n",
       "  <thead>\n",
       "    <tr style=\"text-align: right;\">\n",
       "      <th></th>\n",
       "      <th>model</th>\n",
       "      <th>year</th>\n",
       "      <th>price</th>\n",
       "      <th>transmission</th>\n",
       "      <th>mileage</th>\n",
       "      <th>fuelType</th>\n",
       "      <th>engineSize</th>\n",
       "    </tr>\n",
       "  </thead>\n",
       "  <tbody>\n",
       "    <tr>\n",
       "      <th>0</th>\n",
       "      <td>C Class</td>\n",
       "      <td>2020</td>\n",
       "      <td>30495</td>\n",
       "      <td>Automatic</td>\n",
       "      <td>1200</td>\n",
       "      <td>Diesel</td>\n",
       "      <td>2.0</td>\n",
       "    </tr>\n",
       "    <tr>\n",
       "      <th>1</th>\n",
       "      <td>C Class</td>\n",
       "      <td>2020</td>\n",
       "      <td>29989</td>\n",
       "      <td>Automatic</td>\n",
       "      <td>1000</td>\n",
       "      <td>Petrol</td>\n",
       "      <td>1.5</td>\n",
       "    </tr>\n",
       "    <tr>\n",
       "      <th>2</th>\n",
       "      <td>C Class</td>\n",
       "      <td>2020</td>\n",
       "      <td>37899</td>\n",
       "      <td>Automatic</td>\n",
       "      <td>500</td>\n",
       "      <td>Diesel</td>\n",
       "      <td>2.0</td>\n",
       "    </tr>\n",
       "    <tr>\n",
       "      <th>3</th>\n",
       "      <td>C Class</td>\n",
       "      <td>2019</td>\n",
       "      <td>30399</td>\n",
       "      <td>Automatic</td>\n",
       "      <td>5000</td>\n",
       "      <td>Diesel</td>\n",
       "      <td>2.0</td>\n",
       "    </tr>\n",
       "    <tr>\n",
       "      <th>4</th>\n",
       "      <td>C Class</td>\n",
       "      <td>2019</td>\n",
       "      <td>29899</td>\n",
       "      <td>Automatic</td>\n",
       "      <td>4500</td>\n",
       "      <td>Diesel</td>\n",
       "      <td>2.0</td>\n",
       "    </tr>\n",
       "    <tr>\n",
       "      <th>...</th>\n",
       "      <td>...</td>\n",
       "      <td>...</td>\n",
       "      <td>...</td>\n",
       "      <td>...</td>\n",
       "      <td>...</td>\n",
       "      <td>...</td>\n",
       "      <td>...</td>\n",
       "    </tr>\n",
       "    <tr>\n",
       "      <th>3894</th>\n",
       "      <td>C Class</td>\n",
       "      <td>2017</td>\n",
       "      <td>14700</td>\n",
       "      <td>Manual</td>\n",
       "      <td>31357</td>\n",
       "      <td>Diesel</td>\n",
       "      <td>1.6</td>\n",
       "    </tr>\n",
       "    <tr>\n",
       "      <th>3895</th>\n",
       "      <td>C Class</td>\n",
       "      <td>2018</td>\n",
       "      <td>18500</td>\n",
       "      <td>Automatic</td>\n",
       "      <td>28248</td>\n",
       "      <td>Diesel</td>\n",
       "      <td>2.1</td>\n",
       "    </tr>\n",
       "    <tr>\n",
       "      <th>3896</th>\n",
       "      <td>C Class</td>\n",
       "      <td>2014</td>\n",
       "      <td>11900</td>\n",
       "      <td>Manual</td>\n",
       "      <td>48055</td>\n",
       "      <td>Diesel</td>\n",
       "      <td>2.1</td>\n",
       "    </tr>\n",
       "    <tr>\n",
       "      <th>3897</th>\n",
       "      <td>C Class</td>\n",
       "      <td>2014</td>\n",
       "      <td>11300</td>\n",
       "      <td>Automatic</td>\n",
       "      <td>49865</td>\n",
       "      <td>Diesel</td>\n",
       "      <td>2.1</td>\n",
       "    </tr>\n",
       "    <tr>\n",
       "      <th>3898</th>\n",
       "      <td>C Class</td>\n",
       "      <td>2014</td>\n",
       "      <td>14800</td>\n",
       "      <td>Automatic</td>\n",
       "      <td>55445</td>\n",
       "      <td>Diesel</td>\n",
       "      <td>2.1</td>\n",
       "    </tr>\n",
       "  </tbody>\n",
       "</table>\n",
       "<p>3899 rows × 7 columns</p>\n",
       "</div>"
      ],
      "text/plain": [
       "         model  year  price transmission  mileage fuelType  engineSize\n",
       "0      C Class  2020  30495    Automatic     1200   Diesel         2.0\n",
       "1      C Class  2020  29989    Automatic     1000   Petrol         1.5\n",
       "2      C Class  2020  37899    Automatic      500   Diesel         2.0\n",
       "3      C Class  2019  30399    Automatic     5000   Diesel         2.0\n",
       "4      C Class  2019  29899    Automatic     4500   Diesel         2.0\n",
       "...        ...   ...    ...          ...      ...      ...         ...\n",
       "3894   C Class  2017  14700       Manual    31357   Diesel         1.6\n",
       "3895   C Class  2018  18500    Automatic    28248   Diesel         2.1\n",
       "3896   C Class  2014  11900       Manual    48055   Diesel         2.1\n",
       "3897   C Class  2014  11300    Automatic    49865   Diesel         2.1\n",
       "3898   C Class  2014  14800    Automatic    55445   Diesel         2.1\n",
       "\n",
       "[3899 rows x 7 columns]"
      ]
     },
     "metadata": {},
     "output_type": "display_data"
    }
   ],
   "source": [
    "cclass = pd.read_csv(\"dataset/cclass.csv\")\n",
    "display(cclass)"
   ]
  },
  {
   "cell_type": "markdown",
   "id": "8a81608d",
   "metadata": {},
   "source": [
    "Let's take a look at our price density to figure out if we have to trim the data:"
   ]
  },
  {
   "cell_type": "code",
   "execution_count": 5,
   "id": "eb7a4be4",
   "metadata": {},
   "outputs": [
    {
     "name": "stderr",
     "output_type": "stream",
     "text": [
      "C:\\ProgramData\\Anaconda3\\lib\\site-packages\\seaborn\\distributions.py:2557: FutureWarning: `distplot` is a deprecated function and will be removed in a future version. Please adapt your code to use either `displot` (a figure-level function with similar flexibility) or `histplot` (an axes-level function for histograms).\n",
      "  warnings.warn(msg, FutureWarning)\n"
     ]
    },
    {
     "data": {
      "text/plain": [
       "<AxesSubplot:xlabel='price', ylabel='Density'>"
      ]
     },
     "execution_count": 5,
     "metadata": {},
     "output_type": "execute_result"
    },
    {
     "data": {
      "image/png": "[encoded data removed]",
      "text/plain": [
       "<Figure size 432x288 with 1 Axes>"
      ]
     },
     "metadata": {
      "needs_background": "light"
     },
     "output_type": "display_data"
    }
   ],
   "source": [
    "sbn.distplot(cclass[\"price\"])"
   ]
  },
  {
   "cell_type": "markdown",
   "id": "2df948b8",
   "metadata": {},
   "source": [
    "There are a lot of outliers above the 50000 price that do not respresent the majority of the data. So we filter out the c-classes ranging from 0-50000:"
   ]
  },
  {
   "cell_type": "markdown",
   "id": "b60efdca",
   "metadata": {},
   "source": [
    "Since we want to examine the C-class W205 model we have to filter out the C-classes that are not in the 2014-2021 year-range: "
   ]
  },
  {
   "cell_type": "code",
   "execution_count": 6,
   "id": "c550de49",
   "metadata": {},
   "outputs": [
    {
     "data": {
      "text/html": [
       "<div>\n",
       "<style scoped>\n",
       "    .dataframe tbody tr th:only-of-type {\n",
       "        vertical-align: middle;\n",
       "    }\n",
       "\n",
       "    .dataframe tbody tr th {\n",
       "        vertical-align: top;\n",
       "    }\n",
       "\n",
       "    .dataframe thead th {\n",
       "        text-align: right;\n",
       "    }\n",
       "</style>\n",
       "<table border=\"1\" class=\"dataframe\">\n",
       "  <thead>\n",
       "    <tr style=\"text-align: right;\">\n",
       "      <th></th>\n",
       "      <th>model</th>\n",
       "      <th>year</th>\n",
       "      <th>price</th>\n",
       "      <th>transmission</th>\n",
       "      <th>mileage</th>\n",
       "      <th>fuelType</th>\n",
       "      <th>engineSize</th>\n",
       "    </tr>\n",
       "  </thead>\n",
       "  <tbody>\n",
       "    <tr>\n",
       "      <th>0</th>\n",
       "      <td>C Class</td>\n",
       "      <td>2020</td>\n",
       "      <td>30495</td>\n",
       "      <td>Automatic</td>\n",
       "      <td>1200</td>\n",
       "      <td>Diesel</td>\n",
       "      <td>2.0</td>\n",
       "    </tr>\n",
       "    <tr>\n",
       "      <th>1</th>\n",
       "      <td>C Class</td>\n",
       "      <td>2020</td>\n",
       "      <td>29989</td>\n",
       "      <td>Automatic</td>\n",
       "      <td>1000</td>\n",
       "      <td>Petrol</td>\n",
       "      <td>1.5</td>\n",
       "    </tr>\n",
       "    <tr>\n",
       "      <th>2</th>\n",
       "      <td>C Class</td>\n",
       "      <td>2020</td>\n",
       "      <td>37899</td>\n",
       "      <td>Automatic</td>\n",
       "      <td>500</td>\n",
       "      <td>Diesel</td>\n",
       "      <td>2.0</td>\n",
       "    </tr>\n",
       "    <tr>\n",
       "      <th>3</th>\n",
       "      <td>C Class</td>\n",
       "      <td>2019</td>\n",
       "      <td>30399</td>\n",
       "      <td>Automatic</td>\n",
       "      <td>5000</td>\n",
       "      <td>Diesel</td>\n",
       "      <td>2.0</td>\n",
       "    </tr>\n",
       "    <tr>\n",
       "      <th>4</th>\n",
       "      <td>C Class</td>\n",
       "      <td>2019</td>\n",
       "      <td>29899</td>\n",
       "      <td>Automatic</td>\n",
       "      <td>4500</td>\n",
       "      <td>Diesel</td>\n",
       "      <td>2.0</td>\n",
       "    </tr>\n",
       "    <tr>\n",
       "      <th>...</th>\n",
       "      <td>...</td>\n",
       "      <td>...</td>\n",
       "      <td>...</td>\n",
       "      <td>...</td>\n",
       "      <td>...</td>\n",
       "      <td>...</td>\n",
       "      <td>...</td>\n",
       "    </tr>\n",
       "    <tr>\n",
       "      <th>3891</th>\n",
       "      <td>C Class</td>\n",
       "      <td>2018</td>\n",
       "      <td>23600</td>\n",
       "      <td>Automatic</td>\n",
       "      <td>18834</td>\n",
       "      <td>Petrol</td>\n",
       "      <td>2.0</td>\n",
       "    </tr>\n",
       "    <tr>\n",
       "      <th>3892</th>\n",
       "      <td>C Class</td>\n",
       "      <td>2018</td>\n",
       "      <td>19900</td>\n",
       "      <td>Manual</td>\n",
       "      <td>31540</td>\n",
       "      <td>Petrol</td>\n",
       "      <td>2.0</td>\n",
       "    </tr>\n",
       "    <tr>\n",
       "      <th>3893</th>\n",
       "      <td>C Class</td>\n",
       "      <td>2016</td>\n",
       "      <td>21000</td>\n",
       "      <td>Automatic</td>\n",
       "      <td>21547</td>\n",
       "      <td>Diesel</td>\n",
       "      <td>2.1</td>\n",
       "    </tr>\n",
       "    <tr>\n",
       "      <th>3894</th>\n",
       "      <td>C Class</td>\n",
       "      <td>2017</td>\n",
       "      <td>14700</td>\n",
       "      <td>Manual</td>\n",
       "      <td>31357</td>\n",
       "      <td>Diesel</td>\n",
       "      <td>1.6</td>\n",
       "    </tr>\n",
       "    <tr>\n",
       "      <th>3895</th>\n",
       "      <td>C Class</td>\n",
       "      <td>2018</td>\n",
       "      <td>18500</td>\n",
       "      <td>Automatic</td>\n",
       "      <td>28248</td>\n",
       "      <td>Diesel</td>\n",
       "      <td>2.1</td>\n",
       "    </tr>\n",
       "  </tbody>\n",
       "</table>\n",
       "<p>3563 rows × 7 columns</p>\n",
       "</div>"
      ],
      "text/plain": [
       "         model  year  price transmission  mileage fuelType  engineSize\n",
       "0      C Class  2020  30495    Automatic     1200   Diesel         2.0\n",
       "1      C Class  2020  29989    Automatic     1000   Petrol         1.5\n",
       "2      C Class  2020  37899    Automatic      500   Diesel         2.0\n",
       "3      C Class  2019  30399    Automatic     5000   Diesel         2.0\n",
       "4      C Class  2019  29899    Automatic     4500   Diesel         2.0\n",
       "...        ...   ...    ...          ...      ...      ...         ...\n",
       "3891   C Class  2018  23600    Automatic    18834   Petrol         2.0\n",
       "3892   C Class  2018  19900       Manual    31540   Petrol         2.0\n",
       "3893   C Class  2016  21000    Automatic    21547   Diesel         2.1\n",
       "3894   C Class  2017  14700       Manual    31357   Diesel         1.6\n",
       "3895   C Class  2018  18500    Automatic    28248   Diesel         2.1\n",
       "\n",
       "[3563 rows x 7 columns]"
      ]
     },
     "metadata": {},
     "output_type": "display_data"
    },
    {
     "name": "stderr",
     "output_type": "stream",
     "text": [
      "C:\\ProgramData\\Anaconda3\\lib\\site-packages\\seaborn\\distributions.py:2557: FutureWarning: `distplot` is a deprecated function and will be removed in a future version. Please adapt your code to use either `displot` (a figure-level function with similar flexibility) or `histplot` (an axes-level function for histograms).\n",
      "  warnings.warn(msg, FutureWarning)\n"
     ]
    },
    {
     "data": {
      "text/plain": [
       "<AxesSubplot:xlabel='price', ylabel='Density'>"
      ]
     },
     "execution_count": 6,
     "metadata": {},
     "output_type": "execute_result"
    },
    {
     "data": {
      "image/png": "[encoded data removed]",
      "text/plain": [
       "<Figure size 432x288 with 1 Axes>"
      ]
     },
     "metadata": {
      "needs_background": "light"
     },
     "output_type": "display_data"
    }
   ],
   "source": [
    "cclass = cclass.loc[(cclass['price'] >= 0) & (cclass['price'] <= 50000)]\n",
    "cclass = cclass[(cclass['year'] > 2014) & (cclass['year'] < 2022)]\n",
    "display(cclass)\n",
    "\n",
    "sbn.distplot(cclass[\"price\"])"
   ]
  },
  {
   "cell_type": "markdown",
   "id": "1042a51e",
   "metadata": {},
   "source": [
    "For the lineair regression with one variable, we will choose the mileage as variable (for the x-axis). The price will be selected for the y-axis. We will then visualise the data. Let's take a look at the graph we're working with:"
   ]
  },
  {
   "cell_type": "code",
   "execution_count": 7,
   "id": "2299e074",
   "metadata": {},
   "outputs": [
    {
     "data": {
      "text/plain": [
       "Text(0.5, 0, 'Mileage in miles')"
      ]
     },
     "execution_count": 7,
     "metadata": {},
     "output_type": "execute_result"
    },
    {
     "data": {
      "image/png": "[encoded data removed]",
      "text/plain": [
       "<Figure size 432x288 with 1 Axes>"
      ]
     },
     "metadata": {
      "needs_background": "light"
     },
     "output_type": "display_data"
    }
   ],
   "source": [
    "#X and y values of the entire dataset (for visualisation)\n",
    "X_all = cclass['mileage'].to_numpy()\n",
    "y_all = cclass['price'].to_numpy()\n",
    "m_all = y_all.size #dataset size\n",
    "\n",
    "#Visualise data\n",
    "fig = pyplot.figure()  # open a new figure    \n",
    "pyplot.plot(X_all, y_all, 'ro', ms=10, mec='k')\n",
    "pyplot.ylabel('Price of a W205 C-Class in £')\n",
    "pyplot.xlabel('Mileage in miles')"
   ]
  },
  {
   "cell_type": "markdown",
   "id": "2e8de267",
   "metadata": {},
   "source": [
    "#### Splitting Data into CV, training and test set (after shuffling the data)"
   ]
  },
  {
   "cell_type": "code",
   "execution_count": 8,
   "id": "5d53ff50",
   "metadata": {},
   "outputs": [
    {
     "data": {
      "text/html": [
       "<div>\n",
       "<style scoped>\n",
       "    .dataframe tbody tr th:only-of-type {\n",
       "        vertical-align: middle;\n",
       "    }\n",
       "\n",
       "    .dataframe tbody tr th {\n",
       "        vertical-align: top;\n",
       "    }\n",
       "\n",
       "    .dataframe thead th {\n",
       "        text-align: right;\n",
       "    }\n",
       "</style>\n",
       "<table border=\"1\" class=\"dataframe\">\n",
       "  <thead>\n",
       "    <tr style=\"text-align: right;\">\n",
       "      <th></th>\n",
       "      <th>model</th>\n",
       "      <th>year</th>\n",
       "      <th>price</th>\n",
       "      <th>transmission</th>\n",
       "      <th>mileage</th>\n",
       "      <th>fuelType</th>\n",
       "      <th>engineSize</th>\n",
       "    </tr>\n",
       "  </thead>\n",
       "  <tbody>\n",
       "    <tr>\n",
       "      <th>209</th>\n",
       "      <td>C Class</td>\n",
       "      <td>2019</td>\n",
       "      <td>28990</td>\n",
       "      <td>Semi-Auto</td>\n",
       "      <td>2000</td>\n",
       "      <td>Diesel</td>\n",
       "      <td>2.0</td>\n",
       "    </tr>\n",
       "    <tr>\n",
       "      <th>2823</th>\n",
       "      <td>C Class</td>\n",
       "      <td>2016</td>\n",
       "      <td>20192</td>\n",
       "      <td>Automatic</td>\n",
       "      <td>34000</td>\n",
       "      <td>Diesel</td>\n",
       "      <td>2.1</td>\n",
       "    </tr>\n",
       "    <tr>\n",
       "      <th>2289</th>\n",
       "      <td>C Class</td>\n",
       "      <td>2019</td>\n",
       "      <td>30499</td>\n",
       "      <td>Semi-Auto</td>\n",
       "      <td>1126</td>\n",
       "      <td>Diesel</td>\n",
       "      <td>2.0</td>\n",
       "    </tr>\n",
       "    <tr>\n",
       "      <th>1635</th>\n",
       "      <td>C Class</td>\n",
       "      <td>2019</td>\n",
       "      <td>38521</td>\n",
       "      <td>Automatic</td>\n",
       "      <td>50</td>\n",
       "      <td>Diesel</td>\n",
       "      <td>2.0</td>\n",
       "    </tr>\n",
       "    <tr>\n",
       "      <th>2060</th>\n",
       "      <td>C Class</td>\n",
       "      <td>2019</td>\n",
       "      <td>41949</td>\n",
       "      <td>Semi-Auto</td>\n",
       "      <td>8315</td>\n",
       "      <td>Petrol</td>\n",
       "      <td>3.0</td>\n",
       "    </tr>\n",
       "  </tbody>\n",
       "</table>\n",
       "</div>"
      ],
      "text/plain": [
       "         model  year  price transmission  mileage fuelType  engineSize\n",
       "209    C Class  2019  28990    Semi-Auto     2000   Diesel         2.0\n",
       "2823   C Class  2016  20192    Automatic    34000   Diesel         2.1\n",
       "2289   C Class  2019  30499    Semi-Auto     1126   Diesel         2.0\n",
       "1635   C Class  2019  38521    Automatic       50   Diesel         2.0\n",
       "2060   C Class  2019  41949    Semi-Auto     8315   Petrol         3.0"
      ]
     },
     "execution_count": 8,
     "metadata": {},
     "output_type": "execute_result"
    }
   ],
   "source": [
    "cclass_shuffled = cclass.sample(frac=1)\n",
    "cclass_shuffled.head()"
   ]
  },
  {
   "cell_type": "code",
   "execution_count": 9,
   "id": "271322a8",
   "metadata": {},
   "outputs": [
    {
     "name": "stdout",
     "output_type": "stream",
     "text": [
      "2137 713 713\n"
     ]
    }
   ],
   "source": [
    "zero_60percent= int(len(cclass_shuffled)*0.6) \n",
    "sixty_80percent = int(len(cclass_shuffled)*0.8) \n",
    "hundred_percent = int(len(cclass_shuffled))\n",
    "\n",
    "cclass_train = cclass_shuffled.iloc[0:zero_60percent]  #0-60%\n",
    "cclass_CV = cclass_shuffled.iloc[zero_60percent:sixty_80percent] #20%: 60-80\n",
    "cclass_test = cclass_shuffled.iloc[sixty_80percent:hundred_percent] #20%: 80-100\n",
    "\n",
    "print(len(cclass_train),len(cclass_CV),len(cclass_test))"
   ]
  },
  {
   "cell_type": "markdown",
   "id": "c0f201d6",
   "metadata": {},
   "source": [
    "Load the data into X and Y"
   ]
  },
  {
   "cell_type": "code",
   "execution_count": 10,
   "id": "f16f3520",
   "metadata": {},
   "outputs": [],
   "source": [
    "# training data\n",
    "X = cclass_train['mileage'].to_numpy()\n",
    "y = cclass_train['price'].to_numpy()\n",
    "m = y.size #dataset size\n",
    "\n",
    "# cross validation data\n",
    "X_CV = cclass_CV['mileage'].to_numpy()\n",
    "y_CV = cclass_CV['price'].to_numpy()\n",
    "m_CV = y_CV.size\n",
    "\n",
    "# test data\n",
    "X_test = cclass_test['mileage'].to_numpy()\n",
    "y_test = cclass_test['price'].to_numpy()\n",
    "m_test = y_test.size"
   ]
  },
  {
   "cell_type": "markdown",
   "id": "620e6dc0",
   "metadata": {},
   "source": [
    "#### Gradient descent  \n",
    "\n",
    "In this part, we will fit the linear regression parameters $\\theta$ to our dataset using gradient descent.\n",
    "\n",
    "The objective of linear regression is to minimize the cost function\n",
    "\n",
    "$$ J(\\theta) = \\frac{1}{2m} \\sum_{i=1}^m \\left( h_{\\theta}(x^{(i)}) - y^{(i)}\\right)^2$$\n",
    "\n",
    "where the hypothesis $h_\\theta(x)$ is given by the linear model\n",
    "$$ h_\\theta(x) = \\theta^Tx = \\theta_0 + \\theta_1 x_1$$\n",
    "\n",
    "The parameters of our model are the $\\theta_j$ values. These are\n",
    "the values we will adjust to minimize cost $J(\\theta)$. One way to do this is to\n",
    "use the batch gradient descent algorithm. In batch gradient descent, each\n",
    "iteration performs the update\n",
    "\n",
    "$$ \\theta_j = \\theta_j - \\alpha \\frac{1}{m} \\sum_{i=1}^m \\left( h_\\theta(x^{(i)}) - y^{(i)}\\right)x_j^{(i)} \\qquad \\text{simultaneously update } \\theta_j \\text{ for all } j$$\n",
    "\n",
    "With each step of gradient descent, our parameters $\\theta_j$ come closer to the optimal values that will achieve the lowest cost J($\\theta$)."
   ]
  },
  {
   "cell_type": "markdown",
   "id": "2909baca",
   "metadata": {},
   "source": [
    "We first want to normalize our features of the training data to make sure our gradient descent works out without any overflow problems. Besides the normalization, we add a column of ones to X:"
   ]
  },
  {
   "cell_type": "code",
   "execution_count": 11,
   "id": "7dc21417",
   "metadata": {},
   "outputs": [],
   "source": [
    "mu = np.mean(X, axis = 0)\n",
    "sigma = np.std(X, axis = 0)\n",
    "X_norm = (X - mu) / sigma"
   ]
  },
  {
   "cell_type": "code",
   "execution_count": 12,
   "id": "9a2d141e",
   "metadata": {},
   "outputs": [],
   "source": [
    "X_not_norm = X  #save original X if we need it later\n",
    "X_not_norm_stacked = np.stack([np.ones(m), X_not_norm], axis=1)  #column of ones to the original X\n",
    "X  = np.stack([np.ones(m), X_norm], axis=1)                      #column of ones to the normalized X"
   ]
  },
  {
   "cell_type": "markdown",
   "id": "01b6b2a9",
   "metadata": {},
   "source": [
    "For the cost function we can define a function that determines the cost:"
   ]
  },
  {
   "cell_type": "code",
   "execution_count": 13,
   "id": "38dc0d28",
   "metadata": {},
   "outputs": [],
   "source": [
    "def computeCost(X, y, theta):\n",
    "    m = y.size  # number of training examples\n",
    "    \n",
    "    J = 0 # initializing the cost\n",
    "    \n",
    "    h = np.dot(X, theta)\n",
    "    inner = (h-y)**2\n",
    "    J = (1/(2*m)) * (np.sum(inner))\n",
    "\n",
    "    return J"
   ]
  },
  {
   "cell_type": "markdown",
   "id": "9665415c",
   "metadata": {},
   "source": [
    "For Gradient descent we can define following function:"
   ]
  },
  {
   "cell_type": "code",
   "execution_count": 14,
   "id": "4a9b9427",
   "metadata": {},
   "outputs": [],
   "source": [
    "def gradientDescent(X, y, theta, alpha, num_iters):\n",
    "    m = y.shape[0] # number of training examples\n",
    "    \n",
    "    # a copy of theta, to avoid changing the original array, since numpy arrays\n",
    "    # are passed by reference to functions\n",
    "    theta = theta.copy()\n",
    "    \n",
    "    J_history = [] # python list to save cost in every iteration\n",
    "    \n",
    "    for i in range(num_iters):\n",
    "        theta = theta - (alpha / m) * (np.dot(X, theta) - y).dot(X)\n",
    "        \n",
    "        # save the cost J in every iteration\n",
    "        J_history.append(computeCost(X, y, theta))\n",
    "    \n",
    "    return theta, J_history"
   ]
  },
  {
   "cell_type": "markdown",
   "id": "825f6cd3",
   "metadata": {},
   "source": [
    "We initialize the 𝜃 parameters to 0 and the learning rate 𝛼 to 0.01 and use the final parameters to plot the lineair fit:"
   ]
  },
  {
   "cell_type": "code",
   "execution_count": 15,
   "id": "ce6e1572",
   "metadata": {},
   "outputs": [
    {
     "name": "stdout",
     "output_type": "stream",
     "text": [
      "Theta found by gradient descent: 24204.2948, -4911.1687\n"
     ]
    }
   ],
   "source": [
    "# initialize fitting parameters\n",
    "theta = np.zeros(2)\n",
    "\n",
    "# some gradient descent settings\n",
    "iterations = 100000\n",
    "alpha = 0.01\n",
    "\n",
    "theta, J_history = gradientDescent(X ,y, theta, alpha, iterations)\n",
    "print('Theta found by gradient descent: {:.4f}, {:.4f}'.format(*theta))"
   ]
  },
  {
   "cell_type": "code",
   "execution_count": 16,
   "id": "ed0a6a65",
   "metadata": {},
   "outputs": [
    {
     "data": {
      "image/png": "[encoded data removed]",
      "text/plain": [
       "<Figure size 432x288 with 1 Axes>"
      ]
     },
     "metadata": {
      "needs_background": "light"
     },
     "output_type": "display_data"
    }
   ],
   "source": [
    "# plot the linear fit\n",
    "fig = pyplot.figure()  # open a new figure    \n",
    "pyplot.plot(X_not_norm_stacked[:, 1], y, 'ro', ms=10, mec='k')\n",
    "pyplot.ylabel('Price of a W205 C-Class in £')\n",
    "pyplot.xlabel('Mileage in miles')\n",
    "pyplot.plot(X_not_norm_stacked[:, 1], np.dot(X, theta), '-')\n",
    "pyplot.legend(['Training data', 'Linear regression']);"
   ]
  },
  {
   "cell_type": "markdown",
   "id": "700f4805",
   "metadata": {},
   "source": [
    "## Regularised linear regression"
   ]
  },
  {
   "cell_type": "markdown",
   "id": "2b7015dc",
   "metadata": {},
   "source": [
    "A cost function and a gradient descent function for linear regresssion, but with regularization parameter alhpa."
   ]
  },
  {
   "cell_type": "code",
   "execution_count": 17,
   "id": "33fa1908",
   "metadata": {},
   "outputs": [],
   "source": [
    "def linearRegCostFunction(X, y, theta, lambda_=0.0):\n",
    "    m = y.size # number of training examples\n",
    "\n",
    "    J = 0 # initializing the cost\n",
    "    grad = np.zeros(theta.shape) # initiliazing the gradient descent\n",
    "    \n",
    "    h= np.dot(X, theta)   \n",
    "    J = (1/(2*m)) * (np.sum((h-y)**2)) + (lambda_/(2*m))*(np.sum(theta[1:]**2))  \n",
    "    \n",
    "    grad = (1 / m) * (h - y).dot(X)\n",
    "    grad[1:] = grad[1:] + (lambda_ / m) * theta[1:]\n",
    "\n",
    "    return J, grad"
   ]
  },
  {
   "cell_type": "markdown",
   "id": "4f9eef20",
   "metadata": {},
   "source": [
    "A function to determine the optimal theta."
   ]
  },
  {
   "cell_type": "code",
   "execution_count": 18,
   "id": "ddb942a1",
   "metadata": {},
   "outputs": [],
   "source": [
    "def trainLinearReg(linearRegCostFunction, X, y, lambda_=0.0, maxiter=200):\n",
    "    # Initializing Theta\n",
    "    initial_theta = np.zeros(X.shape[1])\n",
    "\n",
    "    # Create \"short hand\" for the cost function to be minimized\n",
    "    costFunction = lambda t: linearRegCostFunction(X, y, t, lambda_)\n",
    "\n",
    "    # Now, costFunction is a function that takes in only one argument\n",
    "    options = {'maxiter': maxiter}\n",
    "\n",
    "    # Minimize using scipy\n",
    "    res = optimize.minimize(costFunction, initial_theta, jac=True, method='TNC', options=options)\n",
    "    return res.x"
   ]
  },
  {
   "cell_type": "markdown",
   "id": "8e282220",
   "metadata": {},
   "source": [
    "#### Selecting $\\lambda$ using a cross validation set"
   ]
  },
  {
   "cell_type": "code",
   "execution_count": 19,
   "id": "4adec594",
   "metadata": {},
   "outputs": [],
   "source": [
    "def validationCurve(X, y, Xval, yval):\n",
    "    # Selected values of lambda\n",
    "    lambda_vec = [0, 0.001, 0.003, 0.01, 0.03, 0.1, 0.3, 1, 3, 10]\n",
    "\n",
    "    # initializing the training- and the cross-validation error\n",
    "    error_train = np.zeros(len(lambda_vec))\n",
    "    error_val = np.zeros(len(lambda_vec))\n",
    "    \n",
    "    for i in range(len(lambda_vec)):\n",
    "        lambda_try = lambda_vec[i]\n",
    "        theta_t = trainLinearReg(linearRegCostFunction, X, y, lambda_ = lambda_try)\n",
    "        error_train[i], _ = linearRegCostFunction(X, y, theta_t, lambda_ = 0)\n",
    "        error_val[i], _ = linearRegCostFunction(Xval, yval, theta_t, lambda_ = 0)\n",
    "\n",
    "    return lambda_vec, error_train, error_val"
   ]
  },
  {
   "cell_type": "markdown",
   "id": "9affb6df",
   "metadata": {},
   "source": [
    "Since we haven't normalized our features from our cross validation set, we have to do it first before proceeding:"
   ]
  },
  {
   "cell_type": "code",
   "execution_count": 20,
   "id": "cc8bddb3",
   "metadata": {},
   "outputs": [],
   "source": [
    "X_CV = np.array(X_CV).reshape(np.array(X_CV).size,1)\n",
    "mu_CV = np.mean(X_CV, axis = 0)\n",
    "sigma_CV = np.std(X_CV, axis = 0)\n",
    "X_CV_norm = (X_CV - mu_CV) / sigma_CV\n",
    "X_CV_norm_stacked  = np.concatenate([np.ones((m_CV,1)), X_CV_norm], axis=1)\n",
    "\n",
    "# original X_CV stacking with a row of ones (for later).\n",
    "X_CV_with_ones = np.concatenate([np.ones((m_CV,1)), X_CV], axis=1)"
   ]
  },
  {
   "cell_type": "markdown",
   "id": "228a55cf",
   "metadata": {},
   "source": [
    "Now, we can calculate the optimal lambda to use for our model."
   ]
  },
  {
   "cell_type": "code",
   "execution_count": 21,
   "id": "f70cdb49",
   "metadata": {},
   "outputs": [
    {
     "name": "stdout",
     "output_type": "stream",
     "text": [
      "lambda\t\tTrain Error\tValidation Error\n",
      " 0.000000\t14011532.823504\t15958925.849306\n",
      " 0.001000\t14011532.823506\t15958926.298881\n",
      " 0.003000\t14011532.823528\t15958927.198046\n",
      " 0.010000\t14011532.823768\t15958930.345274\n",
      " 0.030000\t14011532.825880\t15958939.338667\n",
      " 0.100000\t14011532.849909\t15958970.830849\n",
      " 0.300000\t14011533.061106\t15959060.939705\n",
      " 1.000000\t14011535.461804\t15959377.849743\n",
      " 3.000000\t14011556.523850\t15960296.376232\n",
      " 10.000000\t14011794.447938\t15963662.272291\n"
     ]
    },
    {
     "data": {
      "image/png": "[encoded data removed]",
      "text/plain": [
       "<Figure size 432x288 with 1 Axes>"
      ]
     },
     "metadata": {
      "needs_background": "light"
     },
     "output_type": "display_data"
    }
   ],
   "source": [
    "lambda_vec, error_train, error_val = validationCurve(X, y, X_CV_norm_stacked, y_CV)\n",
    "\n",
    "pyplot.plot(lambda_vec, error_train, '-o', lambda_vec, error_val, '-o', lw=2)\n",
    "pyplot.legend(['Train', 'Cross Validation'])\n",
    "pyplot.xlabel('lambda')\n",
    "pyplot.ylabel('Error')\n",
    "\n",
    "print('lambda\\t\\tTrain Error\\tValidation Error')\n",
    "for i in range(len(lambda_vec)):\n",
    "    print(' %f\\t%f\\t%f' % (lambda_vec[i], error_train[i], error_val[i]))"
   ]
  },
  {
   "cell_type": "markdown",
   "id": "4d0155e1",
   "metadata": {},
   "source": [
    "Since all the lambda's have almost exactly the same train- and corss- validation error, we will stick to $\\lambda$ = 0."
   ]
  },
  {
   "cell_type": "markdown",
   "id": "bee05d7d",
   "metadata": {},
   "source": [
    "#### Regularised linear regression with our chosen $\\lambda$ "
   ]
  },
  {
   "cell_type": "code",
   "execution_count": 22,
   "id": "f3e3ea2b",
   "metadata": {},
   "outputs": [
    {
     "data": {
      "image/png": "[encoded data removed]",
      "text/plain": [
       "<Figure size 432x288 with 1 Axes>"
      ]
     },
     "metadata": {
      "needs_background": "light"
     },
     "output_type": "display_data"
    }
   ],
   "source": [
    "# calculate theta\n",
    "theta_regularized = trainLinearReg(linearRegCostFunction, X, y, lambda_=0)\n",
    "\n",
    "# plot the linear fit\n",
    "fig = pyplot.figure()  # open a new figure    \n",
    "pyplot.plot(X_not_norm_stacked[:, 1], y, 'ro', ms=10, mec='k')\n",
    "pyplot.ylabel('Price of a W205 C-Class in £')\n",
    "pyplot.xlabel('Mileage in miles')\n",
    "pyplot.plot(X_not_norm_stacked[:, 1], np.dot(X, theta_regularized), '-')\n",
    "pyplot.legend(['Training data', 'Regularised linear regression']);"
   ]
  },
  {
   "cell_type": "markdown",
   "id": "48dc4366",
   "metadata": {},
   "source": [
    "#### The final part of our linear regression model is to analyze it. We will do this by calculating the R²-score, a learning curve and an error histogram."
   ]
  },
  {
   "cell_type": "markdown",
   "id": "9856f85d",
   "metadata": {},
   "source": [
    "R²-score:"
   ]
  },
  {
   "cell_type": "code",
   "execution_count": 23,
   "id": "0f259bef",
   "metadata": {},
   "outputs": [
    {
     "name": "stdout",
     "output_type": "stream",
     "text": [
      "The R²-score of our linear regression model:  0.4625691417945752\n"
     ]
    }
   ],
   "source": [
    "y_pred = np.dot(X, theta_regularized)\n",
    "print(\"The R²-score of our linear regression model: \",r2_score(y, y_pred))"
   ]
  },
  {
   "cell_type": "markdown",
   "id": "8c655233",
   "metadata": {},
   "source": [
    "Function to calculate the learning curve:"
   ]
  },
  {
   "cell_type": "code",
   "execution_count": 24,
   "id": "5efb1195",
   "metadata": {},
   "outputs": [],
   "source": [
    "def learningCurve(X, y, Xval, yval, lambda_=0):\n",
    "    # Number of training examples\n",
    "    m = y.size\n",
    "\n",
    "    # initializing the training- and the cross-validation error\n",
    "    error_train = np.zeros(m)\n",
    "    error_val   = np.zeros(m)\n",
    "\n",
    "    for i in range(1, m+1):\n",
    "        theta_t = trainLinearReg(linearRegCostFunction, X[:i], y[:i], lambda_ = lambda_)\n",
    "        error_train[i - 1], _ = linearRegCostFunction(X[:i], y[:i], theta_t, lambda_ = 0)\n",
    "        error_val[i - 1], _ = linearRegCostFunction(Xval, yval, theta_t, lambda_ = 0)\n",
    "\n",
    "    return error_train, error_val"
   ]
  },
  {
   "cell_type": "markdown",
   "id": "6b23811f",
   "metadata": {},
   "source": [
    "Plot the learning curve for our linear regression model:"
   ]
  },
  {
   "cell_type": "code",
   "execution_count": 25,
   "id": "6b8f223f",
   "metadata": {},
   "outputs": [
    {
     "data": {
      "text/plain": [
       "[]"
      ]
     },
     "execution_count": 25,
     "metadata": {},
     "output_type": "execute_result"
    },
    {
     "data": {
      "image/png": "[encoded data removed]",
      "text/plain": [
       "<Figure size 432x288 with 1 Axes>"
      ]
     },
     "metadata": {
      "needs_background": "light"
     },
     "output_type": "display_data"
    }
   ],
   "source": [
    "error_train, error_val = learningCurve(X_not_norm_stacked, y, X_CV_with_ones, y_CV, lambda_=0)\n",
    "\n",
    "pyplot.plot(np.arange(1, m+1), error_train, np.arange(1, m+1), error_val, lw=2)\n",
    "pyplot.title('Learning curve for linear regression')\n",
    "pyplot.legend(['Train', 'Cross Validation'])\n",
    "pyplot.xlabel('Number of training examples')\n",
    "pyplot.ylabel('Error')\n",
    "pyplot.axis([0, 1600, 150000000, 260000000])\n",
    "pyplot.plot()\n",
    "\n",
    "\n",
    "# Uncomment the code below if you want to see the exact error for each training example.\n",
    "\n",
    "# print('# Training Examples\\tTrain Error\\tCross Validation Error')\n",
    "# for i in range(m):\n",
    "#     print('  \\t%d\\t\\t%f\\t%f' % (i+1, error_train[i], error_val[i]))"
   ]
  },
  {
   "cell_type": "markdown",
   "id": "d8878c9b",
   "metadata": {},
   "source": [
    "Error histogram of the cross validation set:"
   ]
  },
  {
   "cell_type": "code",
   "execution_count": 26,
   "id": "c0fc1404",
   "metadata": {},
   "outputs": [
    {
     "data": {
      "text/plain": [
       "(array([329., 208.,  99.,  33.,  15.,  13.,   9.,   5.,   0.,   2.]),\n",
       " array([9.84258009e+00, 2.73668668e+03, 5.46353078e+03, 8.19037488e+03,\n",
       "        1.09172190e+04, 1.36440631e+04, 1.63709072e+04, 1.90977513e+04,\n",
       "        2.18245954e+04, 2.45514395e+04, 2.72782836e+04]),\n",
       " <BarContainer object of 10 artists>)"
      ]
     },
     "execution_count": 26,
     "metadata": {},
     "output_type": "execute_result"
    },
    {
     "data": {
      "image/png": "[encoded data removed]",
      "text/plain": [
       "<Figure size 432x288 with 1 Axes>"
      ]
     },
     "metadata": {
      "needs_background": "light"
     },
     "output_type": "display_data"
    }
   ],
   "source": [
    "theta_regularized_CV = trainLinearReg(linearRegCostFunction, X_CV_norm_stacked, y_CV, lambda_=0)\n",
    "y_pred_CV = np.dot(X_CV_norm_stacked, theta_regularized_CV)\n",
    "error = np.abs(y_CV - y_pred_CV)\n",
    "\n",
    "pyplot.hist(error)"
   ]
  },
  {
   "cell_type": "markdown",
   "id": "0e1ca1f2",
   "metadata": {},
   "source": [
    "The R²-score is noticeable small, the learning curve has a high value of the error and the error histogram has some high values as well. From this, we can conclude that linear regression is not the best fit for our dataset. We wil move on to Polynomial regression to see if we can get a better model."
   ]
  },
  {
   "cell_type": "markdown",
   "id": "66b5b64c",
   "metadata": {},
   "source": [
    "## Polynomial regression"
   ]
  },
  {
   "cell_type": "markdown",
   "id": "a17cc3dd",
   "metadata": {},
   "source": [
    "The problem with our linear model was that it was too simple for the data and because of that, it resulted in underfitting (high bias)."
   ]
  },
  {
   "cell_type": "markdown",
   "id": "bff5c680",
   "metadata": {},
   "source": [
    "To start with our polynomial regression model, we will first implement a function that can make a feature into a polynomial function (with a degree)."
   ]
  },
  {
   "cell_type": "code",
   "execution_count": 27,
   "id": "c7ee1dd7",
   "metadata": {},
   "outputs": [],
   "source": [
    "def polyFeatures(X, p):\n",
    "    X_poly = np.zeros((X.shape[0], p))\n",
    "\n",
    "    for i in range(p):\n",
    "        X_poly[:, i] = X[:, 0] ** (i + 1)\n",
    "\n",
    "    return X_poly"
   ]
  },
  {
   "cell_type": "markdown",
   "id": "0d70e6d3",
   "metadata": {},
   "source": [
    "We will also make a function that can plot this ploynomial function on a graph."
   ]
  },
  {
   "cell_type": "code",
   "execution_count": 28,
   "id": "f70ecf55",
   "metadata": {},
   "outputs": [],
   "source": [
    "def plotFit(polyFeatures, min_x, max_x, mu, sigma, theta, p):\n",
    "    # We plot a range slightly bigger than the min and max values to get\n",
    "    # an idea of how the fit will vary outside the range of the data points\n",
    "    x = np.arange(min_x - 15, max_x + 25, 0.05).reshape(-1, 1)\n",
    "\n",
    "    # Map the X values\n",
    "    X_poly = polyFeatures(x, p)\n",
    "    X_poly -= mu\n",
    "    X_poly /= sigma\n",
    "\n",
    "    # Add ones\n",
    "    X_poly = np.concatenate([np.ones((x.shape[0], 1)), X_poly], axis=1)\n",
    "\n",
    "    # Plot\n",
    "    pyplot.plot(x, np.dot(X_poly, theta), '--', lw=2)"
   ]
  },
  {
   "cell_type": "markdown",
   "id": "8d182b70",
   "metadata": {},
   "source": [
    "Before we start calculating stuff, we are going to reload the data to make sure nothing goes wrong."
   ]
  },
  {
   "cell_type": "code",
   "execution_count": 29,
   "id": "9bb58e20",
   "metadata": {},
   "outputs": [],
   "source": [
    "#Reload variables into X an Y\n",
    "\n",
    "# training data\n",
    "X = cclass_train['mileage'].to_numpy()\n",
    "y = cclass_train['price'].to_numpy()\n",
    "m = y.size #dataset size\n",
    "\n",
    "# cross validation data\n",
    "X_CV = cclass_CV['mileage'].to_numpy()\n",
    "y_CV = cclass_CV['price'].to_numpy()\n",
    "m_CV = y_CV.size\n",
    "\n",
    "# test data\n",
    "X_test = cclass_test['mileage'].to_numpy()\n",
    "y_test = cclass_test['price'].to_numpy()\n",
    "m_test = y_test.size\n",
    "\n",
    "# reshaping X_CV into the right shape\n",
    "X_CV = np.array(X_CV).reshape(np.array(X_CV).size,1)"
   ]
  },
  {
   "cell_type": "markdown",
   "id": "1a0a43c9",
   "metadata": {},
   "source": [
    "#### Selecting our polynomial degree"
   ]
  },
  {
   "cell_type": "code",
   "execution_count": 30,
   "id": "09e7a1e4",
   "metadata": {},
   "outputs": [],
   "source": [
    "# Selected values of our degree (p)\n",
    "p_vec = [1,2,3,4,5,6]\n",
    "\n",
    "# initializing the train- and cross validation error.\n",
    "error_train = np.zeros(len(p_vec))\n",
    "error_val = np.zeros(len(p_vec))\n",
    "\n",
    "for i in range(len(p_vec)):\n",
    "    p_try = p_vec[i]\n",
    "\n",
    "    # training\n",
    "    X_not_norm_for_poly = np.array(X).reshape(np.array(X).size,1)\n",
    "    X_not_norm_poly = polyFeatures(X_not_norm_for_poly, p_try)\n",
    "    mu = np.mean(X_not_norm_poly, axis = 0)\n",
    "    sigma = np.std(X_not_norm_poly, axis = 0)\n",
    "    X_poly_norm = (X_not_norm_poly - mu) / sigma\n",
    "    X_poly_norm_with_ones = np.concatenate([np.ones((m, 1)), X_poly_norm], axis=1)\n",
    "\n",
    "    # CV\n",
    "    X_poly_CV = polyFeatures(X_CV, p_try)\n",
    "    mu_poly_CV = np.mean(X_poly_CV, axis = 0)\n",
    "    sigma_poly_CV = np.std(X_poly_CV, axis = 0)\n",
    "    X_poly_CV_norm = (X_poly_CV - mu_poly_CV) / sigma_poly_CV\n",
    "    X_poly_CV_norm_ones = np.concatenate([np.ones((m_CV, 1)), X_poly_CV_norm], axis=1) #concatenate ones\n",
    "\n",
    "\n",
    "    theta_t = trainLinearReg(linearRegCostFunction, X_poly_norm_with_ones, y, lambda_ = 0, maxiter=100000)\n",
    "    error_train[i], _ = linearRegCostFunction(X_poly_norm_with_ones, y, theta_t, lambda_ = 0)\n",
    "    error_val[i], _ = linearRegCostFunction(X_poly_CV_norm_ones, y_CV, theta_t, lambda_ = 0)"
   ]
  },
  {
   "cell_type": "markdown",
   "id": "1c8a156b",
   "metadata": {},
   "source": [
    "Now, we can plot the degree (p) in function of the error to see wich value of p we should work further with."
   ]
  },
  {
   "cell_type": "code",
   "execution_count": 31,
   "id": "2019692d",
   "metadata": {},
   "outputs": [
    {
     "name": "stdout",
     "output_type": "stream",
     "text": [
      "p\t\tTrain Error\tValidation Error\n",
      " 1.000000\t14011532.823504\t15958925.849306\n",
      " 2.000000\t12034124.755207\t13609042.450559\n",
      " 3.000000\t11485178.105812\t13171884.371670\n",
      " 4.000000\t11484517.096461\t13167804.509941\n",
      " 5.000000\t11484070.843899\t13167665.520235\n",
      " 6.000000\t11465488.870924\t13222099.498724\n"
     ]
    },
    {
     "data": {
      "image/png": "[encoded data removed]",
      "text/plain": [
       "<Figure size 432x288 with 1 Axes>"
      ]
     },
     "metadata": {
      "needs_background": "light"
     },
     "output_type": "display_data"
    }
   ],
   "source": [
    "pyplot.plot(p_vec, error_train, '-o', p_vec, error_val, '-o', lw=2)\n",
    "pyplot.legend(['Train', 'Cross Validation'])\n",
    "pyplot.xlabel('Polynomial degree (p)')\n",
    "pyplot.ylabel('Error')\n",
    "\n",
    "print('p\\t\\tTrain Error\\tValidation Error')\n",
    "for i in range(len(p_vec)):\n",
    "    print(' %f\\t%f\\t%f' % (p_vec[i], error_train[i], error_val[i]))"
   ]
  },
  {
   "cell_type": "markdown",
   "id": "0fff433c",
   "metadata": {},
   "source": [
    "From a degree of 3, the error no longer decreases. That is why we will use a degree of 3 (p=3)."
   ]
  },
  {
   "cell_type": "code",
   "execution_count": 32,
   "id": "d0274bfd",
   "metadata": {},
   "outputs": [],
   "source": [
    "p = 3"
   ]
  },
  {
   "cell_type": "markdown",
   "id": "634c9321",
   "metadata": {},
   "source": [
    "#### Selecting $\\lambda$ using a cross validation set"
   ]
  },
  {
   "cell_type": "markdown",
   "id": "53e63ead",
   "metadata": {},
   "source": [
    "We first need to normalize our features for the test, training and CV set for p=3."
   ]
  },
  {
   "cell_type": "code",
   "execution_count": 41,
   "id": "75a4ce33",
   "metadata": {},
   "outputs": [],
   "source": [
    "X_not_norm_for_poly = np.array(X_not_norm).reshape(np.array(X_not_norm).size,1)\n",
    "# Map X onto Polynomial Features \n",
    "X_not_norm_poly = polyFeatures(X_not_norm_for_poly, p)\n",
    "\n",
    "# normalize training features\n",
    "mu = np.mean(X_not_norm_poly, axis = 0)\n",
    "sigma = np.std(X_not_norm_poly, axis = 0)\n",
    "X_poly_norm = (X_not_norm_poly - mu) / sigma\n",
    "X_poly_norm_with_ones = np.concatenate([np.ones((m, 1)), X_poly_norm], axis=1)\n",
    "\n",
    "# do the same for cross validation features\n",
    "X_CV = np.array(X_CV).reshape(np.array(X_CV).size,1)\n",
    "X_poly_CV = polyFeatures(X_CV, p)\n",
    "mu_poly_CV = np.mean(X_poly_CV, axis = 0)\n",
    "sigma_poly_CV = np.std(X_poly_CV, axis = 0)\n",
    "X_poly_CV_norm = (X_poly_CV - mu_poly_CV) / sigma_poly_CV\n",
    "X_poly_CV_norm_ones = np.concatenate([np.ones((m_CV, 1)), X_poly_CV_norm], axis=1) #concatenate ones\n",
    "\n",
    "# do the same for test features\n",
    "X_test = np.array(X_test).reshape(np.array(X_test).size,1)\n",
    "X_poly_test = polyFeatures(X_test, p)\n",
    "mu_poly_test = np.mean(X_poly_test, axis = 0)\n",
    "sigma_poly_test = np.std(X_poly_test, axis = 0)\n",
    "X_poly_test_norm = (X_poly_test - mu_poly_test) / sigma_poly_test\n",
    "X_poly_test_norm_ones = np.concatenate([np.ones((m_test, 1)), X_poly_test_norm], axis=1) #concatenate ones"
   ]
  },
  {
   "cell_type": "markdown",
   "id": "50be9c7b",
   "metadata": {},
   "source": [
    "Plotting lambda in function of the error to select an appropriate lambda."
   ]
  },
  {
   "cell_type": "code",
   "execution_count": 43,
   "id": "7ffe847e",
   "metadata": {},
   "outputs": [
    {
     "name": "stdout",
     "output_type": "stream",
     "text": [
      "lambda\t\tTrain Error\tValidation Error\n",
      " 0.000000\t11485178.105812\t13171884.371670\n",
      " 0.001000\t11485178.110024\t13171897.937634\n",
      " 0.003000\t11485178.143715\t13171925.084004\n",
      " 0.010000\t11485178.526631\t13172020.247743\n",
      " 0.030000\t11485181.884834\t13172293.439435\n",
      " 0.100000\t11485219.772471\t13173264.534483\n",
      " 0.300000\t11485544.995804\t13176162.519576\n",
      " 1.000000\t11488961.337796\t13187583.732092\n",
      " 3.000000\t11513083.028812\t13227904.534591\n",
      " 10.000000\t11660356.644885\t13394466.403414\n"
     ]
    },
    {
     "data": {
      "image/png": "[encoded data removed]",
      "text/plain": [
       "<Figure size 432x288 with 1 Axes>"
      ]
     },
     "metadata": {
      "needs_background": "light"
     },
     "output_type": "display_data"
    }
   ],
   "source": [
    "lambda_vec, error_train, error_val = validationCurve(X_poly_norm_with_ones, y, X_poly_CV_norm_ones, y_CV)\n",
    "\n",
    "pyplot.plot(lambda_vec, error_train, '-o', lambda_vec, error_val, '-o', lw=2)\n",
    "pyplot.legend(['Train', 'Cross Validation'])\n",
    "pyplot.xlabel('lambda')\n",
    "pyplot.ylabel('Error')\n",
    "\n",
    "print('lambda\\t\\tTrain Error\\tValidation Error')\n",
    "for i in range(len(lambda_vec)):\n",
    "    print(' %f\\t%f\\t%f' % (lambda_vec[i], error_train[i], error_val[i]))"
   ]
  },
  {
   "cell_type": "markdown",
   "id": "5df0c45c",
   "metadata": {},
   "source": [
    "The error is the lowest when lambda=0."
   ]
  },
  {
   "cell_type": "code",
   "execution_count": 44,
   "id": "3e157465",
   "metadata": {},
   "outputs": [],
   "source": [
    "lambda_ = 0"
   ]
  },
  {
   "cell_type": "markdown",
   "id": "eea7a31c",
   "metadata": {},
   "source": [
    "#### Polynomial regression with our chosen $\\lambda$ "
   ]
  },
  {
   "cell_type": "markdown",
   "id": "477ac627",
   "metadata": {},
   "source": [
    "Plotting our polynomial regression model:"
   ]
  },
  {
   "cell_type": "code",
   "execution_count": 45,
   "id": "9670a624",
   "metadata": {},
   "outputs": [
    {
     "data": {
      "image/png": "[encoded data removed]",
      "text/plain": [
       "<Figure size 432x288 with 1 Axes>"
      ]
     },
     "metadata": {
      "needs_background": "light"
     },
     "output_type": "display_data"
    }
   ],
   "source": [
    "theta_poly = trainLinearReg(linearRegCostFunction, X_poly_norm_with_ones, y, lambda_=lambda_, maxiter=100000)\n",
    "\n",
    "fig = pyplot.figure()  # open a new figure    \n",
    "pyplot.plot(X_not_norm_stacked[:, 1], y, 'ro', ms=10, mec='k')\n",
    "pyplot.ylabel('Price of a W205 C-Class in £')\n",
    "pyplot.xlabel('Mileage in miles') \n",
    "plotFit(polyFeatures, np.min(X_not_norm_for_poly), np.max(X_not_norm_for_poly), mu, sigma, theta_poly, p)\n",
    "pyplot.legend(['Training data', 'Regularized polynomial regression']);"
   ]
  },
  {
   "cell_type": "markdown",
   "id": "8b5d0204",
   "metadata": {},
   "source": [
    "#### The final part of our polynomial regression model is to analyze it. We will do this by calculating the R²-score, a learning curve and an error histogram."
   ]
  },
  {
   "cell_type": "markdown",
   "id": "312a1edb",
   "metadata": {},
   "source": [
    "Determining the R²-score:"
   ]
  },
  {
   "cell_type": "code",
   "execution_count": 47,
   "id": "c0a2c59b",
   "metadata": {},
   "outputs": [
    {
     "name": "stdout",
     "output_type": "stream",
     "text": [
      "The R²-score for our polynomial regression model: 0.559470815663053\n"
     ]
    }
   ],
   "source": [
    "y_pred_poly = np.dot(X_poly_norm_with_ones, theta_poly)\n",
    "\n",
    "print(\"The R²-score for our polynomial regression model:\",r2_score(y, y_pred_poly))"
   ]
  },
  {
   "cell_type": "markdown",
   "id": "c1f9f998",
   "metadata": {},
   "source": [
    "The learning curve:"
   ]
  },
  {
   "cell_type": "code",
   "execution_count": 49,
   "id": "dc9c29df",
   "metadata": {},
   "outputs": [
    {
     "data": {
      "text/plain": [
       "<matplotlib.legend.Legend at 0x1d3e978b370>"
      ]
     },
     "execution_count": 49,
     "metadata": {},
     "output_type": "execute_result"
    },
    {
     "data": {
      "image/png": "[encoded data removed]",
      "text/plain": [
       "<Figure size 432x288 with 1 Axes>"
      ]
     },
     "metadata": {
      "needs_background": "light"
     },
     "output_type": "display_data"
    }
   ],
   "source": [
    "pyplot.figure()\n",
    "error_train_poly, error_val_poly = learningCurve(X_poly_norm_with_ones, y, X_poly_CV_norm_ones, y_CV, lambda_ )\n",
    "pyplot.plot(np.arange(1, 1+m), error_train_poly, np.arange(1, 1+m), error_val_poly)\n",
    "\n",
    "pyplot.title('Polynomial Regression Learning Curve')\n",
    "pyplot.xlabel('Number of training examples')\n",
    "pyplot.ylabel('Error')\n",
    "pyplot.axis([0, 1700, 0, 35000000])\n",
    "pyplot.legend(['Train', 'Cross Validation'])\n",
    "\n",
    "\n",
    "# Uncomment the code below if you want to see the exact error for each training example.\n",
    "\n",
    "# print('# Training Examples\\tTrain Error\\tCross Validation Error')\n",
    "# for i in range(m):\n",
    "#     print('  \\t%d\\t\\t%f\\t%f' % (i+1, error_train_poly[i], error_val_poly[i]))"
   ]
  },
  {
   "cell_type": "markdown",
   "id": "73248eef",
   "metadata": {},
   "source": [
    "Error histogram of the cross validation set:"
   ]
  },
  {
   "cell_type": "code",
   "execution_count": 50,
   "id": "e599c30e",
   "metadata": {},
   "outputs": [
    {
     "data": {
      "text/plain": [
       "(array([419., 189.,  54.,  17.,  13.,  14.,   5.,   0.,   0.,   2.]),\n",
       " array([5.27707119e+00, 2.99007542e+03, 5.97487378e+03, 8.95967213e+03,\n",
       "        1.19444705e+04, 1.49292688e+04, 1.79140672e+04, 2.08988655e+04,\n",
       "        2.38836639e+04, 2.68684622e+04, 2.98532606e+04]),\n",
       " <BarContainer object of 10 artists>)"
      ]
     },
     "execution_count": 50,
     "metadata": {},
     "output_type": "execute_result"
    },
    {
     "data": {
      "image/png": "[encoded data removed]",
      "text/plain": [
       "<Figure size 432x288 with 1 Axes>"
      ]
     },
     "metadata": {
      "needs_background": "light"
     },
     "output_type": "display_data"
    }
   ],
   "source": [
    "theta_poly_CV = trainLinearReg(linearRegCostFunction, X_poly_CV_norm_ones, y_CV, lambda_=lambda_, maxiter=100000)\n",
    "y_poly_pred_CV = np.dot(X_poly_CV_norm_ones, theta_poly_CV)\n",
    "fout_poly_CV = np.abs(y_CV - y_poly_pred_CV)\n",
    "pyplot.hist(fout_poly_CV)"
   ]
  },
  {
   "cell_type": "markdown",
   "id": "a49a4cec",
   "metadata": {},
   "source": [
    "The R²-score is again noticeable small, but larger than the one we calculated for linear regression. The learning curve has still a high value of the error, but a smaller one than the linear regression. The error histogram has some high values again, but in general smaller than the linear regression. From this, we can conclude that polynomial regression is a bit better than linear regression, but still not the best fit for our dataset. We wil move on to multivariate linear regression to see if we can get a better model. For this model we will use the entire mercedes dataset."
   ]
  },
  {
   "cell_type": "markdown",
   "id": "3e2c0990",
   "metadata": {},
   "source": [
    "Price prediction of a single example:"
   ]
  },
  {
   "cell_type": "code",
   "execution_count": 52,
   "id": "9aaef9b1",
   "metadata": {},
   "outputs": [
    {
     "name": "stdout",
     "output_type": "stream",
     "text": [
      "15062.792838701902\n"
     ]
    }
   ],
   "source": [
    "X_prediction = [1, 75000, 75000**2, 75000**3] #for a car with 75 000 miles\n",
    "X_prediction[1:4] = (X_prediction[1:4] - mu) / sigma\n",
    "\n",
    "price = np.dot(X_prediction, theta_poly)\n",
    "print(price)"
   ]
  },
  {
   "cell_type": "markdown",
   "id": "d175bf07",
   "metadata": {},
   "source": [
    "# Price prediction of specific brand: Mercedes"
   ]
  },
  {
   "cell_type": "code",
   "execution_count": 55,
   "id": "c9f7f6ab",
   "metadata": {},
   "outputs": [
    {
     "name": "stderr",
     "output_type": "stream",
     "text": [
      "C:\\ProgramData\\Anaconda3\\lib\\site-packages\\seaborn\\distributions.py:2557: FutureWarning: `distplot` is a deprecated function and will be removed in a future version. Please adapt your code to use either `displot` (a figure-level function with similar flexibility) or `histplot` (an axes-level function for histograms).\n",
      "  warnings.warn(msg, FutureWarning)\n"
     ]
    },
    {
     "data": {
      "text/plain": [
       "<AxesSubplot:xlabel='price', ylabel='Density'>"
      ]
     },
     "execution_count": 55,
     "metadata": {},
     "output_type": "execute_result"
    },
    {
     "data": {
      "image/png": "[encoded data removed]",
      "text/plain": [
       "<Figure size 432x288 with 1 Axes>"
      ]
     },
     "metadata": {
      "needs_background": "light"
     },
     "output_type": "display_data"
    }
   ],
   "source": [
    "sbn.distplot(mercedes[\"price\"])"
   ]
  },
  {
   "cell_type": "markdown",
   "id": "8ca34551",
   "metadata": {},
   "source": [
    "Niet goed, we gaan proberen te filteren van 0-  60 000 :"
   ]
  },
  {
   "cell_type": "code",
   "execution_count": 56,
   "id": "9871d474",
   "metadata": {},
   "outputs": [
    {
     "name": "stderr",
     "output_type": "stream",
     "text": [
      "C:\\ProgramData\\Anaconda3\\lib\\site-packages\\seaborn\\distributions.py:2557: FutureWarning: `distplot` is a deprecated function and will be removed in a future version. Please adapt your code to use either `displot` (a figure-level function with similar flexibility) or `histplot` (an axes-level function for histograms).\n",
      "  warnings.warn(msg, FutureWarning)\n"
     ]
    },
    {
     "data": {
      "text/plain": [
       "<AxesSubplot:xlabel='price', ylabel='Density'>"
      ]
     },
     "execution_count": 56,
     "metadata": {},
     "output_type": "execute_result"
    },
    {
     "data": {
      "image/png": "[encoded data removed]",
      "text/plain": [
       "<Figure size 432x288 with 1 Axes>"
      ]
     },
     "metadata": {
      "needs_background": "light"
     },
     "output_type": "display_data"
    }
   ],
   "source": [
    "mercedes = mercedes.loc[(mercedes['price'] >= 0) & (mercedes['price'] <= 60000)]\n",
    "sbn.distplot(mercedes[\"price\"])"
   ]
  },
  {
   "cell_type": "markdown",
   "id": "9f2ae465",
   "metadata": {},
   "source": [
    "Data inladen en categorical variabelen fixen:"
   ]
  },
  {
   "cell_type": "code",
   "execution_count": 57,
   "id": "769f6330",
   "metadata": {},
   "outputs": [
    {
     "data": {
      "text/html": [
       "<div>\n",
       "<style scoped>\n",
       "    .dataframe tbody tr th:only-of-type {\n",
       "        vertical-align: middle;\n",
       "    }\n",
       "\n",
       "    .dataframe tbody tr th {\n",
       "        vertical-align: top;\n",
       "    }\n",
       "\n",
       "    .dataframe thead th {\n",
       "        text-align: right;\n",
       "    }\n",
       "</style>\n",
       "<table border=\"1\" class=\"dataframe\">\n",
       "  <thead>\n",
       "    <tr style=\"text-align: right;\">\n",
       "      <th></th>\n",
       "      <th>year</th>\n",
       "      <th>price</th>\n",
       "      <th>mileage</th>\n",
       "      <th>tax</th>\n",
       "      <th>mpg</th>\n",
       "      <th>engineSize</th>\n",
       "      <th>model_ A Class</th>\n",
       "      <th>model_ B Class</th>\n",
       "      <th>model_ C Class</th>\n",
       "      <th>model_ CL Class</th>\n",
       "      <th>...</th>\n",
       "      <th>model_220</th>\n",
       "      <th>model_230</th>\n",
       "      <th>transmission_Automatic</th>\n",
       "      <th>transmission_Manual</th>\n",
       "      <th>transmission_Other</th>\n",
       "      <th>transmission_Semi-Auto</th>\n",
       "      <th>fuelType_Diesel</th>\n",
       "      <th>fuelType_Hybrid</th>\n",
       "      <th>fuelType_Other</th>\n",
       "      <th>fuelType_Petrol</th>\n",
       "    </tr>\n",
       "  </thead>\n",
       "  <tbody>\n",
       "    <tr>\n",
       "      <th>0</th>\n",
       "      <td>2005</td>\n",
       "      <td>5200</td>\n",
       "      <td>63000</td>\n",
       "      <td>325</td>\n",
       "      <td>32.1</td>\n",
       "      <td>1.8</td>\n",
       "      <td>0</td>\n",
       "      <td>0</td>\n",
       "      <td>0</td>\n",
       "      <td>0</td>\n",
       "      <td>...</td>\n",
       "      <td>0</td>\n",
       "      <td>0</td>\n",
       "      <td>1</td>\n",
       "      <td>0</td>\n",
       "      <td>0</td>\n",
       "      <td>0</td>\n",
       "      <td>0</td>\n",
       "      <td>0</td>\n",
       "      <td>0</td>\n",
       "      <td>1</td>\n",
       "    </tr>\n",
       "    <tr>\n",
       "      <th>1</th>\n",
       "      <td>2017</td>\n",
       "      <td>34948</td>\n",
       "      <td>27000</td>\n",
       "      <td>20</td>\n",
       "      <td>61.4</td>\n",
       "      <td>2.1</td>\n",
       "      <td>0</td>\n",
       "      <td>0</td>\n",
       "      <td>0</td>\n",
       "      <td>0</td>\n",
       "      <td>...</td>\n",
       "      <td>0</td>\n",
       "      <td>0</td>\n",
       "      <td>1</td>\n",
       "      <td>0</td>\n",
       "      <td>0</td>\n",
       "      <td>0</td>\n",
       "      <td>0</td>\n",
       "      <td>1</td>\n",
       "      <td>0</td>\n",
       "      <td>0</td>\n",
       "    </tr>\n",
       "    <tr>\n",
       "      <th>2</th>\n",
       "      <td>2016</td>\n",
       "      <td>49948</td>\n",
       "      <td>6200</td>\n",
       "      <td>555</td>\n",
       "      <td>28.0</td>\n",
       "      <td>5.5</td>\n",
       "      <td>0</td>\n",
       "      <td>0</td>\n",
       "      <td>0</td>\n",
       "      <td>0</td>\n",
       "      <td>...</td>\n",
       "      <td>0</td>\n",
       "      <td>0</td>\n",
       "      <td>1</td>\n",
       "      <td>0</td>\n",
       "      <td>0</td>\n",
       "      <td>0</td>\n",
       "      <td>0</td>\n",
       "      <td>0</td>\n",
       "      <td>0</td>\n",
       "      <td>1</td>\n",
       "    </tr>\n",
       "    <tr>\n",
       "      <th>6</th>\n",
       "      <td>2018</td>\n",
       "      <td>30948</td>\n",
       "      <td>16000</td>\n",
       "      <td>145</td>\n",
       "      <td>47.9</td>\n",
       "      <td>2.1</td>\n",
       "      <td>0</td>\n",
       "      <td>0</td>\n",
       "      <td>0</td>\n",
       "      <td>0</td>\n",
       "      <td>...</td>\n",
       "      <td>0</td>\n",
       "      <td>0</td>\n",
       "      <td>1</td>\n",
       "      <td>0</td>\n",
       "      <td>0</td>\n",
       "      <td>0</td>\n",
       "      <td>1</td>\n",
       "      <td>0</td>\n",
       "      <td>0</td>\n",
       "      <td>0</td>\n",
       "    </tr>\n",
       "    <tr>\n",
       "      <th>7</th>\n",
       "      <td>2012</td>\n",
       "      <td>10948</td>\n",
       "      <td>107000</td>\n",
       "      <td>265</td>\n",
       "      <td>36.7</td>\n",
       "      <td>3.5</td>\n",
       "      <td>0</td>\n",
       "      <td>0</td>\n",
       "      <td>0</td>\n",
       "      <td>0</td>\n",
       "      <td>...</td>\n",
       "      <td>0</td>\n",
       "      <td>0</td>\n",
       "      <td>1</td>\n",
       "      <td>0</td>\n",
       "      <td>0</td>\n",
       "      <td>0</td>\n",
       "      <td>0</td>\n",
       "      <td>0</td>\n",
       "      <td>0</td>\n",
       "      <td>1</td>\n",
       "    </tr>\n",
       "  </tbody>\n",
       "</table>\n",
       "<p>5 rows × 41 columns</p>\n",
       "</div>"
      ],
      "text/plain": [
       "   year  price  mileage  tax   mpg  engineSize  model_ A Class  \\\n",
       "0  2005   5200    63000  325  32.1         1.8               0   \n",
       "1  2017  34948    27000   20  61.4         2.1               0   \n",
       "2  2016  49948     6200  555  28.0         5.5               0   \n",
       "6  2018  30948    16000  145  47.9         2.1               0   \n",
       "7  2012  10948   107000  265  36.7         3.5               0   \n",
       "\n",
       "   model_ B Class  model_ C Class  model_ CL Class  ...  model_220  model_230  \\\n",
       "0               0               0                0  ...          0          0   \n",
       "1               0               0                0  ...          0          0   \n",
       "2               0               0                0  ...          0          0   \n",
       "6               0               0                0  ...          0          0   \n",
       "7               0               0                0  ...          0          0   \n",
       "\n",
       "   transmission_Automatic  transmission_Manual  transmission_Other  \\\n",
       "0                       1                    0                   0   \n",
       "1                       1                    0                   0   \n",
       "2                       1                    0                   0   \n",
       "6                       1                    0                   0   \n",
       "7                       1                    0                   0   \n",
       "\n",
       "   transmission_Semi-Auto  fuelType_Diesel  fuelType_Hybrid  fuelType_Other  \\\n",
       "0                       0                0                0               0   \n",
       "1                       0                0                1               0   \n",
       "2                       0                0                0               0   \n",
       "6                       0                1                0               0   \n",
       "7                       0                0                0               0   \n",
       "\n",
       "   fuelType_Petrol  \n",
       "0                1  \n",
       "1                0  \n",
       "2                1  \n",
       "6                0  \n",
       "7                1  \n",
       "\n",
       "[5 rows x 41 columns]"
      ]
     },
     "execution_count": 57,
     "metadata": {},
     "output_type": "execute_result"
    }
   ],
   "source": [
    "data_mercedes_expanded = pd.get_dummies(mercedes)\n",
    "data_mercedes_expanded.drop('brand_mercedes', axis=1, inplace=True)\n",
    "data_mercedes_expanded.head()"
   ]
  },
  {
   "cell_type": "markdown",
   "id": "f84a6c3e",
   "metadata": {},
   "source": [
    "Data normaliseren:"
   ]
  },
  {
   "cell_type": "code",
   "execution_count": 58,
   "id": "a36ca76b",
   "metadata": {},
   "outputs": [
    {
     "name": "stdout",
     "output_type": "stream",
     "text": [
      "Numpy dataset: \n",
      " [[2.0050e+03 5.2000e+03 6.3000e+04 ... 0.0000e+00 0.0000e+00 1.0000e+00]\n",
      " [2.0170e+03 3.4948e+04 2.7000e+04 ... 1.0000e+00 0.0000e+00 0.0000e+00]\n",
      " [2.0160e+03 4.9948e+04 6.2000e+03 ... 0.0000e+00 0.0000e+00 1.0000e+00]\n",
      " ...\n",
      " [2.0190e+03 3.0999e+04 1.1612e+04 ... 0.0000e+00 0.0000e+00 0.0000e+00]\n",
      " [2.0190e+03 3.7990e+04 2.4260e+03 ... 0.0000e+00 0.0000e+00 0.0000e+00]\n",
      " [2.0190e+03 5.4999e+04 2.0750e+03 ... 0.0000e+00 0.0000e+00 0.0000e+00]]\n",
      "\n",
      "Shape dataset:  (12943, 41)\n",
      "\n",
      "Normalized Mercedes dataset: \n",
      " [[-5.5063881  -1.94899173  1.92461731 ... -0.1163932  -0.02326211\n",
      "   1.61036689]\n",
      " [-0.12362107  1.14474363  0.22662574 ...  8.59156731 -0.02326211\n",
      "  -0.6209765 ]\n",
      " [-0.57218499  2.70471507 -0.75443605 ... -0.1163932  -0.02326211\n",
      "   1.61036689]\n",
      " ...\n",
      " [ 0.77350677  0.73405515 -0.49917132 ... -0.1163932  -0.02326211\n",
      "  -0.6209765 ]\n",
      " [ 0.77350677  1.46110583 -0.93244217 ... -0.1163932  -0.02326211\n",
      "  -0.6209765 ]\n",
      " [ 0.77350677  3.23000945 -0.94899759 ... -0.1163932  -0.02326211\n",
      "  -0.6209765 ]]\n"
     ]
    }
   ],
   "source": [
    "mercedes_expanded_numpy = data_mercedes_expanded.to_numpy()\n",
    "print(\"Numpy dataset: \\n\",mercedes_expanded_numpy)\n",
    "print(\"\\nShape dataset: \",mercedes_expanded_numpy.shape)\n",
    "\n",
    "mu_mercedes = np.mean(mercedes_expanded_numpy, axis=0)\n",
    "#print(mu_mercedes)\n",
    "sigma_mercedes = np.std(mercedes_expanded_numpy, axis=0)\n",
    "#print(sigma_mercedes)\n",
    "mercedes_expanded_numpy_norm = (mercedes_expanded_numpy - mu_mercedes) / sigma_mercedes\n",
    "print(\"\\nNormalized Mercedes dataset: \\n\",mercedes_expanded_numpy_norm)"
   ]
  },
  {
   "cell_type": "markdown",
   "id": "344ce4b2",
   "metadata": {},
   "source": [
    "Selecting how much features and which features to be selected:"
   ]
  },
  {
   "cell_type": "code",
   "execution_count": 59,
   "id": "567b403f",
   "metadata": {},
   "outputs": [
    {
     "name": "stdout",
     "output_type": "stream",
     "text": [
      "Index(['year', 'mileage', 'tax', 'mpg', 'engineSize', 'model_ A Class',\n",
      "       'model_ B Class', 'model_ C Class', 'model_ CL Class',\n",
      "       'model_ CLA Class', 'model_ CLC Class', 'model_ CLK',\n",
      "       'model_ CLS Class', 'model_ E Class', 'model_ G Class',\n",
      "       'model_ GL Class', 'model_ GLA Class', 'model_ GLB Class',\n",
      "       'model_ GLC Class', 'model_ GLE Class', 'model_ GLS Class',\n",
      "       'model_ M Class', 'model_ R Class', 'model_ S Class', 'model_ SL CLASS',\n",
      "       'model_ SLK', 'model_ V Class', 'model_ X-CLASS', 'model_180',\n",
      "       'model_200', 'model_220', 'model_230', 'transmission_Automatic',\n",
      "       'transmission_Manual', 'transmission_Other', 'transmission_Semi-Auto',\n",
      "       'fuelType_Diesel', 'fuelType_Hybrid', 'fuelType_Other',\n",
      "       'fuelType_Petrol'],\n",
      "      dtype='object')\n"
     ]
    }
   ],
   "source": [
    "column_names_mercedes = data_mercedes_expanded.drop(columns = ['price']).columns\n",
    "print(column_names_mercedes)"
   ]
  },
  {
   "cell_type": "code",
   "execution_count": 80,
   "id": "86b8eb99",
   "metadata": {},
   "outputs": [
    {
     "name": "stdout",
     "output_type": "stream",
     "text": [
      "(12943, 40)\n",
      "(12943,)\n",
      "(12943, 41)\n"
     ]
    },
    {
     "data": {
      "text/plain": [
       "Text(0.5, 0, 'number of features')"
      ]
     },
     "execution_count": 80,
     "metadata": {},
     "output_type": "execute_result"
    },
    {
     "data": {
      "image/png": "[encoded data removed]",
      "text/plain": [
       "<Figure size 432x288 with 1 Axes>"
      ]
     },
     "metadata": {
      "needs_background": "light"
     },
     "output_type": "display_data"
    }
   ],
   "source": [
    "#data\n",
    "X_mercedes = np.delete(mercedes_expanded_numpy_norm, 1, axis=1)\n",
    "y_mercedes = mercedes_expanded_numpy_norm[:,1]\n",
    "y_mercedes_not_norm = mercedes_expanded_numpy[:,1]\n",
    "print(X_mercedes.shape)\n",
    "print(y_mercedes.shape)\n",
    "print(mercedes_expanded_numpy_norm.shape)\n",
    "\n",
    "\n",
    "#for features\n",
    "no_of_features = []\n",
    "r_squared = []\n",
    "\n",
    "\n",
    "for k in range(3, 40, 2):\n",
    "    selector = SelectKBest(f_regression, k = k)\n",
    "    X_transformed = selector.fit_transform(X_mercedes, y_mercedes)\n",
    "    regressor = LinearRegression()\n",
    "    regressor.fit(X_transformed, y_mercedes)\n",
    "    no_of_features.append(k)\n",
    "    teller = (1-(regressor.score(X_transformed, y_mercedes)))*(y_mercedes.size-1)\n",
    "    noemer = y_mercedes.size-1\n",
    "    r_squared.append(1-(teller/noemer))\n",
    "\n",
    "fig = pyplot.figure()  # open a new figure    \n",
    "pyplot.plot(no_of_features, r_squared, 'ro', ms=10, mec='k')\n",
    "pyplot.ylabel('R squared')\n",
    "pyplot.xlabel('number of features')   \n"
   ]
  },
  {
   "cell_type": "code",
   "execution_count": 61,
   "id": "5465c41d",
   "metadata": {
    "scrolled": true
   },
   "outputs": [
    {
     "name": "stdout",
     "output_type": "stream",
     "text": [
      "['year', 'mileage', 'tax', 'mpg', 'engineSize', 'model_ A Class', 'model_ B Class', 'model_ E Class', 'model_ GLA Class', 'model_ GLC Class', 'model_ GLE Class', 'model_ GLS Class', 'model_ S Class', 'model_ SL CLASS', 'model_ SLK', 'model_ V Class', 'transmission_Manual', 'transmission_Semi-Auto', 'fuelType_Diesel', 'fuelType_Petrol']\n"
     ]
    }
   ],
   "source": [
    "selector = SelectKBest(f_regression, k = 20)\n",
    "X_train_transformed = selector.fit_transform(X_mercedes, y_mercedes)\n",
    "features_columns = column_names_mercedes[selector.get_support()]\n",
    "print(features_columns.to_numpy().tolist())"
   ]
  },
  {
   "cell_type": "code",
   "execution_count": 62,
   "id": "dd029371",
   "metadata": {},
   "outputs": [
    {
     "data": {
      "text/html": [
       "<div>\n",
       "<style scoped>\n",
       "    .dataframe tbody tr th:only-of-type {\n",
       "        vertical-align: middle;\n",
       "    }\n",
       "\n",
       "    .dataframe tbody tr th {\n",
       "        vertical-align: top;\n",
       "    }\n",
       "\n",
       "    .dataframe thead th {\n",
       "        text-align: right;\n",
       "    }\n",
       "</style>\n",
       "<table border=\"1\" class=\"dataframe\">\n",
       "  <thead>\n",
       "    <tr style=\"text-align: right;\">\n",
       "      <th></th>\n",
       "      <th>year</th>\n",
       "      <th>mileage</th>\n",
       "      <th>tax</th>\n",
       "      <th>mpg</th>\n",
       "      <th>engineSize</th>\n",
       "      <th>model_ A Class</th>\n",
       "      <th>model_ B Class</th>\n",
       "      <th>model_ E Class</th>\n",
       "      <th>model_ GLA Class</th>\n",
       "      <th>model_ GLC Class</th>\n",
       "      <th>model_ GLE Class</th>\n",
       "      <th>model_ GLS Class</th>\n",
       "      <th>model_ S Class</th>\n",
       "      <th>model_ SL CLASS</th>\n",
       "      <th>model_ SLK</th>\n",
       "      <th>model_ V Class</th>\n",
       "      <th>transmission_Manual</th>\n",
       "      <th>transmission_Semi-Auto</th>\n",
       "      <th>fuelType_Diesel</th>\n",
       "      <th>fuelType_Petrol</th>\n",
       "    </tr>\n",
       "  </thead>\n",
       "  <tbody>\n",
       "    <tr>\n",
       "      <th>0</th>\n",
       "      <td>2005</td>\n",
       "      <td>63000</td>\n",
       "      <td>325</td>\n",
       "      <td>32.1</td>\n",
       "      <td>1.8</td>\n",
       "      <td>0</td>\n",
       "      <td>0</td>\n",
       "      <td>0</td>\n",
       "      <td>0</td>\n",
       "      <td>0</td>\n",
       "      <td>0</td>\n",
       "      <td>0</td>\n",
       "      <td>0</td>\n",
       "      <td>0</td>\n",
       "      <td>1</td>\n",
       "      <td>0</td>\n",
       "      <td>0</td>\n",
       "      <td>0</td>\n",
       "      <td>0</td>\n",
       "      <td>1</td>\n",
       "    </tr>\n",
       "    <tr>\n",
       "      <th>1</th>\n",
       "      <td>2017</td>\n",
       "      <td>27000</td>\n",
       "      <td>20</td>\n",
       "      <td>61.4</td>\n",
       "      <td>2.1</td>\n",
       "      <td>0</td>\n",
       "      <td>0</td>\n",
       "      <td>0</td>\n",
       "      <td>0</td>\n",
       "      <td>0</td>\n",
       "      <td>0</td>\n",
       "      <td>0</td>\n",
       "      <td>1</td>\n",
       "      <td>0</td>\n",
       "      <td>0</td>\n",
       "      <td>0</td>\n",
       "      <td>0</td>\n",
       "      <td>0</td>\n",
       "      <td>0</td>\n",
       "      <td>0</td>\n",
       "    </tr>\n",
       "    <tr>\n",
       "      <th>2</th>\n",
       "      <td>2016</td>\n",
       "      <td>6200</td>\n",
       "      <td>555</td>\n",
       "      <td>28.0</td>\n",
       "      <td>5.5</td>\n",
       "      <td>0</td>\n",
       "      <td>0</td>\n",
       "      <td>0</td>\n",
       "      <td>0</td>\n",
       "      <td>0</td>\n",
       "      <td>0</td>\n",
       "      <td>0</td>\n",
       "      <td>0</td>\n",
       "      <td>1</td>\n",
       "      <td>0</td>\n",
       "      <td>0</td>\n",
       "      <td>0</td>\n",
       "      <td>0</td>\n",
       "      <td>0</td>\n",
       "      <td>1</td>\n",
       "    </tr>\n",
       "    <tr>\n",
       "      <th>6</th>\n",
       "      <td>2018</td>\n",
       "      <td>16000</td>\n",
       "      <td>145</td>\n",
       "      <td>47.9</td>\n",
       "      <td>2.1</td>\n",
       "      <td>0</td>\n",
       "      <td>0</td>\n",
       "      <td>0</td>\n",
       "      <td>0</td>\n",
       "      <td>0</td>\n",
       "      <td>1</td>\n",
       "      <td>0</td>\n",
       "      <td>0</td>\n",
       "      <td>0</td>\n",
       "      <td>0</td>\n",
       "      <td>0</td>\n",
       "      <td>0</td>\n",
       "      <td>0</td>\n",
       "      <td>1</td>\n",
       "      <td>0</td>\n",
       "    </tr>\n",
       "    <tr>\n",
       "      <th>7</th>\n",
       "      <td>2012</td>\n",
       "      <td>107000</td>\n",
       "      <td>265</td>\n",
       "      <td>36.7</td>\n",
       "      <td>3.5</td>\n",
       "      <td>0</td>\n",
       "      <td>0</td>\n",
       "      <td>0</td>\n",
       "      <td>0</td>\n",
       "      <td>0</td>\n",
       "      <td>0</td>\n",
       "      <td>0</td>\n",
       "      <td>1</td>\n",
       "      <td>0</td>\n",
       "      <td>0</td>\n",
       "      <td>0</td>\n",
       "      <td>0</td>\n",
       "      <td>0</td>\n",
       "      <td>0</td>\n",
       "      <td>1</td>\n",
       "    </tr>\n",
       "  </tbody>\n",
       "</table>\n",
       "</div>"
      ],
      "text/plain": [
       "   year  mileage  tax   mpg  engineSize  model_ A Class  model_ B Class  \\\n",
       "0  2005    63000  325  32.1         1.8               0               0   \n",
       "1  2017    27000   20  61.4         2.1               0               0   \n",
       "2  2016     6200  555  28.0         5.5               0               0   \n",
       "6  2018    16000  145  47.9         2.1               0               0   \n",
       "7  2012   107000  265  36.7         3.5               0               0   \n",
       "\n",
       "   model_ E Class  model_ GLA Class  model_ GLC Class  model_ GLE Class  \\\n",
       "0               0                 0                 0                 0   \n",
       "1               0                 0                 0                 0   \n",
       "2               0                 0                 0                 0   \n",
       "6               0                 0                 0                 1   \n",
       "7               0                 0                 0                 0   \n",
       "\n",
       "   model_ GLS Class  model_ S Class  model_ SL CLASS  model_ SLK  \\\n",
       "0                 0               0                0           1   \n",
       "1                 0               1                0           0   \n",
       "2                 0               0                1           0   \n",
       "6                 0               0                0           0   \n",
       "7                 0               1                0           0   \n",
       "\n",
       "   model_ V Class  transmission_Manual  transmission_Semi-Auto  \\\n",
       "0               0                    0                       0   \n",
       "1               0                    0                       0   \n",
       "2               0                    0                       0   \n",
       "6               0                    0                       0   \n",
       "7               0                    0                       0   \n",
       "\n",
       "   fuelType_Diesel  fuelType_Petrol  \n",
       "0                0                1  \n",
       "1                0                0  \n",
       "2                0                1  \n",
       "6                1                0  \n",
       "7                0                1  "
      ]
     },
     "execution_count": 62,
     "metadata": {},
     "output_type": "execute_result"
    }
   ],
   "source": [
    "data_mercedes_expanded_filtered = data_mercedes_expanded[features_columns.to_numpy().tolist()]\n",
    "data_mercedes_expanded_filtered.head()"
   ]
  },
  {
   "cell_type": "markdown",
   "id": "ed1e200c",
   "metadata": {},
   "source": [
    "Normalise features and convert to numpy:"
   ]
  },
  {
   "cell_type": "code",
   "execution_count": 63,
   "id": "d6ac1459",
   "metadata": {},
   "outputs": [
    {
     "name": "stdout",
     "output_type": "stream",
     "text": [
      "[[2.0050e+03 6.3000e+04 3.2500e+02 ... 0.0000e+00 0.0000e+00 1.0000e+00]\n",
      " [2.0170e+03 2.7000e+04 2.0000e+01 ... 0.0000e+00 0.0000e+00 0.0000e+00]\n",
      " [2.0160e+03 6.2000e+03 5.5500e+02 ... 0.0000e+00 0.0000e+00 1.0000e+00]\n",
      " ...\n",
      " [2.0190e+03 1.1612e+04 1.4500e+02 ... 0.0000e+00 1.0000e+00 0.0000e+00]\n",
      " [2.0190e+03 2.4260e+03 1.4500e+02 ... 0.0000e+00 1.0000e+00 0.0000e+00]\n",
      " [2.0190e+03 2.0750e+03 1.4500e+02 ... 0.0000e+00 1.0000e+00 0.0000e+00]]\n",
      "\n",
      "Normalized Mercedes dataset: \n",
      " [[-5.5063881   1.92461731  2.99362037 ... -1.04270993 -1.55636222\n",
      "   1.61036689]\n",
      " [-0.12362107  0.22662574 -1.67964527 ... -1.04270993 -1.55636222\n",
      "  -0.6209765 ]\n",
      " [-0.57218499 -0.75443605  6.51772233 ... -1.04270993 -1.55636222\n",
      "   1.61036689]\n",
      " ...\n",
      " [ 0.77350677 -0.49917132  0.23562754 ... -1.04270993  0.64252395\n",
      "  -0.6209765 ]\n",
      " [ 0.77350677 -0.93244217  0.23562754 ... -1.04270993  0.64252395\n",
      "  -0.6209765 ]\n",
      " [ 0.77350677 -0.94899759  0.23562754 ... -1.04270993  0.64252395\n",
      "  -0.6209765 ]]\n"
     ]
    }
   ],
   "source": [
    "mercedes_expanded_goodfeatures_numpy = data_mercedes_expanded_filtered.to_numpy()\n",
    "print(mercedes_expanded_goodfeatures_numpy)\n",
    "\n",
    "#normalize\n",
    "mu_mercedes_features = np.mean(mercedes_expanded_goodfeatures_numpy, axis=0)\n",
    "#print(mu_mercedes)\n",
    "sigma_mercedes_features = np.std(mercedes_expanded_goodfeatures_numpy, axis=0)\n",
    "#print(sigma_mercedes)\n",
    "mercedes_expanded_features_norm = (mercedes_expanded_goodfeatures_numpy - mu_mercedes_features) / sigma_mercedes_features\n",
    "print(\"\\nNormalized Mercedes dataset: \\n\",mercedes_expanded_features_norm)"
   ]
  },
  {
   "cell_type": "markdown",
   "id": "8c85d2a7",
   "metadata": {},
   "source": [
    "Paste 1's before continueing:"
   ]
  },
  {
   "cell_type": "code",
   "execution_count": 64,
   "id": "269c7768",
   "metadata": {},
   "outputs": [
    {
     "name": "stdout",
     "output_type": "stream",
     "text": [
      "[[ 1.         -5.5063881   1.92461731 ... -1.04270993 -1.55636222\n",
      "   1.61036689]\n",
      " [ 1.         -0.12362107  0.22662574 ... -1.04270993 -1.55636222\n",
      "  -0.6209765 ]\n",
      " [ 1.         -0.57218499 -0.75443605 ... -1.04270993 -1.55636222\n",
      "   1.61036689]\n",
      " ...\n",
      " [ 1.          0.77350677 -0.49917132 ... -1.04270993  0.64252395\n",
      "  -0.6209765 ]\n",
      " [ 1.          0.77350677 -0.93244217 ... -1.04270993  0.64252395\n",
      "  -0.6209765 ]\n",
      " [ 1.          0.77350677 -0.94899759 ... -1.04270993  0.64252395\n",
      "  -0.6209765 ]]\n"
     ]
    }
   ],
   "source": [
    "m_merc = y_mercedes.size #dataset size\n",
    "X_multi_not_norm = np.concatenate([np.ones((m_merc, 1)), mercedes_expanded_goodfeatures_numpy], axis=1)\n",
    "X_multi_merc = np.concatenate([np.ones((m_merc, 1)), mercedes_expanded_features_norm], axis=1)\n",
    "print(X_multi_merc)\n",
    "#print(mercedes_expanded_features_norm.shape)\n",
    "#print(m_merc)\n"
   ]
  },
  {
   "cell_type": "markdown",
   "id": "f929ad7d",
   "metadata": {},
   "source": [
    "Some functions to compute cost and gradient descent for multiple features:"
   ]
  },
  {
   "cell_type": "code",
   "execution_count": 65,
   "id": "59e5293c",
   "metadata": {},
   "outputs": [],
   "source": [
    "def computeCostMulti(X, y, theta):\n",
    "    \"\"\"\n",
    "    Compute cost for linear regression with multiple variables.\n",
    "    Computes the cost of using theta as the parameter for linear regression to fit the data points in X and y.\n",
    "    \n",
    "    Parameters\n",
    "    ----------\n",
    "    X : array_like\n",
    "        The dataset of shape (m x n+1).\n",
    "    \n",
    "    y : array_like\n",
    "        A vector of shape (m, ) for the values at a given data point.\n",
    "    \n",
    "    theta : array_like\n",
    "        The linear regression parameters. A vector of shape (n+1, )\n",
    "    \n",
    "    Returns\n",
    "    -------\n",
    "    J : float\n",
    "        The value of the cost function. \n",
    "    \n",
    "    Instructions\n",
    "    ------------\n",
    "    Compute the cost of a particular choice of theta. You should set J to the cost.\n",
    "    \"\"\"\n",
    "    # Initialize some useful values\n",
    "    m = y.shape[0] # number of training examples\n",
    "    \n",
    "    # You need to return the following variable correctly\n",
    "    J = 0\n",
    "    \n",
    "    # ======================= YOUR CODE HERE ===========================\n",
    "    h = np.dot(X, theta)\n",
    "    \n",
    "    J = (1/(2 * m)) * np.sum(np.square(np.dot(X, theta) - y))\n",
    "\n",
    "    # ==================================================================\n",
    "    return J\n",
    "\n",
    "def gradientDescentMulti(X, y, theta, alpha, num_iters):\n",
    "    \"\"\"\n",
    "    Performs gradient descent to learn theta.\n",
    "    Updates theta by taking num_iters gradient steps with learning rate alpha.\n",
    "        \n",
    "    Parameters\n",
    "    ----------\n",
    "    X : array_like\n",
    "        The dataset of shape (m x n+1).\n",
    "    \n",
    "    y : array_like\n",
    "        A vector of shape (m, ) for the values at a given data point.\n",
    "    \n",
    "    theta : array_like\n",
    "        The linear regression parameters. A vector of shape (n+1, )\n",
    "    \n",
    "    alpha : float\n",
    "        The learning rate for gradient descent. \n",
    "    \n",
    "    num_iters : int\n",
    "        The number of iterations to run gradient descent. \n",
    "    \n",
    "    Returns\n",
    "    -------\n",
    "    theta : array_like\n",
    "        The learned linear regression parameters. A vector of shape (n+1, ).\n",
    "    \n",
    "    J_history : list\n",
    "        A python list for the values of the cost function after each iteration.\n",
    "    \n",
    "    Instructions\n",
    "    ------------\n",
    "    Peform a single gradient step on the parameter vector theta.\n",
    "\n",
    "    While debugging, it can be useful to print out the values of \n",
    "    the cost function (computeCost) and gradient here.\n",
    "    \"\"\"\n",
    "    # Initialize some useful values\n",
    "    m = y.shape[0] # number of training examples\n",
    "    \n",
    "    # make a copy of theta, which will be updated by gradient descent\n",
    "    theta = theta.copy()\n",
    "    \n",
    "    J_history = []\n",
    "    \n",
    "    for i in range(num_iters):\n",
    "        # ======================= YOUR CODE HERE ==========================\n",
    "\n",
    "        theta = theta - (alpha / m) * (np.dot(X, theta) - y).dot(X)\n",
    "        # =================================================================\n",
    "        \n",
    "        # save the cost J in every iteration\n",
    "        J_history.append(computeCostMulti(X, y, theta))\n",
    "    \n",
    "    return theta, J_history\n"
   ]
  },
  {
   "cell_type": "code",
   "execution_count": 81,
   "id": "0787a836",
   "metadata": {},
   "outputs": [
    {
     "name": "stdout",
     "output_type": "stream",
     "text": [
      "[20733.08796152  3269.99932676 -2812.16639699   225.9118981\n",
      " -1321.52302872  2437.85811083  -935.13450911  -751.65248853\n",
      "   423.20288527  -617.69973578  1190.62708394  1682.67485269\n",
      "   768.01937342  1008.38075077   195.63603179  -247.08330442\n",
      "   733.56991268  -779.25188244   254.00879727  -410.71242857\n",
      "    48.63477486]\n"
     ]
    }
   ],
   "source": [
    "\"\"\"\n",
    "# initialize fitting parameters\n",
    "theta_multivariate_merc = np.zeros(26)\n",
    "\n",
    "# some gradient descent settings\n",
    "iterations = 100000\n",
    "alpha = 0.1\n",
    "\n",
    "theta_multivariate_merc, J_history_multi = gradientDescentMulti(X_multi_merc ,y_mercedes, theta_multivariate_merc, alpha, iterations)\n",
    "print('Theta found by gradient descent: {:.4f}, {:.4f}'.format(*theta_multivariate_merc))\n",
    "\n",
    "lambda_ = 0\n",
    "theta_multi = trainLinearReg(computeCostMulti, X_multi_merc, y_mercedes,\n",
    "                             lambda_=lambda_, maxiter=1000)\n",
    "print(theta_multi)\n",
    "\"\"\"\n",
    "\n",
    "\n",
    "# Choose some alpha value - change this\n",
    "alpha = 0.01\n",
    "num_iters = 200\n",
    "\n",
    "# init theta and run gradient descent\n",
    "theta_multi = np.zeros(21)\n",
    "theta_multi, J_history = gradientDescentMulti(X_multi_merc, y_mercedes_not_norm, theta_multi, alpha, num_iters)\n",
    "print(theta_multi)\n"
   ]
  },
  {
   "cell_type": "code",
   "execution_count": 82,
   "id": "0065c32e",
   "metadata": {},
   "outputs": [
    {
     "name": "stdout",
     "output_type": "stream",
     "text": [
      "19216.746926106563\n"
     ]
    },
    {
     "data": {
      "text/plain": [
       "Text(0, 0.5, 'Cost J')"
      ]
     },
     "execution_count": 82,
     "metadata": {},
     "output_type": "execute_result"
    },
    {
     "data": {
      "image/png": "[encoded data removed]",
      "text/plain": [
       "<Figure size 432x288 with 1 Axes>"
      ]
     },
     "metadata": {
      "needs_background": "light"
     },
     "output_type": "display_data"
    }
   ],
   "source": [
    "#['year', 'mileage', 'tax', 'mpg', 'engineSize', 'model_ A Class', \n",
    "#'model_ B Class', 'model_ E Class', 'model_ GLA Class', 'model_ GLC Class', \n",
    "#'model_ GLE Class', 'model_ GLS Class', 'model_ S Class', \n",
    "#'model_ SL CLASS', 'model_ SLK', 'model_ V Class', \n",
    "#'transmission_Manual', 'transmission_Semi-Auto', 'fuelType_Diesel', \n",
    "#'fuelType_Petrol']\n",
    "X_prediction = [1, 2019, 9573, 145, 45.6, 1.3, 0, 1, 0, 0, 0, 0, 0, 0, 0, 0, 0, 0, 0, 0, 1] \n",
    "X_prediction[1:21] = (X_prediction[1:21] - mu_mercedes_features) / sigma_mercedes_features\n",
    "#print(np.array(X_prediction).shape)\n",
    "price = np.dot(X_prediction, theta_multi)\n",
    "print(price)\n",
    "\n",
    "pyplot.plot(np.arange(len(J_history)), J_history, lw=2)\n",
    "pyplot.xlabel('Number of iterations')\n",
    "pyplot.ylabel('Cost J')"
   ]
  },
  {
   "cell_type": "code",
   "execution_count": 68,
   "id": "22886ab6",
   "metadata": {},
   "outputs": [],
   "source": [
    "def regression_model(model):\n",
    "    regressor = model\n",
    "    regressor.fit(X_multi_merc, y_mercedes)\n",
    "    score = regressor.score(X_multi_merc, y_mercedes)\n",
    "    return regressor, score"
   ]
  },
  {
   "cell_type": "code",
   "execution_count": 90,
   "id": "3c74968b",
   "metadata": {},
   "outputs": [
    {
     "name": "stdout",
     "output_type": "stream",
     "text": [
      "[-3559.50303491 28402.32789049 42804.13872468 ... 30217.63168176\n",
      " 26010.26037829 38695.62678945]\n",
      "0.6693308799696075\n"
     ]
    }
   ],
   "source": [
    "#regressor, score = regression_model(LinearRegression())\n",
    "\n",
    "y_pred = np.dot(X_multi_merc, theta_multi)\n",
    "score = r2_score(y_mercedes_not_norm, y_pred)\n",
    "\n",
    "\n",
    "print(score)"
   ]
  },
  {
   "cell_type": "markdown",
   "id": "c1ea4f13",
   "metadata": {},
   "source": [
    "#### Error histogram"
   ]
  },
  {
   "cell_type": "code",
   "execution_count": 91,
   "id": "4b3f7a99",
   "metadata": {},
   "outputs": [
    {
     "name": "stdout",
     "output_type": "stream",
     "text": [
      "[ 5200. 34948. 49948. ... 30999. 37990. 54999.]\n"
     ]
    },
    {
     "data": {
      "text/plain": [
       "(array([1.1442e+04, 1.3100e+03, 1.6000e+02, 2.9000e+01, 1.0000e+00,\n",
       "        0.0000e+00, 0.0000e+00, 0.0000e+00, 0.0000e+00, 1.0000e+00]),\n",
       " array([5.60503048e-02, 8.05837542e+03, 1.61166948e+04, 2.41750141e+04,\n",
       "        3.22333335e+04, 4.02916529e+04, 4.83499722e+04, 5.64082916e+04,\n",
       "        6.44666110e+04, 7.25249303e+04, 8.05832497e+04]),\n",
       " <BarContainer object of 10 artists>)"
      ]
     },
     "execution_count": 91,
     "metadata": {},
     "output_type": "execute_result"
    },
    {
     "data": {
      "image/png": "[encoded data removed]",
      "text/plain": [
       "<Figure size 432x288 with 1 Axes>"
      ]
     },
     "metadata": {
      "needs_background": "light"
     },
     "output_type": "display_data"
    }
   ],
   "source": [
    "#error = np.abs(y_pred - y_mercedes)\n",
    "#print(error)\n",
    "#pyplot.hist(error)\n",
    "\n",
    "print(y_mercedes_not_norm)\n",
    "error = np.abs(y_mercedes_not_norm - y_pred)\n",
    "pyplot.hist(error)"
   ]
  },
  {
   "cell_type": "code",
   "execution_count": 77,
   "id": "f0cf64e4",
   "metadata": {},
   "outputs": [],
   "source": [
    "def normalEqn(X, y):\n",
    "    \"\"\"\n",
    "    Computes the closed-form solution to linear regression using the normal equations.\n",
    "    \n",
    "    Parameters\n",
    "    ----------\n",
    "    X : array_like\n",
    "        The dataset of shape (m x n+1).\n",
    "    \n",
    "    y : array_like\n",
    "        The value at each data point. A vector of shape (m, ).\n",
    "    \n",
    "    Returns\n",
    "    -------\n",
    "    theta : array_like\n",
    "        Estimated linear regression parameters. A vector of shape (n+1, ).\n",
    "    \n",
    "    Instructions\n",
    "    ------------\n",
    "    Complete the code to compute the closed form solution to linear\n",
    "    regression and put the result in theta.\n",
    "    \n",
    "    Hint\n",
    "    ----\n",
    "    Look up the function `np.linalg.pinv` for computing matrix inverse.\n",
    "    \"\"\"\n",
    "    theta = np.zeros(X.shape[1])\n",
    "    \n",
    "    # ===================== YOUR CODE HERE ============================\n",
    "    theta = np.dot(np.dot(np.linalg.inv(np.dot(X.T,X)),X.T),y)\n",
    "    \n",
    "    # =================================================================\n",
    "    return theta"
   ]
  },
  {
   "cell_type": "code",
   "execution_count": 79,
   "id": "b94635c3",
   "metadata": {},
   "outputs": [
    {
     "name": "stdout",
     "output_type": "stream",
     "text": [
      "[-3.55339445e+06  1.77941186e+03 -1.27684107e-01 -7.05802607e+00\n",
      " -1.61226057e+02  5.69979828e+03 -1.33640130e+03 -3.13626629e+03\n",
      "  1.75244068e+03 -2.03047362e+03  4.78378573e+03  8.97940409e+03\n",
      "  1.04959230e+04  9.04421473e+03  1.65176930e+03  1.35389300e+03\n",
      "  5.57469664e+03 -1.96146928e+03  9.29681907e+01 -1.19063327e+04\n",
      " -1.17487145e+04]\n",
      "22165.202993260697\n"
     ]
    }
   ],
   "source": [
    "# Calculate the parameters from the normal equation\n",
    "theta = normalEqn(X_multi_not_norm, mercedes_expanded_numpy[:,1]);\n",
    "\n",
    "# Display normal equation's result\n",
    "print(theta);\n",
    "\n",
    "# Estimate the price of a 1650 sq-ft, 3 br house\n",
    "# ====================== YOUR CODE HERE ======================\n",
    "\n",
    "#['year', 'mileage', 'tax', 'mpg', 'engineSize', 'model_ A Class', \n",
    "#'model_ B Class', 'model_ E Class', 'model_ GLA Class', 'model_ GLC Class', \n",
    "#'model_ GLE Class', 'model_ GLS Class', 'model_ S Class', \n",
    "#'model_ SL CLASS', 'model_ SLK', 'model_ V Class', \n",
    "#'transmission_Manual', 'transmission_Semi-Auto', 'fuelType_Diesel', \n",
    "#'fuelType_Petrol']\n",
    "\n",
    "X_prediction = [1, 2019, 9573, 145, 45.6, 1.3, 0, 1, 0, 0, 0, 0, 0, 0, 0, 0, 0, 0, 0, 0, 1] \n",
    "#X_prediction[1:21] = (X_prediction[1:21] - mu_mercedes_features) / sigma_mercedes_features\n",
    "price = np.dot(X_prediction, theta) # You should change this\n",
    "\n",
    "# ============================================================\n",
    "\n",
    "print(price)"
   ]
  },
  {
   "cell_type": "code",
   "execution_count": null,
   "id": "b7dadfd8",
   "metadata": {},
   "outputs": [],
   "source": []
  },
  {
   "cell_type": "code",
   "execution_count": null,
   "id": "d945d18d",
   "metadata": {},
   "outputs": [],
   "source": []
  }
 ],
 "metadata": {
  "kernelspec": {
   "display_name": "Python 3",
   "language": "python",
   "name": "python3"
  },
  "language_info": {
   "codemirror_mode": {
    "name": "ipython",
    "version": 3
   },
   "file_extension": ".py",
   "mimetype": "text/x-python",
   "name": "python",
   "nbconvert_exporter": "python",
   "pygments_lexer": "ipython3",
   "version": "3.8.8"
  }
 },
 "nbformat": 4,
 "nbformat_minor": 5
}
